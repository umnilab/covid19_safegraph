{
 "cells": [
  {
   "cell_type": "markdown",
   "metadata": {},
   "source": [
    "# Prepare county-wise data\n",
    "First created: **11 July 2020** by Rajat Verma\n",
    "\n",
    "Process the entire (relevant) SafeGraph data and split it into subsets specific\n",
    "for each county in the U.S. and save them to disk. This involves reading and\n",
    "converting the data into useful tabular structures for each time interval (for\n",
    "time series data) and store as pickle files in folders for each county nested\n",
    "under their state. This is useful for quick indexing and filtering of data\n",
    "based on space, although it also means disaggregating the data into thousands\n",
    "of smaller pieces, making it difficult to operate on them.\n",
    "\n",
    "**Steps**:\n",
    "- Prepare the constant data tables like FIPS-zip code lookup & POI ID mapping\n",
    "- For each week, read the patterns file into chunks (could not find any good\n",
    "    faster alternative), format them for faster use and storage, and convert\n",
    "    their `home_visitor_cbgs` column to an OD table.\n",
    "- Do the same for the daily social distancing data (no chunking required here).\n",
    "    Also convert its `dest_cbgs` column to a corresponding OD table.\n",
    "- Parallelize these heavy operations, wherever applicable, with Python's\n",
    "    `multiprocessing` package (with 4 processes, one per core).\n",
    "    \n",
    "    \n",
    "**File structure**:\n",
    "- `~/county_wise/`: root directory of the county-wise data.\n",
    "    - `<state FIPS code>/`\n",
    "        - `<county FIPS code>/`\n",
    "            - ...\n",
    "        - `geometry/`: geographic info of the region\n",
    "            - `state_shapefile/`: contains the shapefile of the state with resolution being census block group (**CBG**), downloaded from [census.gov](https://www.census.gov/cgi-bin/geo/shapefiles/index.php?year=2019&layergroup=Block+Groups)\n",
    "            - `region_shapefile/`: filtered for the region. Notably, it includes the field `CBG_CODE`, concatenated from FIPS codes of other fields.\n",
    "        - `month/` & `week/`: data specific to this time scale (called `scope` here)\n",
    "            - `patterns.pickle`: main patterns file, formatted and optimized for minimum disk space\n",
    "            - `home_cbgs.pickle` (& `work_cbgs.pickle` wherever available): long format tables showing interaction between home/work CBGs of visitors to different POIs"
   ]
  },
  {
   "cell_type": "markdown",
   "metadata": {},
   "source": [
    "## Imports"
   ]
  },
  {
   "cell_type": "code",
   "execution_count": 95,
   "metadata": {},
   "outputs": [],
   "source": [
    "import pandas as pd\n",
    "import numpy as np\n",
    "import pickle\n",
    "import os\n",
    "import glob\n",
    "import ujson\n",
    "from tqdm.notebook import tqdm\n",
    "from multiprocessing import Pool\n",
    "import matplotlib.pyplot as plt\n",
    "# import dask.dataframe as dd\n",
    "# from dask.distributed import Client\n",
    "# import swifter"
   ]
  },
  {
   "cell_type": "markdown",
   "metadata": {},
   "source": [
    "# I/O operations\n",
    "Create the county-wise directories and create routines for organizing data in these folders."
   ]
  },
  {
   "cell_type": "markdown",
   "metadata": {},
   "source": [
    "## Inputs"
   ]
  },
  {
   "cell_type": "code",
   "execution_count": 2,
   "metadata": {},
   "outputs": [],
   "source": [
    "# root directory of the data\n",
    "data_dir = '/Volumes/Seagate_RV/Research_Data/SG_Covid19'"
   ]
  },
  {
   "cell_type": "code",
   "execution_count": 15,
   "metadata": {},
   "outputs": [],
   "source": [
    "# relevant paths/file parts\n",
    "io = {\n",
    "    # CSV of FIPS code details (also includes zip codes)\n",
    "    'fips': data_dir + '/census/county_fips_codes.csv',\n",
    "    # base directory of the county data (contains folder for each state)\n",
    "    'cnty_root': data_dir + '/county_wise',\n",
    "    \n",
    "    # mapping b/w SafeGraph's POI IDs & local (shrunk) POI IDs used\n",
    "    'poi_ids': data_dir + '/places/poi_ids.pickle',\n",
    "    # path format of the CSV files containing the POI information\n",
    "    'poi_csv': data_dir + '/places/core_poi/core_poi-part{}.csv',\n",
    "    # file containing geometric properties of POIs such as area\n",
    "    'poi_geom': data_dir + '/places/SafeGraphPlacesGeoSupplementSqFt.csv',\n",
    "    # mapping between zip & fips codes\n",
    "    'zip2fips': data_dir + '/census/county_zip_fips_2018-03.csv',\n",
    "    \n",
    "    # ACS (census) data file, indexed by subject number (e.g. age:01, commute:17)\n",
    "    'acs_csv': data_dir + '/census/by_subject/cbg_b{}.csv',\n",
    "\n",
    "    # path format of the weekly pattern csv.gz file\n",
    "    'pat_csv': data_dir + '/weekly_patterns/main_files/{}-weekly-patterns.csv.gz',\n",
    "    # file part for processed patterns table, to be used in `distr_by_cnty`\n",
    "    'pat_cnty_fpart': 'patterns/patterns_{}',\n",
    "    # same as `pat_fpart` but for the OD table of the patterns data\n",
    "    'homes_cnty_fpart': 'homes/homes_{}',\n",
    "\n",
    "    # base directory of the social distancing data\n",
    "    'social_root': data_dir + '/social_distancing',\n",
    "    # path of the social distancing data file referred by date\n",
    "    'social_data_file': data_dir + '/social_distancing/{}/{}' +\n",
    "                        '-social-distancing.csv.gz',\n",
    "    # file part for processed main social distancing table,\n",
    "    # to be used in `distr_by_cnty`\n",
    "    'social_cnty_fpart': 'social_dist/social_dist_{}',\n",
    "    # same as `social_cnty_fpart` but for the OD table of the social dist data\n",
    "    'social_od_cnty_fpart': 'social_od/social_od_{}',\n",
    "    \n",
    "    # R_t data file\n",
    "    'rt_csv': data_dir + '/health_cases/rt_values/clean_data/rt_table_export.csv',\n",
    "    # more detailed positive & death cases file\n",
    "    'confirmed_csv': data_dir + '/health_cases/csse_jhu/csse_covid_19_data/csse_covid_19_time_series/time_series_covid19_confirmed_US.csv',\n",
    "    'deaths_csv': data_dir + '/health_cases/csse_jhu/csse_covid_19_data/csse_covid_19_time_series/time_series_covid19_deaths_US.csv'\n",
    "}"
   ]
  },
  {
   "cell_type": "markdown",
   "metadata": {},
   "source": [
    "## Create directories"
   ]
  },
  {
   "cell_type": "code",
   "execution_count": 4,
   "metadata": {},
   "outputs": [],
   "source": [
    "# read the state fips codes\n",
    "fips = pd.read_csv(io['fips'])"
   ]
  },
  {
   "cell_type": "markdown",
   "metadata": {},
   "source": [
    "`create_cnty_dir()`"
   ]
  },
  {
   "cell_type": "code",
   "execution_count": 5,
   "metadata": {},
   "outputs": [],
   "source": [
    "def create_cnty_dir(root, fips, use_abbr=False):\n",
    "    \"\"\"\n",
    "    Create the directories of counties nested inside states.\n",
    "    \n",
    "    @param root: <str> base directory (should be empty)\n",
    "    @param fips: <pd.df> table containing FIPS codes of states & counties\n",
    "    @param use_abbr: <bool> if true, use state initials, else use fips codes\n",
    "    \"\"\"\n",
    "    state_col = 'state' if use_abbr else 'state_fips'\n",
    "    for name, df in fips.groupby(state_col):\n",
    "        if isinstance(name, int):\n",
    "            name = f'{name:02}'\n",
    "        state_path = f'{root}/{name}'\n",
    "        if not os.path.exists(state_path):\n",
    "            os.mkdir(state_path)\n",
    "        for i, cnty in df.iterrows():\n",
    "            cnty_path = f'{state_path}/{cnty[\"county_fips\"]:03}'\n",
    "            if not os.path.exists(cnty_path):\n",
    "                os.mkdir(cnty_path)"
   ]
  },
  {
   "cell_type": "code",
   "execution_count": 6,
   "metadata": {},
   "outputs": [
    {
     "name": "stdout",
     "output_type": "stream",
     "text": [
      "CPU times: user 2 µs, sys: 1 µs, total: 3 µs\n",
      "Wall time: 3.81 µs\n"
     ]
    }
   ],
   "source": [
    "%%time\n",
    "# create_cnty_dir(cnty_root, fips)"
   ]
  },
  {
   "cell_type": "markdown",
   "metadata": {},
   "source": [
    "## Organize"
   ]
  },
  {
   "cell_type": "markdown",
   "metadata": {},
   "source": [
    "### Distribute data among counties\n",
    "`distr_by_cnty()`"
   ]
  },
  {
   "cell_type": "code",
   "execution_count": 333,
   "metadata": {},
   "outputs": [],
   "source": [
    "def distr_by_cnty(data, fname, cbg_col='cbg', root=io['cnty_root'],\n",
    "                  mode='write', drop_cbg=False, ftype='pickle'):\n",
    "    \"\"\"\n",
    "    Given a dataframe that contains a field `cbg` <int64>, split the data by\n",
    "    state & county and save the splits in their respective folders as pickles.\n",
    "\n",
    "    @param data: <pd.df> table to be split\n",
    "    @param fname: <str> target filename (same for all files)\n",
    "    @param cbg_col: <str> name of the column that contains CBG code\n",
    "    @param mode: <str> file mode: 'write' or 'append' the data\n",
    "    @param root: <io> root of the state-county structure\n",
    "    @param drop_cbg: <bool> whether remove the `cbg` column from result\n",
    "    @param ftype: <str> type of output file: either 'csv' or 'pickle'\n",
    "    @return nothing\n",
    "    \"\"\"\n",
    "    # add the state & county columns (in-place) using CBG if they don't exist\n",
    "    if 'state' not in data.columns and 'cnty' not in data.columns:\n",
    "        data['state'] = (data[cbg_col] // 1e10).astype(int)\n",
    "        data['cnty'] = (data[cbg_col] // 1e7 % 1e3).astype(int)\n",
    "\n",
    "    for (state, cnty), df in data.groupby(['state', 'cnty']):\n",
    "\n",
    "        # remove columns & reindex\n",
    "        drop_cols = ['state', 'cnty'] + ([cbg_col] if drop_cbg else [])\n",
    "        df = df.drop(columns=drop_cols).reset_index(drop=True)\n",
    "\n",
    "        # specify the name of the ACS file\n",
    "        file = f'{root}/{state:02}/{cnty:03}/{fname}.{ftype}'\n",
    "\n",
    "        # create base folder if it does not exist\n",
    "        dir_ = os.path.dirname(file)\n",
    "        if not os.path.exists(dir_):\n",
    "            os.makedirs(dir_)\n",
    "\n",
    "        # pickle it, catching filenotfound errors\n",
    "        try:\n",
    "            if mode == 'write' or not os.path.exists(file):\n",
    "                if ftype == 'pickle':\n",
    "                    df.to_pickle(file)\n",
    "                elif ftype == 'csv':\n",
    "                    df.to_csv(file, index=False)\n",
    "            if mode == 'append':\n",
    "                if ftype == 'pickle':\n",
    "                    # read the existing dataframe\n",
    "                    current = pd.read_pickle(file)\n",
    "                    # append rows of the created table\n",
    "                    new = pd.concat([current, df], axis=0, ignore_index=True)\n",
    "                    # pickle the modified table\n",
    "                    new.to_pickle(file)\n",
    "\n",
    "        except FileNotFoundError as e:\n",
    "            print(e)"
   ]
  },
  {
   "cell_type": "markdown",
   "metadata": {},
   "source": [
    "### Clear data from counties\n",
    "`clear_by_cnty()`"
   ]
  },
  {
   "cell_type": "code",
   "execution_count": 8,
   "metadata": {},
   "outputs": [],
   "source": [
    "def clear_by_cnty(fname, root=io['cnty_root'], counties=[]):\n",
    "    \"\"\"\n",
    "    Remove existing data files within counties, optionally specifically for\n",
    "    the given counties.\n",
    "    \n",
    "    @param fname: <str> file name of the target file\n",
    "    @param root: <str> path of the county data root directory\n",
    "    @param counties: <[(int, int)]> list of CBGs whose county data is to be\n",
    "        removed, given as tuple of state & cty FIPS code; if none, remove\n",
    "        from all counties\n",
    "    @return num_removed_files: <int> no. of removed files\n",
    "    \"\"\"\n",
    "    num_removed_files = 0\n",
    "    if len(counties) > 0:\n",
    "        for (state, cty) in counties:\n",
    "            file = f'{root}/{state:02}/{cty:03}/{fname}'\n",
    "            if os.path.exists(file):\n",
    "                os.remove(file)\n",
    "                num_removed_files += 1\n",
    "    else:\n",
    "        for file in glob.iglob(f'{root}/*/*/{fname}'):\n",
    "            if os.path.exists(file):\n",
    "                os.remove(file)\n",
    "                num_removed_files += 1\n",
    "    return num_removed_files"
   ]
  },
  {
   "cell_type": "markdown",
   "metadata": {},
   "source": [
    "### Arrange files by folder\n",
    "`organize_by_cnty()`"
   ]
  },
  {
   "cell_type": "code",
   "execution_count": 9,
   "metadata": {},
   "outputs": [],
   "source": [
    "def organize_by_cnty(name, root=io['cnty_root']):\n",
    "    \"\"\"\n",
    "    Move all files starting with a given name in all counties into a folder\n",
    "    of that name within that county.\n",
    "    \n",
    "    @param name: <str> file part to be organized (same as folder name)\n",
    "    @param root: <str> root directory of the county-wise data\n",
    "    @return: nothing\n",
    "    \"\"\"\n",
    "    for cnty_dir in glob.iglob(f'{root}/*/*'):\n",
    "        files = glob.iglob(cnty_dir + f'/{name}_*')\n",
    "        dir_ = f'{cnty_dir}/{name}'\n",
    "        if not os.path.exists(dir_):\n",
    "            os.makedirs(dir_)\n",
    "        for file in files:\n",
    "            os.rename(file, f'{dir_}/{os.path.basename(file)}')"
   ]
  },
  {
   "cell_type": "markdown",
   "metadata": {},
   "source": [
    "## Parallelize operations\n",
    "`parallelize()`"
   ]
  },
  {
   "cell_type": "code",
   "execution_count": 10,
   "metadata": {},
   "outputs": [],
   "source": [
    "def parallelize(func, iterable, nProcesses=4):\n",
    "    \"\"\"\n",
    "    Parallelize a process involving data processing.\n",
    "    \n",
    "    @param func: <func> the function to be applied to each item of the iterable\n",
    "    @param iterable: <iterable> iterable to be iterated over\n",
    "    @param nProcesses: <int> no. of parallel processes to be created\n",
    "    @return: nothing\n",
    "    \"\"\"\n",
    "    pool = Pool(nProcesses)\n",
    "    pool.map(func, iterable)\n",
    "    pool.close()\n",
    "    pool.join()"
   ]
  },
  {
   "cell_type": "markdown",
   "metadata": {},
   "source": [
    "---\n",
    "# Places data"
   ]
  },
  {
   "cell_type": "markdown",
   "metadata": {},
   "source": [
    "## Inputs"
   ]
  },
  {
   "cell_type": "code",
   "execution_count": 11,
   "metadata": {},
   "outputs": [],
   "source": [
    "poi_cols = {\n",
    "    'safegraph_place_id': [str, 'sg_poi_id'],\n",
    "#     'brands': ['category', 'brand'],\n",
    "    'naics_code': [np.int32, 'naics'],\n",
    "    'latitude': [np.float32, 'lat'],\n",
    "    'longitude': [np.float32, 'lon'],\n",
    "    'postal_code': [np.int32, 'zip_code'],\n",
    "#     'category_tags': ['category', 'sg_food_categ'],\n",
    "}"
   ]
  },
  {
   "cell_type": "code",
   "execution_count": 12,
   "metadata": {},
   "outputs": [],
   "source": [
    "poi_files = [io['poi_csv'].format(i) for i in range(1, 6)]"
   ]
  },
  {
   "cell_type": "markdown",
   "metadata": {},
   "source": [
    "## Get the POI data\n",
    "`get_poi_info()`"
   ]
  },
  {
   "cell_type": "code",
   "execution_count": 13,
   "metadata": {},
   "outputs": [],
   "source": [
    "def get_poi_info(files, cols):\n",
    "    \"\"\"\n",
    "    Read and format the overall POI data and create an index frame\n",
    "    for referencing in the future.\n",
    "    \n",
    "    @param files: <[str]> list of POI data files\n",
    "    @param cols: <{str: []}> columns to be read, along with dtypes & new names\n",
    "    @return pois: <pd.df> main POI data table\n",
    "    @return ids: <pd.df> index table showing original SG ids & their short versions\n",
    "    \"\"\"\n",
    "    # read the POI data\n",
    "    pois = pd.DataFrame()\n",
    "    for file in files:\n",
    "        df = pd.read_csv(file, usecols=cols.keys()).fillna(0)\\\n",
    "            .astype({k: v[0] for k, v in cols.items()})\\\n",
    "            .rename(columns={k: v[1] for k, v in cols.items()})\n",
    "        pois = pois.append(df, ignore_index=True)\n",
    "        \n",
    "    # pop & convert ID to categorical\n",
    "    ids = pois.pop('sg_poi_id').to_frame().reset_index(drop=True)\n",
    "    ids['poi_id'] = ids['sg_poi_id'].astype('category').cat.codes\n",
    "    ids = ids.set_index('sg_poi_id')\n",
    "    pois.insert(0, 'poi_id', ids['poi_id'].values)\n",
    "    \n",
    "    return pois, ids"
   ]
  },
  {
   "cell_type": "code",
   "execution_count": 98,
   "metadata": {},
   "outputs": [
    {
     "name": "stdout",
     "output_type": "stream",
     "text": [
      "CPU times: user 24.3 s, sys: 1.42 s, total: 25.7 s\n",
      "Wall time: 25.7 s\n"
     ]
    }
   ],
   "source": [
    "%%time\n",
    "pois, poi_ids = get_poi_info(poi_files, poi_cols)"
   ]
  },
  {
   "cell_type": "markdown",
   "metadata": {},
   "source": [
    "## Add CBG info\n",
    "This is an approximation of getting the CBG code by reading any arbitrary weekly pattern file and only looking at its POIs. It is observed that most patterns files have ~3.9M POIs out of a total ~5.3M POIs from `get_poi_info()`, so it should be an acceptable data loss. "
   ]
  },
  {
   "cell_type": "markdown",
   "metadata": {},
   "source": [
    "`add_cbg_info()`"
   ]
  },
  {
   "cell_type": "code",
   "execution_count": 171,
   "metadata": {},
   "outputs": [],
   "source": [
    "def add_cbg_info(week_str):\n",
    "    # resolve the filepath\n",
    "    file = f'{data_dir}/weekly_patterns/main_files/' +\\\n",
    "        f'{week_str}-weekly-patterns.csv.gz'\n",
    "    \n",
    "    # read the relevant columns of the POI data\n",
    "    pat = pd.read_csv(file)[['safegraph_place_id', 'poi_cbg']]\n",
    "    \n",
    "    # join these tables & format the table\n",
    "    join = pd.concat([pois, poi_ids.reset_index()], axis=1)\\\n",
    "        .merge(pat, left_on='sg_poi_id', right_on='safegraph_place_id')\\\n",
    "        .drop(columns=['safegraph_place_id', 'sg_poi_id'])\\\n",
    "        .dropna().astype({'poi_cbg': np.int64})\n",
    "    \n",
    "    # remove the duplicate columns\n",
    "    join = join.loc[:, ~join.columns.duplicated()]\n",
    "    \n",
    "    return join"
   ]
  },
  {
   "cell_type": "code",
   "execution_count": 157,
   "metadata": {},
   "outputs": [
    {
     "name": "stdout",
     "output_type": "stream",
     "text": [
      "CPU times: user 1min 26s, sys: 4.56 s, total: 1min 30s\n",
      "Wall time: 1min 31s\n"
     ]
    }
   ],
   "source": [
    "%%time\n",
    "pois_new = add_cbg_info('2020-01-06')"
   ]
  },
  {
   "cell_type": "markdown",
   "metadata": {},
   "source": [
    "## Save the data"
   ]
  },
  {
   "cell_type": "markdown",
   "metadata": {},
   "source": [
    "### POI IDs"
   ]
  },
  {
   "cell_type": "code",
   "execution_count": 23,
   "metadata": {},
   "outputs": [
    {
     "name": "stdout",
     "output_type": "stream",
     "text": [
      "CPU times: user 11.2 s, sys: 296 ms, total: 11.5 s\n",
      "Wall time: 11.6 s\n"
     ]
    }
   ],
   "source": [
    "%%time\n",
    "# save POI IDs to a single file\n",
    "poi_ids.to_pickle(io['poi_ids'])"
   ]
  },
  {
   "cell_type": "markdown",
   "metadata": {},
   "source": [
    "### Distribute POI data county-wise"
   ]
  },
  {
   "cell_type": "code",
   "execution_count": 161,
   "metadata": {},
   "outputs": [
    {
     "name": "stdout",
     "output_type": "stream",
     "text": [
      "CPU times: user 7.38 s, sys: 10.2 s, total: 17.6 s\n",
      "Wall time: 3min 56s\n"
     ]
    }
   ],
   "source": [
    "%%time\n",
    "distr_by_cnty(pois_new, 'places', cbg_col='poi_cbg')"
   ]
  },
  {
   "cell_type": "markdown",
   "metadata": {},
   "source": [
    "## Add geometric properties (area)"
   ]
  },
  {
   "cell_type": "code",
   "execution_count": 11,
   "metadata": {},
   "outputs": [
    {
     "name": "stdout",
     "output_type": "stream",
     "text": [
      "CPU times: user 833 ms, sys: 262 ms, total: 1.09 s\n",
      "Wall time: 1.1 s\n"
     ]
    }
   ],
   "source": [
    "%%time\n",
    "if not 'poi_ids' in locals():\n",
    "    poi_ids = pd.read_pickle(io['poi_ids'])"
   ]
  },
  {
   "cell_type": "code",
   "execution_count": 13,
   "metadata": {},
   "outputs": [
    {
     "name": "stdout",
     "output_type": "stream",
     "text": [
      "CPU times: user 9.04 s, sys: 756 ms, total: 9.79 s\n",
      "Wall time: 17 s\n"
     ]
    }
   ],
   "source": [
    "%%time\n",
    "poi_geom = pd.read_csv(io['poi_geom'])"
   ]
  },
  {
   "cell_type": "code",
   "execution_count": 16,
   "metadata": {},
   "outputs": [
    {
     "name": "stdout",
     "output_type": "stream",
     "text": [
      "CPU times: user 8.24 s, sys: 1.37 s, total: 9.6 s\n",
      "Wall time: 9.85 s\n"
     ]
    }
   ],
   "source": [
    "%%time\n",
    "poi_geom = poi_ids.merge(poi_geom, left_index=True,\n",
    "                         right_on='safegraph_place_id')[\n",
    "    ['poi_id', 'is_synthetic', 'includes_parking_lot', 'area_square_feet']]\\\n",
    "    .rename(columns={'area_square_feet': 'area_sqft'})"
   ]
  },
  {
   "cell_type": "markdown",
   "metadata": {},
   "source": [
    "`add_geom_properties()`"
   ]
  },
  {
   "cell_type": "code",
   "execution_count": 35,
   "metadata": {},
   "outputs": [],
   "source": [
    "def add_geom_properties(poi_geom):\n",
    "    for state_dir in glob.iglob(io['cnty_root'] + '/*'):\n",
    "        state_fips = state_dir[-2:]\n",
    "        for cnty_dir in tqdm(glob.glob(state_dir + '/*'),\n",
    "                             desc='state ' + state_fips):\n",
    "            poi_file = cnty_dir + '/places.pickle'\n",
    "            try:\n",
    "                pois = pd.read_pickle(poi_file)[['poi_id', 'naics', 'lat',\n",
    "                                                 'lon', 'zip_code', 'poi_cbg']]\n",
    "                pois = pois.loc[:, ~pois.columns.duplicated()]\n",
    "                pois = pois.merge(poi_geom, on='poi_id')\n",
    "                pois.to_pickle(poi_file)\n",
    "            except FileNotFoundError as e:\n",
    "                print(e)"
   ]
  },
  {
   "cell_type": "code",
   "execution_count": 36,
   "metadata": {
    "collapsed": true,
    "jupyter": {
     "outputs_hidden": true
    }
   },
   "outputs": [
    {
     "data": {
      "application/vnd.jupyter.widget-view+json": {
       "model_id": "ebd6e63a6c2545b7b7f8f998abf4d739",
       "version_major": 2,
       "version_minor": 0
      },
      "text/plain": [
       "HBox(children=(FloatProgress(value=0.0, description='state 00', max=1.0, style=ProgressStyle(description_width…"
      ]
     },
     "metadata": {},
     "output_type": "display_data"
    },
    {
     "name": "stdout",
     "output_type": "stream",
     "text": [
      "[Errno 2] No such file or directory: '/Volumes/Seagate_RV/Research_Data/SG_Covid19/county_wise/00/000/places.pickle'\n",
      "\n"
     ]
    },
    {
     "data": {
      "application/vnd.jupyter.widget-view+json": {
       "model_id": "04edce5d57064861b38aee8867457f82",
       "version_major": 2,
       "version_minor": 0
      },
      "text/plain": [
       "HBox(children=(FloatProgress(value=0.0, description='state 01', max=67.0, style=ProgressStyle(description_widt…"
      ]
     },
     "metadata": {},
     "output_type": "display_data"
    },
    {
     "name": "stdout",
     "output_type": "stream",
     "text": [
      "\n"
     ]
    },
    {
     "data": {
      "application/vnd.jupyter.widget-view+json": {
       "model_id": "10bc74c650d84b9a95b28e047176cf81",
       "version_major": 2,
       "version_minor": 0
      },
      "text/plain": [
       "HBox(children=(FloatProgress(value=0.0, description='state 02', max=30.0, style=ProgressStyle(description_widt…"
      ]
     },
     "metadata": {},
     "output_type": "display_data"
    },
    {
     "name": "stdout",
     "output_type": "stream",
     "text": [
      "[Errno 2] No such file or directory: '/Volumes/Seagate_RV/Research_Data/SG_Covid19/county_wise/02/270/places.pickle'\n",
      "\n"
     ]
    },
    {
     "data": {
      "application/vnd.jupyter.widget-view+json": {
       "model_id": "04a32c498c97434986762b7cdacee914",
       "version_major": 2,
       "version_minor": 0
      },
      "text/plain": [
       "HBox(children=(FloatProgress(value=0.0, description='state 04', max=15.0, style=ProgressStyle(description_widt…"
      ]
     },
     "metadata": {},
     "output_type": "display_data"
    },
    {
     "name": "stdout",
     "output_type": "stream",
     "text": [
      "\n"
     ]
    },
    {
     "data": {
      "application/vnd.jupyter.widget-view+json": {
       "model_id": "fe199546f96344ee81bf7572593bc340",
       "version_major": 2,
       "version_minor": 0
      },
      "text/plain": [
       "HBox(children=(FloatProgress(value=0.0, description='state 05', max=75.0, style=ProgressStyle(description_widt…"
      ]
     },
     "metadata": {},
     "output_type": "display_data"
    },
    {
     "name": "stdout",
     "output_type": "stream",
     "text": [
      "\n"
     ]
    },
    {
     "data": {
      "application/vnd.jupyter.widget-view+json": {
       "model_id": "201ee67164ae4b58b79c1346c23842b1",
       "version_major": 2,
       "version_minor": 0
      },
      "text/plain": [
       "HBox(children=(FloatProgress(value=0.0, description='state 06', max=58.0, style=ProgressStyle(description_widt…"
      ]
     },
     "metadata": {},
     "output_type": "display_data"
    },
    {
     "name": "stdout",
     "output_type": "stream",
     "text": [
      "\n"
     ]
    },
    {
     "data": {
      "application/vnd.jupyter.widget-view+json": {
       "model_id": "4aca38b443d147d2b8d8987a508da76f",
       "version_major": 2,
       "version_minor": 0
      },
      "text/plain": [
       "HBox(children=(FloatProgress(value=0.0, description='state 08', max=64.0, style=ProgressStyle(description_widt…"
      ]
     },
     "metadata": {},
     "output_type": "display_data"
    },
    {
     "name": "stdout",
     "output_type": "stream",
     "text": [
      "\n"
     ]
    },
    {
     "data": {
      "application/vnd.jupyter.widget-view+json": {
       "model_id": "433b59618698432d9b52d10b87aa644e",
       "version_major": 2,
       "version_minor": 0
      },
      "text/plain": [
       "HBox(children=(FloatProgress(value=0.0, description='state 09', max=8.0, style=ProgressStyle(description_width…"
      ]
     },
     "metadata": {},
     "output_type": "display_data"
    },
    {
     "name": "stdout",
     "output_type": "stream",
     "text": [
      "\n"
     ]
    },
    {
     "data": {
      "application/vnd.jupyter.widget-view+json": {
       "model_id": "545cdcc65eb348958f82b80a4a6e4d3f",
       "version_major": 2,
       "version_minor": 0
      },
      "text/plain": [
       "HBox(children=(FloatProgress(value=0.0, description='state 10', max=3.0, style=ProgressStyle(description_width…"
      ]
     },
     "metadata": {},
     "output_type": "display_data"
    },
    {
     "name": "stdout",
     "output_type": "stream",
     "text": [
      "\n"
     ]
    },
    {
     "data": {
      "application/vnd.jupyter.widget-view+json": {
       "model_id": "de605060f47342de92994c24c6fac82e",
       "version_major": 2,
       "version_minor": 0
      },
      "text/plain": [
       "HBox(children=(FloatProgress(value=0.0, description='state 11', max=1.0, style=ProgressStyle(description_width…"
      ]
     },
     "metadata": {},
     "output_type": "display_data"
    },
    {
     "name": "stdout",
     "output_type": "stream",
     "text": [
      "\n"
     ]
    },
    {
     "data": {
      "application/vnd.jupyter.widget-view+json": {
       "model_id": "f234d48c91114d2e8a3f0fffa2fbb02b",
       "version_major": 2,
       "version_minor": 0
      },
      "text/plain": [
       "HBox(children=(FloatProgress(value=0.0, description='state 12', max=67.0, style=ProgressStyle(description_widt…"
      ]
     },
     "metadata": {},
     "output_type": "display_data"
    },
    {
     "name": "stdout",
     "output_type": "stream",
     "text": [
      "\n"
     ]
    },
    {
     "data": {
      "application/vnd.jupyter.widget-view+json": {
       "model_id": "983d1c8513974e01b0b02605558c8917",
       "version_major": 2,
       "version_minor": 0
      },
      "text/plain": [
       "HBox(children=(FloatProgress(value=0.0, description='state 13', max=159.0, style=ProgressStyle(description_wid…"
      ]
     },
     "metadata": {},
     "output_type": "display_data"
    },
    {
     "name": "stdout",
     "output_type": "stream",
     "text": [
      "\n"
     ]
    },
    {
     "data": {
      "application/vnd.jupyter.widget-view+json": {
       "model_id": "0fa00274fd034bd89ca798f31bc7dc49",
       "version_major": 2,
       "version_minor": 0
      },
      "text/plain": [
       "HBox(children=(FloatProgress(value=0.0, description='state 15', max=5.0, style=ProgressStyle(description_width…"
      ]
     },
     "metadata": {},
     "output_type": "display_data"
    },
    {
     "name": "stdout",
     "output_type": "stream",
     "text": [
      "\n"
     ]
    },
    {
     "data": {
      "application/vnd.jupyter.widget-view+json": {
       "model_id": "ac4598166e1942db844ee972d4a9e540",
       "version_major": 2,
       "version_minor": 0
      },
      "text/plain": [
       "HBox(children=(FloatProgress(value=0.0, description='state 16', max=44.0, style=ProgressStyle(description_widt…"
      ]
     },
     "metadata": {},
     "output_type": "display_data"
    },
    {
     "name": "stdout",
     "output_type": "stream",
     "text": [
      "\n"
     ]
    },
    {
     "data": {
      "application/vnd.jupyter.widget-view+json": {
       "model_id": "83ed9659936c4c148f250d32d0110d3f",
       "version_major": 2,
       "version_minor": 0
      },
      "text/plain": [
       "HBox(children=(FloatProgress(value=0.0, description='state 17', max=102.0, style=ProgressStyle(description_wid…"
      ]
     },
     "metadata": {},
     "output_type": "display_data"
    },
    {
     "name": "stdout",
     "output_type": "stream",
     "text": [
      "\n"
     ]
    },
    {
     "data": {
      "application/vnd.jupyter.widget-view+json": {
       "model_id": "c82f5a732823482cba20d4c9017cf87d",
       "version_major": 2,
       "version_minor": 0
      },
      "text/plain": [
       "HBox(children=(FloatProgress(value=0.0, description='state 18', max=92.0, style=ProgressStyle(description_widt…"
      ]
     },
     "metadata": {},
     "output_type": "display_data"
    },
    {
     "name": "stdout",
     "output_type": "stream",
     "text": [
      "\n"
     ]
    },
    {
     "data": {
      "application/vnd.jupyter.widget-view+json": {
       "model_id": "bc4bfa7e8aec49448e537b6a2c4ee941",
       "version_major": 2,
       "version_minor": 0
      },
      "text/plain": [
       "HBox(children=(FloatProgress(value=0.0, description='state 19', max=99.0, style=ProgressStyle(description_widt…"
      ]
     },
     "metadata": {},
     "output_type": "display_data"
    },
    {
     "name": "stdout",
     "output_type": "stream",
     "text": [
      "\n"
     ]
    },
    {
     "data": {
      "application/vnd.jupyter.widget-view+json": {
       "model_id": "9cfb6787ec574358b06a9d0a058ab9ce",
       "version_major": 2,
       "version_minor": 0
      },
      "text/plain": [
       "HBox(children=(FloatProgress(value=0.0, description='state 20', max=105.0, style=ProgressStyle(description_wid…"
      ]
     },
     "metadata": {},
     "output_type": "display_data"
    },
    {
     "name": "stdout",
     "output_type": "stream",
     "text": [
      "\n"
     ]
    },
    {
     "data": {
      "application/vnd.jupyter.widget-view+json": {
       "model_id": "b968ea0c4d024e318fa7839512d98643",
       "version_major": 2,
       "version_minor": 0
      },
      "text/plain": [
       "HBox(children=(FloatProgress(value=0.0, description='state 21', max=120.0, style=ProgressStyle(description_wid…"
      ]
     },
     "metadata": {},
     "output_type": "display_data"
    },
    {
     "name": "stdout",
     "output_type": "stream",
     "text": [
      "\n"
     ]
    },
    {
     "data": {
      "application/vnd.jupyter.widget-view+json": {
       "model_id": "516d986a9d4e4dfc8cff486d9f7b69cd",
       "version_major": 2,
       "version_minor": 0
      },
      "text/plain": [
       "HBox(children=(FloatProgress(value=0.0, description='state 22', max=64.0, style=ProgressStyle(description_widt…"
      ]
     },
     "metadata": {},
     "output_type": "display_data"
    },
    {
     "name": "stdout",
     "output_type": "stream",
     "text": [
      "\n"
     ]
    },
    {
     "data": {
      "application/vnd.jupyter.widget-view+json": {
       "model_id": "5c0fdbab3d094ccfb391368166002a0c",
       "version_major": 2,
       "version_minor": 0
      },
      "text/plain": [
       "HBox(children=(FloatProgress(value=0.0, description='state 23', max=16.0, style=ProgressStyle(description_widt…"
      ]
     },
     "metadata": {},
     "output_type": "display_data"
    },
    {
     "name": "stdout",
     "output_type": "stream",
     "text": [
      "\n"
     ]
    },
    {
     "data": {
      "application/vnd.jupyter.widget-view+json": {
       "model_id": "63d0331a6ede4a4ea11123c1832d5dce",
       "version_major": 2,
       "version_minor": 0
      },
      "text/plain": [
       "HBox(children=(FloatProgress(value=0.0, description='state 24', max=24.0, style=ProgressStyle(description_widt…"
      ]
     },
     "metadata": {},
     "output_type": "display_data"
    },
    {
     "name": "stdout",
     "output_type": "stream",
     "text": [
      "\n"
     ]
    },
    {
     "data": {
      "application/vnd.jupyter.widget-view+json": {
       "model_id": "039a61b8cea543639f187fca48ec76e2",
       "version_major": 2,
       "version_minor": 0
      },
      "text/plain": [
       "HBox(children=(FloatProgress(value=0.0, description='state 25', max=14.0, style=ProgressStyle(description_widt…"
      ]
     },
     "metadata": {},
     "output_type": "display_data"
    },
    {
     "name": "stdout",
     "output_type": "stream",
     "text": [
      "\n"
     ]
    },
    {
     "data": {
      "application/vnd.jupyter.widget-view+json": {
       "model_id": "6e4776678b954d2791945c106b14d35f",
       "version_major": 2,
       "version_minor": 0
      },
      "text/plain": [
       "HBox(children=(FloatProgress(value=0.0, description='state 26', max=83.0, style=ProgressStyle(description_widt…"
      ]
     },
     "metadata": {},
     "output_type": "display_data"
    },
    {
     "name": "stdout",
     "output_type": "stream",
     "text": [
      "\n"
     ]
    },
    {
     "data": {
      "application/vnd.jupyter.widget-view+json": {
       "model_id": "83e0d7128d8040f78e5f265019440bf6",
       "version_major": 2,
       "version_minor": 0
      },
      "text/plain": [
       "HBox(children=(FloatProgress(value=0.0, description='state 27', max=87.0, style=ProgressStyle(description_widt…"
      ]
     },
     "metadata": {},
     "output_type": "display_data"
    },
    {
     "name": "stdout",
     "output_type": "stream",
     "text": [
      "\n"
     ]
    },
    {
     "data": {
      "application/vnd.jupyter.widget-view+json": {
       "model_id": "eb324b951891404084f93886aed024d6",
       "version_major": 2,
       "version_minor": 0
      },
      "text/plain": [
       "HBox(children=(FloatProgress(value=0.0, description='state 28', max=82.0, style=ProgressStyle(description_widt…"
      ]
     },
     "metadata": {},
     "output_type": "display_data"
    },
    {
     "name": "stdout",
     "output_type": "stream",
     "text": [
      "\n"
     ]
    },
    {
     "data": {
      "application/vnd.jupyter.widget-view+json": {
       "model_id": "83edcf5cd6ce45abbd4e01d1d65738d9",
       "version_major": 2,
       "version_minor": 0
      },
      "text/plain": [
       "HBox(children=(FloatProgress(value=0.0, description='state 29', max=115.0, style=ProgressStyle(description_wid…"
      ]
     },
     "metadata": {},
     "output_type": "display_data"
    },
    {
     "name": "stdout",
     "output_type": "stream",
     "text": [
      "\n"
     ]
    },
    {
     "data": {
      "application/vnd.jupyter.widget-view+json": {
       "model_id": "1bea6e7d5aa9440b8e4815925411e206",
       "version_major": 2,
       "version_minor": 0
      },
      "text/plain": [
       "HBox(children=(FloatProgress(value=0.0, description='state 30', max=56.0, style=ProgressStyle(description_widt…"
      ]
     },
     "metadata": {},
     "output_type": "display_data"
    },
    {
     "name": "stdout",
     "output_type": "stream",
     "text": [
      "\n"
     ]
    },
    {
     "data": {
      "application/vnd.jupyter.widget-view+json": {
       "model_id": "925783018ef0492ea15f81a568ce42cb",
       "version_major": 2,
       "version_minor": 0
      },
      "text/plain": [
       "HBox(children=(FloatProgress(value=0.0, description='state 31', max=93.0, style=ProgressStyle(description_widt…"
      ]
     },
     "metadata": {},
     "output_type": "display_data"
    },
    {
     "name": "stdout",
     "output_type": "stream",
     "text": [
      "\n"
     ]
    },
    {
     "data": {
      "application/vnd.jupyter.widget-view+json": {
       "model_id": "f622989716944bac9c2f2346f5e06488",
       "version_major": 2,
       "version_minor": 0
      },
      "text/plain": [
       "HBox(children=(FloatProgress(value=0.0, description='state 32', max=17.0, style=ProgressStyle(description_widt…"
      ]
     },
     "metadata": {},
     "output_type": "display_data"
    },
    {
     "name": "stdout",
     "output_type": "stream",
     "text": [
      "\n"
     ]
    },
    {
     "data": {
      "application/vnd.jupyter.widget-view+json": {
       "model_id": "5563656ba90446d1b93fa918a9c184a1",
       "version_major": 2,
       "version_minor": 0
      },
      "text/plain": [
       "HBox(children=(FloatProgress(value=0.0, description='state 33', max=10.0, style=ProgressStyle(description_widt…"
      ]
     },
     "metadata": {},
     "output_type": "display_data"
    },
    {
     "name": "stdout",
     "output_type": "stream",
     "text": [
      "\n"
     ]
    },
    {
     "data": {
      "application/vnd.jupyter.widget-view+json": {
       "model_id": "591817210a244be1bb83723e9c1a4808",
       "version_major": 2,
       "version_minor": 0
      },
      "text/plain": [
       "HBox(children=(FloatProgress(value=0.0, description='state 34', max=21.0, style=ProgressStyle(description_widt…"
      ]
     },
     "metadata": {},
     "output_type": "display_data"
    },
    {
     "name": "stdout",
     "output_type": "stream",
     "text": [
      "\n"
     ]
    },
    {
     "data": {
      "application/vnd.jupyter.widget-view+json": {
       "model_id": "339d78bbe49548b4926e848754897c56",
       "version_major": 2,
       "version_minor": 0
      },
      "text/plain": [
       "HBox(children=(FloatProgress(value=0.0, description='state 35', max=33.0, style=ProgressStyle(description_widt…"
      ]
     },
     "metadata": {},
     "output_type": "display_data"
    },
    {
     "name": "stdout",
     "output_type": "stream",
     "text": [
      "\n"
     ]
    },
    {
     "data": {
      "application/vnd.jupyter.widget-view+json": {
       "model_id": "2f9972fd4e08467db6e8958e5aab966f",
       "version_major": 2,
       "version_minor": 0
      },
      "text/plain": [
       "HBox(children=(FloatProgress(value=0.0, description='state 36', max=62.0, style=ProgressStyle(description_widt…"
      ]
     },
     "metadata": {},
     "output_type": "display_data"
    },
    {
     "name": "stdout",
     "output_type": "stream",
     "text": [
      "\n"
     ]
    },
    {
     "data": {
      "application/vnd.jupyter.widget-view+json": {
       "model_id": "bf0dccb6c68b49b38126510ab0fa0b01",
       "version_major": 2,
       "version_minor": 0
      },
      "text/plain": [
       "HBox(children=(FloatProgress(value=0.0, description='state 37', style=ProgressStyle(description_width='initial…"
      ]
     },
     "metadata": {},
     "output_type": "display_data"
    },
    {
     "name": "stdout",
     "output_type": "stream",
     "text": [
      "\n"
     ]
    },
    {
     "data": {
      "application/vnd.jupyter.widget-view+json": {
       "model_id": "77a319ef60a8464b8214b582a6e5c455",
       "version_major": 2,
       "version_minor": 0
      },
      "text/plain": [
       "HBox(children=(FloatProgress(value=0.0, description='state 38', max=53.0, style=ProgressStyle(description_widt…"
      ]
     },
     "metadata": {},
     "output_type": "display_data"
    },
    {
     "name": "stdout",
     "output_type": "stream",
     "text": [
      "\n"
     ]
    },
    {
     "data": {
      "application/vnd.jupyter.widget-view+json": {
       "model_id": "5bfe5f9333c341edb4bd24efde5c3520",
       "version_major": 2,
       "version_minor": 0
      },
      "text/plain": [
       "HBox(children=(FloatProgress(value=0.0, description='state 39', max=88.0, style=ProgressStyle(description_widt…"
      ]
     },
     "metadata": {},
     "output_type": "display_data"
    },
    {
     "name": "stdout",
     "output_type": "stream",
     "text": [
      "\n"
     ]
    },
    {
     "data": {
      "application/vnd.jupyter.widget-view+json": {
       "model_id": "73e1587d46de43b688adbe51f84cf5ca",
       "version_major": 2,
       "version_minor": 0
      },
      "text/plain": [
       "HBox(children=(FloatProgress(value=0.0, description='state 40', max=77.0, style=ProgressStyle(description_widt…"
      ]
     },
     "metadata": {},
     "output_type": "display_data"
    },
    {
     "name": "stdout",
     "output_type": "stream",
     "text": [
      "\n"
     ]
    },
    {
     "data": {
      "application/vnd.jupyter.widget-view+json": {
       "model_id": "9d4555a851894e4da25e14d1d8e08506",
       "version_major": 2,
       "version_minor": 0
      },
      "text/plain": [
       "HBox(children=(FloatProgress(value=0.0, description='state 41', max=36.0, style=ProgressStyle(description_widt…"
      ]
     },
     "metadata": {},
     "output_type": "display_data"
    },
    {
     "name": "stdout",
     "output_type": "stream",
     "text": [
      "\n"
     ]
    },
    {
     "data": {
      "application/vnd.jupyter.widget-view+json": {
       "model_id": "e8a09a96a0284bb3b000214c9a09406f",
       "version_major": 2,
       "version_minor": 0
      },
      "text/plain": [
       "HBox(children=(FloatProgress(value=0.0, description='state 42', max=67.0, style=ProgressStyle(description_widt…"
      ]
     },
     "metadata": {},
     "output_type": "display_data"
    },
    {
     "name": "stdout",
     "output_type": "stream",
     "text": [
      "\n"
     ]
    },
    {
     "data": {
      "application/vnd.jupyter.widget-view+json": {
       "model_id": "b678f53bee1142c49c28842579b8ba10",
       "version_major": 2,
       "version_minor": 0
      },
      "text/plain": [
       "HBox(children=(FloatProgress(value=0.0, description='state 44', max=5.0, style=ProgressStyle(description_width…"
      ]
     },
     "metadata": {},
     "output_type": "display_data"
    },
    {
     "name": "stdout",
     "output_type": "stream",
     "text": [
      "\n"
     ]
    },
    {
     "data": {
      "application/vnd.jupyter.widget-view+json": {
       "model_id": "da6e9938d7384854bb352d6006cd70b7",
       "version_major": 2,
       "version_minor": 0
      },
      "text/plain": [
       "HBox(children=(FloatProgress(value=0.0, description='state 45', max=46.0, style=ProgressStyle(description_widt…"
      ]
     },
     "metadata": {},
     "output_type": "display_data"
    },
    {
     "name": "stdout",
     "output_type": "stream",
     "text": [
      "\n"
     ]
    },
    {
     "data": {
      "application/vnd.jupyter.widget-view+json": {
       "model_id": "5736b136b0264fc7b6834c9dc2bc2c2b",
       "version_major": 2,
       "version_minor": 0
      },
      "text/plain": [
       "HBox(children=(FloatProgress(value=0.0, description='state 46', max=67.0, style=ProgressStyle(description_widt…"
      ]
     },
     "metadata": {},
     "output_type": "display_data"
    },
    {
     "name": "stdout",
     "output_type": "stream",
     "text": [
      "[Errno 2] No such file or directory: '/Volumes/Seagate_RV/Research_Data/SG_Covid19/county_wise/46/113/places.pickle'\n",
      "\n"
     ]
    },
    {
     "data": {
      "application/vnd.jupyter.widget-view+json": {
       "model_id": "eaa6d352559642398925dc88d216751c",
       "version_major": 2,
       "version_minor": 0
      },
      "text/plain": [
       "HBox(children=(FloatProgress(value=0.0, description='state 47', max=95.0, style=ProgressStyle(description_widt…"
      ]
     },
     "metadata": {},
     "output_type": "display_data"
    },
    {
     "name": "stdout",
     "output_type": "stream",
     "text": [
      "\n"
     ]
    },
    {
     "data": {
      "application/vnd.jupyter.widget-view+json": {
       "model_id": "1714b0819bda46fcb2d96db4db04bc46",
       "version_major": 2,
       "version_minor": 0
      },
      "text/plain": [
       "HBox(children=(FloatProgress(value=0.0, description='state 48', max=254.0, style=ProgressStyle(description_wid…"
      ]
     },
     "metadata": {},
     "output_type": "display_data"
    },
    {
     "name": "stdout",
     "output_type": "stream",
     "text": [
      "\n"
     ]
    },
    {
     "data": {
      "application/vnd.jupyter.widget-view+json": {
       "model_id": "7ddeab9177f746348896cc4ff4aa57c6",
       "version_major": 2,
       "version_minor": 0
      },
      "text/plain": [
       "HBox(children=(FloatProgress(value=0.0, description='state 49', max=29.0, style=ProgressStyle(description_widt…"
      ]
     },
     "metadata": {},
     "output_type": "display_data"
    },
    {
     "name": "stdout",
     "output_type": "stream",
     "text": [
      "\n"
     ]
    },
    {
     "data": {
      "application/vnd.jupyter.widget-view+json": {
       "model_id": "6d8cfb9acfcf4c6baa727f9f2160cca3",
       "version_major": 2,
       "version_minor": 0
      },
      "text/plain": [
       "HBox(children=(FloatProgress(value=0.0, description='state 50', max=14.0, style=ProgressStyle(description_widt…"
      ]
     },
     "metadata": {},
     "output_type": "display_data"
    },
    {
     "name": "stdout",
     "output_type": "stream",
     "text": [
      "\n"
     ]
    },
    {
     "data": {
      "application/vnd.jupyter.widget-view+json": {
       "model_id": "61dc550be7e2498bbccab10578eac1ff",
       "version_major": 2,
       "version_minor": 0
      },
      "text/plain": [
       "HBox(children=(FloatProgress(value=0.0, description='state 51', max=134.0, style=ProgressStyle(description_wid…"
      ]
     },
     "metadata": {},
     "output_type": "display_data"
    },
    {
     "name": "stdout",
     "output_type": "stream",
     "text": [
      "[Errno 2] No such file or directory: '/Volumes/Seagate_RV/Research_Data/SG_Covid19/county_wise/51/515/places.pickle'\n",
      "\n"
     ]
    },
    {
     "data": {
      "application/vnd.jupyter.widget-view+json": {
       "model_id": "04b889badc9c42ec934f723bbd80c4a4",
       "version_major": 2,
       "version_minor": 0
      },
      "text/plain": [
       "HBox(children=(FloatProgress(value=0.0, description='state 53', max=39.0, style=ProgressStyle(description_widt…"
      ]
     },
     "metadata": {},
     "output_type": "display_data"
    },
    {
     "name": "stdout",
     "output_type": "stream",
     "text": [
      "\n"
     ]
    },
    {
     "data": {
      "application/vnd.jupyter.widget-view+json": {
       "model_id": "3f10db1aee274a139e35e109f6d2bcff",
       "version_major": 2,
       "version_minor": 0
      },
      "text/plain": [
       "HBox(children=(FloatProgress(value=0.0, description='state 54', max=55.0, style=ProgressStyle(description_widt…"
      ]
     },
     "metadata": {},
     "output_type": "display_data"
    },
    {
     "name": "stdout",
     "output_type": "stream",
     "text": [
      "\n"
     ]
    },
    {
     "data": {
      "application/vnd.jupyter.widget-view+json": {
       "model_id": "da78e04fff57479a8a2ba45d46619669",
       "version_major": 2,
       "version_minor": 0
      },
      "text/plain": [
       "HBox(children=(FloatProgress(value=0.0, description='state 55', max=72.0, style=ProgressStyle(description_widt…"
      ]
     },
     "metadata": {},
     "output_type": "display_data"
    },
    {
     "name": "stdout",
     "output_type": "stream",
     "text": [
      "\n"
     ]
    },
    {
     "data": {
      "application/vnd.jupyter.widget-view+json": {
       "model_id": "206604419bcc46aba73d43ec5c8737b8",
       "version_major": 2,
       "version_minor": 0
      },
      "text/plain": [
       "HBox(children=(FloatProgress(value=0.0, description='state 56', max=23.0, style=ProgressStyle(description_widt…"
      ]
     },
     "metadata": {},
     "output_type": "display_data"
    },
    {
     "name": "stdout",
     "output_type": "stream",
     "text": [
      "\n"
     ]
    },
    {
     "data": {
      "application/vnd.jupyter.widget-view+json": {
       "model_id": "107d7f86c57047cb84a90aa1e7b4727d",
       "version_major": 2,
       "version_minor": 0
      },
      "text/plain": [
       "HBox(children=(FloatProgress(value=0.0, description='state 60', max=5.0, style=ProgressStyle(description_width…"
      ]
     },
     "metadata": {},
     "output_type": "display_data"
    },
    {
     "name": "stdout",
     "output_type": "stream",
     "text": [
      "[Errno 2] No such file or directory: '/Volumes/Seagate_RV/Research_Data/SG_Covid19/county_wise/60/020/places.pickle'\n",
      "[Errno 2] No such file or directory: '/Volumes/Seagate_RV/Research_Data/SG_Covid19/county_wise/60/030/places.pickle'\n",
      "[Errno 2] No such file or directory: '/Volumes/Seagate_RV/Research_Data/SG_Covid19/county_wise/60/040/places.pickle'\n",
      "\n"
     ]
    },
    {
     "data": {
      "application/vnd.jupyter.widget-view+json": {
       "model_id": "08b95082f3234779a759a845655ec503",
       "version_major": 2,
       "version_minor": 0
      },
      "text/plain": [
       "HBox(children=(FloatProgress(value=0.0, description='state 66', max=1.0, style=ProgressStyle(description_width…"
      ]
     },
     "metadata": {},
     "output_type": "display_data"
    },
    {
     "name": "stdout",
     "output_type": "stream",
     "text": [
      "\n"
     ]
    },
    {
     "data": {
      "application/vnd.jupyter.widget-view+json": {
       "model_id": "46f0e2684b8b45dab32658697213d0bf",
       "version_major": 2,
       "version_minor": 0
      },
      "text/plain": [
       "HBox(children=(FloatProgress(value=0.0, description='state 69', max=4.0, style=ProgressStyle(description_width…"
      ]
     },
     "metadata": {},
     "output_type": "display_data"
    },
    {
     "name": "stdout",
     "output_type": "stream",
     "text": [
      "[Errno 2] No such file or directory: '/Volumes/Seagate_RV/Research_Data/SG_Covid19/county_wise/69/085/places.pickle'\n",
      "[Errno 2] No such file or directory: '/Volumes/Seagate_RV/Research_Data/SG_Covid19/county_wise/69/110/places.pickle'\n",
      "[Errno 2] No such file or directory: '/Volumes/Seagate_RV/Research_Data/SG_Covid19/county_wise/69/120/places.pickle'\n",
      "\n"
     ]
    },
    {
     "data": {
      "application/vnd.jupyter.widget-view+json": {
       "model_id": "ac09dcc3625848a4b23745cca8871e88",
       "version_major": 2,
       "version_minor": 0
      },
      "text/plain": [
       "HBox(children=(FloatProgress(value=0.0, description='state 72', max=78.0, style=ProgressStyle(description_widt…"
      ]
     },
     "metadata": {},
     "output_type": "display_data"
    },
    {
     "name": "stdout",
     "output_type": "stream",
     "text": [
      "\n"
     ]
    },
    {
     "data": {
      "application/vnd.jupyter.widget-view+json": {
       "model_id": "2fc4e67145d84afba9d0211fe5e72647",
       "version_major": 2,
       "version_minor": 0
      },
      "text/plain": [
       "HBox(children=(FloatProgress(value=0.0, description='state 74', max=1.0, style=ProgressStyle(description_width…"
      ]
     },
     "metadata": {},
     "output_type": "display_data"
    },
    {
     "name": "stdout",
     "output_type": "stream",
     "text": [
      "[Errno 2] No such file or directory: '/Volumes/Seagate_RV/Research_Data/SG_Covid19/county_wise/74/300/places.pickle'\n",
      "\n"
     ]
    },
    {
     "data": {
      "application/vnd.jupyter.widget-view+json": {
       "model_id": "ff8ea18b5b244b83ba05dc6200d23b87",
       "version_major": 2,
       "version_minor": 0
      },
      "text/plain": [
       "HBox(children=(FloatProgress(value=0.0, description='state 78', max=3.0, style=ProgressStyle(description_width…"
      ]
     },
     "metadata": {},
     "output_type": "display_data"
    },
    {
     "name": "stdout",
     "output_type": "stream",
     "text": [
      "[Errno 2] No such file or directory: '/Volumes/Seagate_RV/Research_Data/SG_Covid19/county_wise/78/020/places.pickle'\n",
      "[Errno 2] No such file or directory: '/Volumes/Seagate_RV/Research_Data/SG_Covid19/county_wise/78/030/places.pickle'\n",
      "\n",
      "CPU times: user 46min 30s, sys: 15min 28s, total: 1h 1min 59s\n",
      "Wall time: 1h 8min 8s\n"
     ]
    }
   ],
   "source": [
    "%%time\n",
    "add_geom_properties(poi_geom)"
   ]
  },
  {
   "cell_type": "markdown",
   "metadata": {},
   "source": [
    "---\n",
    "# Census data"
   ]
  },
  {
   "cell_type": "markdown",
   "metadata": {},
   "source": [
    "## Inputs"
   ]
  },
  {
   "cell_type": "markdown",
   "metadata": {},
   "source": [
    "### Columns"
   ]
  },
  {
   "cell_type": "code",
   "execution_count": 1,
   "metadata": {},
   "outputs": [],
   "source": [
    "# fields of ACS (census) data relevant to mobility\n",
    "acs_cols = {\n",
    "    # topic 0: aggregate\n",
    "    'B00001e1': 'total_pop', # total population\n",
    "    \n",
    "    # topic 1: age & sex\n",
    "    'B01001e26': 'sex_f', # total female population(?)\n",
    "    'B01001e2': 'sex_m', # total male population(?)\n",
    "    'B01002e1': 'med_age', # overall median age\n",
    "    \n",
    "    # topic 2: race\n",
    "    'B02001e2': 'race_white', # total white population\n",
    "    'B02001e3': 'race_black', # \"\" black \"\"\n",
    "    'B02001e5': 'race_asian', # \"\" Asian \"\"\n",
    "    \n",
    "    # topic 8: commute\n",
    "    'B08008e1': 'tot_workers', # total estimate of workers (aged >16)\n",
    "    'B08303e1': 'commute_time', # avg commute time of non-WFH workers (aged>16)\n",
    "    # no. of people by commute mode (cm):\n",
    "    'B08301e3': 'cm_car_alone', # drive alone to work\n",
    "    'B08301e4': 'cm_pool', # carpool (total)\n",
    "    'B08301e18': 'cm_bike', # commute by bicycle\n",
    "    'B08301e13': 'cm_subway', # train/rail transit\n",
    "    'B08301e11': 'cm_bus', # bus rapid transit\n",
    "    'B08301e16': 'cm_taxi', # taxi cab,\n",
    "    'B08301e19': 'cm_walk', # walk to work\n",
    "    'B08301e21': 'cm_wfh', # work from home\n",
    "    \n",
    "    # topic 15: education\n",
    "    'B15003e1': 'pop_age_over25', # total population aged >= 25\n",
    "    'B15011e1': 'tot_bachelors', # total people having Bachelor's degree or more\n",
    "    \n",
    "    # topic 16: language\n",
    "    'B16004e2': 'pop_under17', # population aged between 5 & 17\n",
    "    'B16004e24': 'pop_18_64', # \"\" aged 18-64\n",
    "    'B16004e46': 'pop_over65', # \"\" aged >= 65\n",
    "    \n",
    "    # topic 17: poverty (past 1 year)\n",
    "    'B17017e2': 'hh_poor', # no. of households below poverty level\n",
    "    'B17017e31': 'hh_nonpoor', # \"\" above poverty level \"\"\n",
    "    \n",
    "    # topic 19: income (past 1 year; age >15 only)\n",
    "    'B19001e1': 'tot_hh', # total no. of households\n",
    "    'B19313e1': 'tot_income', # aggregate income\n",
    "    'B19301e1': 'avg_income', # per capita income\n",
    "    'B19025e1': 'tot_hh_income', # aggregate household income\n",
    "    'B19013e1': 'med_hh_income', # overall median houshehold income\n",
    "    \n",
    "    # topic 23: employment status (applicable for >16 yrs)\n",
    "    'B23025e2': 'in_labor_force', # population in labor force\n",
    "    'B23025e7': 'not_in_labor_force' # \"\" not \"\"\n",
    "    \n",
    "    # topic 24: employment\n",
    "    'B24080e1': 'tot_employed', # total employed people (age>16) (== tot_workers?)\n",
    "}"
   ]
  },
  {
   "cell_type": "markdown",
   "metadata": {},
   "source": [
    "## Store the data\n",
    "`get_acs_data()`"
   ]
  },
  {
   "cell_type": "code",
   "execution_count": 60,
   "metadata": {},
   "outputs": [],
   "source": [
    "def get_acs_data(file_fmt, cols):\n",
    "    \"\"\"\n",
    "    Read the ACS (census) data from the different ACS files.\n",
    "    \n",
    "    @param file_fmt: <str> format string with placeholder for file number\n",
    "    @param cols: <{str: str}> ACS field codes along with their legible names\n",
    "    @return acs: <pd.df> resulting ACS data table\n",
    "    \"\"\"\n",
    "    acs = pd.DataFrame()\n",
    "    \n",
    "    # get the topic codes from the columns\n",
    "    topics = {x[1:3] for x in cols.keys()}\n",
    "    \n",
    "    for i, topic in enumerate(topics):\n",
    "        # specify the file using the topic code\n",
    "        file = file_fmt.format(topic)\n",
    "        \n",
    "        # specify the columns to be read\n",
    "        topic_cols = {k: v for k, v in cols.items() if k[1:3] == topic}\n",
    "        \n",
    "        # in the 1st time, also read the CBG code\n",
    "        if i == 0:\n",
    "            topic_cols = {**{'census_block_group': 'cbg'}, **topic_cols}\n",
    "        \n",
    "        # read the specific columns of the table & rename them\n",
    "        df = pd.read_csv(file, usecols=topic_cols.keys())\\\n",
    "            .rename(columns=topic_cols).fillna(0)\n",
    "        \n",
    "        # stack the columns\n",
    "        acs = pd.concat([acs, df], axis=1)\n",
    "        \n",
    "    # reduce the memory consumption\n",
    "    acs = acs.astype({x: np.uint32 for x in acs.select_dtypes(\n",
    "        ['int64', 'float64']).columns if x != 'cbg'})\n",
    "        \n",
    "    return acs"
   ]
  },
  {
   "cell_type": "code",
   "execution_count": 61,
   "metadata": {},
   "outputs": [
    {
     "name": "stdout",
     "output_type": "stream",
     "text": [
      "CPU times: user 10.7 s, sys: 873 ms, total: 11.5 s\n",
      "Wall time: 19.3 s\n"
     ]
    }
   ],
   "source": [
    "%%time\n",
    "# read the ACS data\n",
    "acs = get_acs_data(io['acs_csv'], acs_cols)"
   ]
  },
  {
   "cell_type": "code",
   "execution_count": 78,
   "metadata": {
    "collapsed": true,
    "jupyter": {
     "outputs_hidden": true
    }
   },
   "outputs": [
    {
     "ename": "NameError",
     "evalue": "name 'acs' is not defined",
     "output_type": "error",
     "traceback": [
      "\u001b[0;31m---------------------------------------------------------------------------\u001b[0m",
      "\u001b[0;31mNameError\u001b[0m                                 Traceback (most recent call last)",
      "\u001b[0;32m<ipython-input-78-e8b7c9cb239e>\u001b[0m in \u001b[0;36m<module>\u001b[0;34m\u001b[0m\n\u001b[0;32m----> 1\u001b[0;31m \u001b[0mprint\u001b[0m\u001b[0;34m(\u001b[0m\u001b[0macs\u001b[0m\u001b[0;34m.\u001b[0m\u001b[0mshape\u001b[0m\u001b[0;34m)\u001b[0m\u001b[0;34m\u001b[0m\u001b[0;34m\u001b[0m\u001b[0m\n\u001b[0m\u001b[1;32m      2\u001b[0m \u001b[0macs\u001b[0m\u001b[0;34m.\u001b[0m\u001b[0mhead\u001b[0m\u001b[0;34m(\u001b[0m\u001b[0;34m)\u001b[0m\u001b[0;34m\u001b[0m\u001b[0;34m\u001b[0m\u001b[0m\n",
      "\u001b[0;31mNameError\u001b[0m: name 'acs' is not defined"
     ]
    }
   ],
   "source": [
    "print(acs.shape)\n",
    "acs.head()"
   ]
  },
  {
   "cell_type": "code",
   "execution_count": 33,
   "metadata": {},
   "outputs": [
    {
     "name": "stdout",
     "output_type": "stream",
     "text": [
      "CPU times: user 4.89 s, sys: 707 ms, total: 5.6 s\n",
      "Wall time: 5.85 s\n"
     ]
    }
   ],
   "source": [
    "%%time\n",
    "# distribute it among counties\n",
    "distr_by_cnty(acs, 'census')"
   ]
  },
  {
   "cell_type": "markdown",
   "metadata": {},
   "source": [
    "---\n",
    "# Weekly patterns data"
   ]
  },
  {
   "cell_type": "markdown",
   "metadata": {},
   "source": [
    "## Inputs"
   ]
  },
  {
   "cell_type": "markdown",
   "metadata": {},
   "source": [
    "### Weeks of interest"
   ]
  },
  {
   "cell_type": "code",
   "execution_count": 45,
   "metadata": {},
   "outputs": [],
   "source": [
    "weeks = pd.date_range('2020-01-06', '2020-05-26', freq='W-MON')"
   ]
  },
  {
   "cell_type": "markdown",
   "metadata": {
    "execution": {
     "iopub.execute_input": "2020-06-25T15:38:28.471560Z",
     "iopub.status.busy": "2020-06-25T15:38:28.470562Z",
     "iopub.status.idle": "2020-06-25T15:38:28.474550Z",
     "shell.execute_reply": "2020-06-25T15:38:28.474550Z",
     "shell.execute_reply.started": "2020-06-25T15:38:28.471560Z"
    }
   },
   "source": [
    "### Columns"
   ]
  },
  {
   "cell_type": "code",
   "execution_count": 77,
   "metadata": {},
   "outputs": [],
   "source": [
    "pat_cols = {\n",
    "    'safegraph_place_id': str,\n",
    "#     'location_name': str,\n",
    "#     'street_address': str,\n",
    "#     'city': str,\n",
    "#     'region': str,\n",
    "#     'postal_code': np.float64,\n",
    "#     'safegraph_brand_ids': str,\n",
    "#     'brands': str,\n",
    "#     'date_range_start': str,\n",
    "#     'date_range_end': str,\n",
    "    'raw_visit_counts': np.float64,\n",
    "    'raw_visitor_counts': np.float64,\n",
    "    'visits_by_day': str,\n",
    "    'poi_cbg': np.float64,\n",
    "#     'visitor_home_cbgs': str,\n",
    "#     'visitor_work_cbgs': str,\n",
    "#     'visitor_daytime_cbgs': str,\n",
    "#     'visitor_country_of_origin': str,\n",
    "    'distance_from_home': np.float64,\n",
    "    'median_dwell': np.float64,\n",
    "    'bucketed_dwell_times': str,\n",
    "#     'related_same_day_brand': str,\n",
    "#     'related_same_month_brand': str,\n",
    "    'visits_by_each_hour': str,\n",
    "#     'popularity_by_day': str,\n",
    "#     'device_type': str,\n",
    "}"
   ]
  },
  {
   "cell_type": "markdown",
   "metadata": {},
   "source": [
    "## Functions"
   ]
  },
  {
   "cell_type": "markdown",
   "metadata": {},
   "source": [
    "`process_pat_data()`"
   ]
  },
  {
   "cell_type": "code",
   "execution_count": 75,
   "metadata": {},
   "outputs": [],
   "source": [
    "def process_pat_data(week, cols=pat_cols, file_fmt=io['pat_csv'],\n",
    "                     nrows=None, chunksize=200000):\n",
    "    \"\"\"\n",
    "    Read and combine the data of the given weekly pattern file into a\n",
    "    dataframe using pandas chunking. Then distribute the processed data by cnty.\n",
    "    Note that this includes reading the `visitor_home_cbgs` as raw strings.\n",
    "\n",
    "    @param week: <[pd.datetime]> week of interest\n",
    "    @param cols: <{str: type}> columns of interest along with their data type\n",
    "    @param file_fmt: <str> format string path of the pattern file\n",
    "    @param nrows: <int> number of rows to be read; if none, read all rows\n",
    "    @param chunksize: <int> size of chunk (bytes) for the file to be broken into\n",
    "    @return nothing: directly write the output to disk, splitting over counties\n",
    "    \"\"\"\n",
    "    week_str = week.strftime('%Y-%m-%d')\n",
    "    print('Processing', week_str)\n",
    "\n",
    "    # get the file name\n",
    "    file = file_fmt.format(week_str)\n",
    "\n",
    "    # initialize\n",
    "    all_pat = pd.DataFrame()\n",
    "    # read chunks\n",
    "    pat_chunks = pd.read_csv(file, usecols=cols.keys(), dtype=cols,\n",
    "                                     nrows=nrows, chunksize=chunksize)\n",
    "    chunk_num = 0\n",
    "    for pat in pat_chunks:\n",
    "        chunk_num += 1\n",
    "        print(week_str, 'reading chunk', chunk_num, 'pat shape:', pat.shape)\n",
    "\n",
    "        # # add date\n",
    "        # pat['week'] = int(week.strftime('%y%m%d'))\n",
    "\n",
    "        # replace NA & change column types\n",
    "        pat = pat.rename(columns={\n",
    "            'safegraph_place_id': 'sg_poi_id',\n",
    "            'poi_cbg': 'cbg',\n",
    "            'visits_by_day': 'visits_daily',\n",
    "            'visits_by_each_hour': 'visits_hourly',\n",
    "            'distance_from_home': 'dist_home',\n",
    "            'bucketed_dwell_times': 'dwell_bins'\n",
    "        }).fillna(0).astype({\n",
    "            'cbg': np.uint64,\n",
    "            'raw_visit_counts': np.uint16,\n",
    "            'raw_visitor_counts': np.uint16,\n",
    "            'dist_home': np.float32,\n",
    "            'median_dwell': np.float32\n",
    "        })\n",
    "\n",
    "        # read the POI IDs table from disk if not already loaded in environment\n",
    "        if not 'poi_ids' in locals():\n",
    "            poi_ids = pd.read_pickle(io['poi_ids'])\n",
    "\n",
    "        # replace POI IDs by joininig it with POI ID table\n",
    "        pat = pd.merge(poi_ids, pat.set_index('sg_poi_id'),\n",
    "                       left_index=True, right_index=True)\\\n",
    "            .reset_index(drop=True)\n",
    "\n",
    "        # convert JSON objects\n",
    "        pat['visits_daily'] = pat['visits_daily'].apply(\n",
    "            lambda x: np.array(ujson.loads(x), np.int16))\n",
    "        pat['visits_hourly'] = pat['visits_hourly'].apply(\n",
    "            lambda x: np.array(ujson.loads(x), np.int16))\n",
    "        pat['dwell_bins'] = pat['dwell_bins'].apply(\n",
    "            lambda x: np.array(list(ujson.loads(x).values()), np.uint16))\n",
    "\n",
    "        # add to all data\n",
    "        all_pat = all_pat.append(pat, ignore_index=True)\n",
    "\n",
    "    # reset the index to maintain integrity\n",
    "    all_pat = all_pat.rename_axis('row_id').reset_index()\n",
    "\n",
    "    # process the home CBGs table\n",
    "    print('Processing home CBGs of', week_str)\n",
    "    home_cbgs = process_home_cbgs(all_pat)\n",
    "\n",
    "    return all_pat, home_cbgs"
   ]
  },
  {
   "cell_type": "markdown",
   "metadata": {},
   "source": [
    "`split_visitor_cbg()`"
   ]
  },
  {
   "cell_type": "code",
   "execution_count": 70,
   "metadata": {},
   "outputs": [],
   "source": [
    "def split_visitor_cbg(row):\n",
    "    \"\"\"Take a POI record/row from the patterns table & allocate its\n",
    "    visitors from other CBGs into a dataframe\"\"\"\n",
    "    result = []\n",
    "    row_items = list(row['visitor_home_cbgs'].items())\n",
    "    for item in row_items:\n",
    "        result.append([row['index'], row['poi_cbg'], item[0], item[1]])\n",
    "    return result"
   ]
  },
  {
   "cell_type": "markdown",
   "metadata": {},
   "source": [
    "`process_dest_cbgs()`"
   ]
  },
  {
   "cell_type": "code",
   "execution_count": 72,
   "metadata": {},
   "outputs": [],
   "source": [
    "def process_dest_cbgs(social_df):\n",
    "    \"\"\"\n",
    "    Convert the destination CBG nDevice distribution of the social distancing\n",
    "    table into a more readable dataframe format.\n",
    "    \n",
    "    @param social_df: <pd.df> social distancing data table\n",
    "    @return od_df: <pd.df> table containing processed OD data\n",
    "    \"\"\"\n",
    "    # remove the <str> destination CBG column, JSONify it & convert to dataframe\n",
    "    data = social_df.pop('dest_cbgs').apply(ujson.loads).reset_index()\n",
    "    # also add origin (home) CBG\n",
    "    data['orig_cbg'] = social_df['orig_cbg']\n",
    "\n",
    "    # # tabulate the dictionary\n",
    "    # od_df = pd.DataFrame()\n",
    "    # data.apply(split_od_table, od_df=od_df, axis=1)\n",
    "    # print(od_df.head())\n",
    "\n",
    "    # tabulate the dictionary\n",
    "    od_df = data.apply(split_od_table, axis=1).tolist()\n",
    "    od_df = [item for sublist in od_df for item in sublist]\n",
    "    od_df = pd.DataFrame(od_df, columns=[\n",
    "        'social_dist_row_id', 'orig_cbg', 'dest_cbg', 'nDevices']).astype({\n",
    "            'social_dist_row_id': np.int32,\n",
    "            'orig_cbg': np.int64,\n",
    "            'dest_cbg': np.int64,\n",
    "            'nDevices': np.int16})\n",
    "\n",
    "    return od_df"
   ]
  },
  {
   "cell_type": "markdown",
   "metadata": {},
   "source": [
    "`distribute_pat_data()`"
   ]
  },
  {
   "cell_type": "code",
   "execution_count": 12,
   "metadata": {},
   "outputs": [],
   "source": [
    "def distribute_pat_data(week):\n",
    "    \"\"\"\n",
    "    Process the patterns data into base & home OD tables) and distribute\n",
    "    among counties.\n",
    "    \"\"\"\n",
    "    # get the processed tables for the given week\n",
    "    pat_df, homes_df = process_pat_data(week)\n",
    "\n",
    "    # get the file paths for these tables\n",
    "    pat_file = io['pat_cnty_fpart'].format(week.strftime('%Y-%m-%d'))\n",
    "    homes_file = io['homes_cnty_fpart'].format(week.strftime('%Y-%m-%d'))\n",
    "\n",
    "    # write these tables distributed among the county folders\n",
    "    distr_by_cnty(pat_df, pat_file)\n",
    "    distr_by_cnty(homes_df, homes_file, cbg_col='poi_cbg', drop_cbg=True)\n",
    "#     distr_by_cnty(pat_df, 'dwell_bins/dwell_bins_' + week.strftime('%Y-%m-%d'), drop_cbg=True)"
   ]
  },
  {
   "cell_type": "markdown",
   "metadata": {},
   "source": [
    "## Process patterns data\n",
    "\n",
    "**Caution**: May take multiple hours!"
   ]
  },
  {
   "cell_type": "code",
   "execution_count": 17,
   "metadata": {},
   "outputs": [
    {
     "name": "stdout",
     "output_type": "stream",
     "text": [
      "CPU times: user 3 µs, sys: 1e+03 ns, total: 4 µs\n",
      "Wall time: 6.91 µs\n"
     ]
    }
   ],
   "source": [
    "%%time\n",
    "# parallelize(distribute_pat_data, weeks)"
   ]
  },
  {
   "cell_type": "markdown",
   "metadata": {},
   "source": [
    "### Combine patterns & dwell time pickles"
   ]
  },
  {
   "cell_type": "markdown",
   "metadata": {},
   "source": [
    "`combine_pat_dwell()`"
   ]
  },
  {
   "cell_type": "code",
   "execution_count": 39,
   "metadata": {},
   "outputs": [],
   "source": [
    "def combine_pat_dwell():\n",
    "    \"\"\"\n",
    "    For each weekly pattern file in all counties, combine its data with the\n",
    "    column `bucketed_dwell_times` because it was mistakenly omitted from the\n",
    "    process of creating the patterns data. So, I created & saved this column\n",
    "    additionally and then combined with the existing patterns files.    \n",
    "    \"\"\"\n",
    "    for state_dir in glob.glob(io['cnty_root'] + '/*'):\n",
    "        state_fips = state_dir[-2:]\n",
    "        for cnty_dir in tqdm(glob.glob(state_dir + '/*'),\n",
    "                             desc='state ' + state_fips):\n",
    "            for week in weeks:\n",
    "                try:\n",
    "                    # specify the filenames\n",
    "                    week_str = week.strftime('%Y-%m-%d')\n",
    "                    pat_file = f'{cnty_dir}/patterns/patterns_{week_str}.pickle'\n",
    "                    dwell_file = '{}/dwell_bins/dwell_bins_{}.pickle'\\\n",
    "                        .format(cnty_dir, week_str)\n",
    "                    # load the data\n",
    "                    pat = pd.read_pickle(pat_file)\n",
    "                    # join them on POI id, ignoring ids of dwell time df\n",
    "                    # so as to not change the rows of the patterns data\n",
    "                    if 'dwell_bins' not in pat.columns:\n",
    "                        dwell = pd.read_pickle(dwell_file)\n",
    "                        pat = pat.merge(dwell, 'left', on='poi_id')\\\n",
    "                            .drop(columns=['row_id'])\n",
    "                        # save to disk\n",
    "                        pat.to_pickle(pat_file)\n",
    "                except FileNotFoundError as e:\n",
    "                    print(e)"
   ]
  },
  {
   "cell_type": "code",
   "execution_count": 47,
   "metadata": {
    "collapsed": true,
    "jupyter": {
     "outputs_hidden": true
    }
   },
   "outputs": [
    {
     "data": {
      "application/vnd.jupyter.widget-view+json": {
       "model_id": "a7f7a6c1dc0d49ee8ca41822b2703ad9",
       "version_major": 2,
       "version_minor": 0
      },
      "text/plain": [
       "HBox(children=(FloatProgress(value=0.0, description='state 00', max=1.0, style=ProgressStyle(description_width…"
      ]
     },
     "metadata": {},
     "output_type": "display_data"
    },
    {
     "name": "stdout",
     "output_type": "stream",
     "text": [
      "\n"
     ]
    },
    {
     "data": {
      "application/vnd.jupyter.widget-view+json": {
       "model_id": "6e4f90955faf488c81925054711bb7fc",
       "version_major": 2,
       "version_minor": 0
      },
      "text/plain": [
       "HBox(children=(FloatProgress(value=0.0, description='state 01', max=67.0, style=ProgressStyle(description_widt…"
      ]
     },
     "metadata": {},
     "output_type": "display_data"
    },
    {
     "name": "stdout",
     "output_type": "stream",
     "text": [
      "\n"
     ]
    },
    {
     "data": {
      "application/vnd.jupyter.widget-view+json": {
       "model_id": "d1860e83d392444c98ebf25c7f6fb5be",
       "version_major": 2,
       "version_minor": 0
      },
      "text/plain": [
       "HBox(children=(FloatProgress(value=0.0, description='state 02', max=30.0, style=ProgressStyle(description_widt…"
      ]
     },
     "metadata": {},
     "output_type": "display_data"
    },
    {
     "name": "stdout",
     "output_type": "stream",
     "text": [
      "[Errno 2] No such file or directory: '/Volumes/Seagate_RV/Research_Data/SG_Covid19/county_wise/02/270/patterns/patterns_2020-01-06.pickle'\n",
      "[Errno 2] No such file or directory: '/Volumes/Seagate_RV/Research_Data/SG_Covid19/county_wise/02/270/patterns/patterns_2020-01-13.pickle'\n",
      "[Errno 2] No such file or directory: '/Volumes/Seagate_RV/Research_Data/SG_Covid19/county_wise/02/270/patterns/patterns_2020-01-20.pickle'\n",
      "[Errno 2] No such file or directory: '/Volumes/Seagate_RV/Research_Data/SG_Covid19/county_wise/02/270/patterns/patterns_2020-01-27.pickle'\n",
      "[Errno 2] No such file or directory: '/Volumes/Seagate_RV/Research_Data/SG_Covid19/county_wise/02/270/patterns/patterns_2020-02-03.pickle'\n",
      "[Errno 2] No such file or directory: '/Volumes/Seagate_RV/Research_Data/SG_Covid19/county_wise/02/270/patterns/patterns_2020-02-10.pickle'\n",
      "[Errno 2] No such file or directory: '/Volumes/Seagate_RV/Research_Data/SG_Covid19/county_wise/02/270/patterns/patterns_2020-02-17.pickle'\n",
      "[Errno 2] No such file or directory: '/Volumes/Seagate_RV/Research_Data/SG_Covid19/county_wise/02/270/patterns/patterns_2020-02-24.pickle'\n",
      "[Errno 2] No such file or directory: '/Volumes/Seagate_RV/Research_Data/SG_Covid19/county_wise/02/270/patterns/patterns_2020-03-02.pickle'\n",
      "[Errno 2] No such file or directory: '/Volumes/Seagate_RV/Research_Data/SG_Covid19/county_wise/02/270/patterns/patterns_2020-03-09.pickle'\n",
      "[Errno 2] No such file or directory: '/Volumes/Seagate_RV/Research_Data/SG_Covid19/county_wise/02/270/patterns/patterns_2020-03-16.pickle'\n",
      "[Errno 2] No such file or directory: '/Volumes/Seagate_RV/Research_Data/SG_Covid19/county_wise/02/270/patterns/patterns_2020-03-23.pickle'\n",
      "[Errno 2] No such file or directory: '/Volumes/Seagate_RV/Research_Data/SG_Covid19/county_wise/02/270/patterns/patterns_2020-03-30.pickle'\n",
      "[Errno 2] No such file or directory: '/Volumes/Seagate_RV/Research_Data/SG_Covid19/county_wise/02/270/patterns/patterns_2020-04-06.pickle'\n",
      "[Errno 2] No such file or directory: '/Volumes/Seagate_RV/Research_Data/SG_Covid19/county_wise/02/270/patterns/patterns_2020-04-13.pickle'\n",
      "[Errno 2] No such file or directory: '/Volumes/Seagate_RV/Research_Data/SG_Covid19/county_wise/02/270/patterns/patterns_2020-04-20.pickle'\n",
      "[Errno 2] No such file or directory: '/Volumes/Seagate_RV/Research_Data/SG_Covid19/county_wise/02/270/patterns/patterns_2020-04-27.pickle'\n",
      "[Errno 2] No such file or directory: '/Volumes/Seagate_RV/Research_Data/SG_Covid19/county_wise/02/270/patterns/patterns_2020-05-04.pickle'\n",
      "[Errno 2] No such file or directory: '/Volumes/Seagate_RV/Research_Data/SG_Covid19/county_wise/02/270/patterns/patterns_2020-05-11.pickle'\n",
      "[Errno 2] No such file or directory: '/Volumes/Seagate_RV/Research_Data/SG_Covid19/county_wise/02/270/patterns/patterns_2020-05-18.pickle'\n",
      "[Errno 2] No such file or directory: '/Volumes/Seagate_RV/Research_Data/SG_Covid19/county_wise/02/270/patterns/patterns_2020-05-25.pickle'\n",
      "\n"
     ]
    },
    {
     "data": {
      "application/vnd.jupyter.widget-view+json": {
       "model_id": "88907b2446474d7cb252e237ff2ec536",
       "version_major": 2,
       "version_minor": 0
      },
      "text/plain": [
       "HBox(children=(FloatProgress(value=0.0, description='state 04', max=15.0, style=ProgressStyle(description_widt…"
      ]
     },
     "metadata": {},
     "output_type": "display_data"
    },
    {
     "name": "stdout",
     "output_type": "stream",
     "text": [
      "\n"
     ]
    },
    {
     "data": {
      "application/vnd.jupyter.widget-view+json": {
       "model_id": "f6dcde99124b488cbd23d01ed7706908",
       "version_major": 2,
       "version_minor": 0
      },
      "text/plain": [
       "HBox(children=(FloatProgress(value=0.0, description='state 05', max=75.0, style=ProgressStyle(description_widt…"
      ]
     },
     "metadata": {},
     "output_type": "display_data"
    },
    {
     "name": "stdout",
     "output_type": "stream",
     "text": [
      "\n"
     ]
    },
    {
     "data": {
      "application/vnd.jupyter.widget-view+json": {
       "model_id": "d82a7413091f4038b6aa1ea49732f332",
       "version_major": 2,
       "version_minor": 0
      },
      "text/plain": [
       "HBox(children=(FloatProgress(value=0.0, description='state 06', max=58.0, style=ProgressStyle(description_widt…"
      ]
     },
     "metadata": {},
     "output_type": "display_data"
    },
    {
     "name": "stdout",
     "output_type": "stream",
     "text": [
      "\n"
     ]
    },
    {
     "data": {
      "application/vnd.jupyter.widget-view+json": {
       "model_id": "45b2dbe5f448444d9255ef486902992e",
       "version_major": 2,
       "version_minor": 0
      },
      "text/plain": [
       "HBox(children=(FloatProgress(value=0.0, description='state 08', max=64.0, style=ProgressStyle(description_widt…"
      ]
     },
     "metadata": {},
     "output_type": "display_data"
    },
    {
     "name": "stdout",
     "output_type": "stream",
     "text": [
      "\n"
     ]
    },
    {
     "data": {
      "application/vnd.jupyter.widget-view+json": {
       "model_id": "879c9735c7e946389402e2d6b2b10702",
       "version_major": 2,
       "version_minor": 0
      },
      "text/plain": [
       "HBox(children=(FloatProgress(value=0.0, description='state 09', max=8.0, style=ProgressStyle(description_width…"
      ]
     },
     "metadata": {},
     "output_type": "display_data"
    },
    {
     "name": "stdout",
     "output_type": "stream",
     "text": [
      "\n"
     ]
    },
    {
     "data": {
      "application/vnd.jupyter.widget-view+json": {
       "model_id": "b46ce6a588d3489bb450733ff93e9e02",
       "version_major": 2,
       "version_minor": 0
      },
      "text/plain": [
       "HBox(children=(FloatProgress(value=0.0, description='state 10', max=3.0, style=ProgressStyle(description_width…"
      ]
     },
     "metadata": {},
     "output_type": "display_data"
    },
    {
     "name": "stdout",
     "output_type": "stream",
     "text": [
      "\n"
     ]
    },
    {
     "data": {
      "application/vnd.jupyter.widget-view+json": {
       "model_id": "01a5c70e611e4028b5dfcee3e111ca0a",
       "version_major": 2,
       "version_minor": 0
      },
      "text/plain": [
       "HBox(children=(FloatProgress(value=0.0, description='state 11', max=1.0, style=ProgressStyle(description_width…"
      ]
     },
     "metadata": {},
     "output_type": "display_data"
    },
    {
     "name": "stdout",
     "output_type": "stream",
     "text": [
      "\n"
     ]
    },
    {
     "data": {
      "application/vnd.jupyter.widget-view+json": {
       "model_id": "e1f7b4dabd064011b2946884b2963ce9",
       "version_major": 2,
       "version_minor": 0
      },
      "text/plain": [
       "HBox(children=(FloatProgress(value=0.0, description='state 12', max=67.0, style=ProgressStyle(description_widt…"
      ]
     },
     "metadata": {},
     "output_type": "display_data"
    },
    {
     "name": "stdout",
     "output_type": "stream",
     "text": [
      "\n"
     ]
    },
    {
     "data": {
      "application/vnd.jupyter.widget-view+json": {
       "model_id": "2fce8a70ba5e4258b0b813f22e38fa9c",
       "version_major": 2,
       "version_minor": 0
      },
      "text/plain": [
       "HBox(children=(FloatProgress(value=0.0, description='state 13', max=159.0, style=ProgressStyle(description_wid…"
      ]
     },
     "metadata": {},
     "output_type": "display_data"
    },
    {
     "name": "stdout",
     "output_type": "stream",
     "text": [
      "\n"
     ]
    },
    {
     "data": {
      "application/vnd.jupyter.widget-view+json": {
       "model_id": "9b6d8d828ad1433b9dff37c03e942195",
       "version_major": 2,
       "version_minor": 0
      },
      "text/plain": [
       "HBox(children=(FloatProgress(value=0.0, description='state 15', max=5.0, style=ProgressStyle(description_width…"
      ]
     },
     "metadata": {},
     "output_type": "display_data"
    },
    {
     "name": "stdout",
     "output_type": "stream",
     "text": [
      "\n"
     ]
    },
    {
     "data": {
      "application/vnd.jupyter.widget-view+json": {
       "model_id": "05130c09759045389280a26bc6b2ecd7",
       "version_major": 2,
       "version_minor": 0
      },
      "text/plain": [
       "HBox(children=(FloatProgress(value=0.0, description='state 16', max=44.0, style=ProgressStyle(description_widt…"
      ]
     },
     "metadata": {},
     "output_type": "display_data"
    },
    {
     "name": "stdout",
     "output_type": "stream",
     "text": [
      "\n"
     ]
    },
    {
     "data": {
      "application/vnd.jupyter.widget-view+json": {
       "model_id": "1024da00104e4d158661b7e5e8778dfc",
       "version_major": 2,
       "version_minor": 0
      },
      "text/plain": [
       "HBox(children=(FloatProgress(value=0.0, description='state 17', max=102.0, style=ProgressStyle(description_wid…"
      ]
     },
     "metadata": {},
     "output_type": "display_data"
    },
    {
     "name": "stdout",
     "output_type": "stream",
     "text": [
      "\n"
     ]
    },
    {
     "data": {
      "application/vnd.jupyter.widget-view+json": {
       "model_id": "f56e0f91faa045eeaaff831967261535",
       "version_major": 2,
       "version_minor": 0
      },
      "text/plain": [
       "HBox(children=(FloatProgress(value=0.0, description='state 18', max=92.0, style=ProgressStyle(description_widt…"
      ]
     },
     "metadata": {},
     "output_type": "display_data"
    },
    {
     "name": "stdout",
     "output_type": "stream",
     "text": [
      "\n"
     ]
    },
    {
     "data": {
      "application/vnd.jupyter.widget-view+json": {
       "model_id": "089ed4d4b89a43dcbcad4f330286baa8",
       "version_major": 2,
       "version_minor": 0
      },
      "text/plain": [
       "HBox(children=(FloatProgress(value=0.0, description='state 19', max=99.0, style=ProgressStyle(description_widt…"
      ]
     },
     "metadata": {},
     "output_type": "display_data"
    },
    {
     "name": "stdout",
     "output_type": "stream",
     "text": [
      "\n"
     ]
    },
    {
     "data": {
      "application/vnd.jupyter.widget-view+json": {
       "model_id": "0c77fd8d02174db99d662a01b6a91a3e",
       "version_major": 2,
       "version_minor": 0
      },
      "text/plain": [
       "HBox(children=(FloatProgress(value=0.0, description='state 20', max=105.0, style=ProgressStyle(description_wid…"
      ]
     },
     "metadata": {},
     "output_type": "display_data"
    },
    {
     "name": "stdout",
     "output_type": "stream",
     "text": [
      "\n"
     ]
    },
    {
     "data": {
      "application/vnd.jupyter.widget-view+json": {
       "model_id": "442ed44977824510b6089e4ca388e8dc",
       "version_major": 2,
       "version_minor": 0
      },
      "text/plain": [
       "HBox(children=(FloatProgress(value=0.0, description='state 21', max=120.0, style=ProgressStyle(description_wid…"
      ]
     },
     "metadata": {},
     "output_type": "display_data"
    },
    {
     "name": "stdout",
     "output_type": "stream",
     "text": [
      "\n"
     ]
    },
    {
     "data": {
      "application/vnd.jupyter.widget-view+json": {
       "model_id": "ae54622678cd4f29aa41cf350c0a4cf9",
       "version_major": 2,
       "version_minor": 0
      },
      "text/plain": [
       "HBox(children=(FloatProgress(value=0.0, description='state 22', max=64.0, style=ProgressStyle(description_widt…"
      ]
     },
     "metadata": {},
     "output_type": "display_data"
    },
    {
     "name": "stdout",
     "output_type": "stream",
     "text": [
      "\n"
     ]
    },
    {
     "data": {
      "application/vnd.jupyter.widget-view+json": {
       "model_id": "a578e5cbafe3495d957ba860748ec955",
       "version_major": 2,
       "version_minor": 0
      },
      "text/plain": [
       "HBox(children=(FloatProgress(value=0.0, description='state 23', max=16.0, style=ProgressStyle(description_widt…"
      ]
     },
     "metadata": {},
     "output_type": "display_data"
    },
    {
     "name": "stdout",
     "output_type": "stream",
     "text": [
      "\n"
     ]
    },
    {
     "data": {
      "application/vnd.jupyter.widget-view+json": {
       "model_id": "53f858d443d24d1f8ddc72ccd4ad7d7d",
       "version_major": 2,
       "version_minor": 0
      },
      "text/plain": [
       "HBox(children=(FloatProgress(value=0.0, description='state 24', max=24.0, style=ProgressStyle(description_widt…"
      ]
     },
     "metadata": {},
     "output_type": "display_data"
    },
    {
     "name": "stdout",
     "output_type": "stream",
     "text": [
      "\n"
     ]
    },
    {
     "data": {
      "application/vnd.jupyter.widget-view+json": {
       "model_id": "4a3e5947902a406fb31b800e49ca0f09",
       "version_major": 2,
       "version_minor": 0
      },
      "text/plain": [
       "HBox(children=(FloatProgress(value=0.0, description='state 25', max=14.0, style=ProgressStyle(description_widt…"
      ]
     },
     "metadata": {},
     "output_type": "display_data"
    },
    {
     "name": "stdout",
     "output_type": "stream",
     "text": [
      "\n"
     ]
    },
    {
     "data": {
      "application/vnd.jupyter.widget-view+json": {
       "model_id": "0cac4c962796439f95ce87b2f57c91f6",
       "version_major": 2,
       "version_minor": 0
      },
      "text/plain": [
       "HBox(children=(FloatProgress(value=0.0, description='state 26', max=83.0, style=ProgressStyle(description_widt…"
      ]
     },
     "metadata": {},
     "output_type": "display_data"
    },
    {
     "name": "stdout",
     "output_type": "stream",
     "text": [
      "\n"
     ]
    },
    {
     "data": {
      "application/vnd.jupyter.widget-view+json": {
       "model_id": "a61c12491ba14da4b50fec01f98bb034",
       "version_major": 2,
       "version_minor": 0
      },
      "text/plain": [
       "HBox(children=(FloatProgress(value=0.0, description='state 27', max=87.0, style=ProgressStyle(description_widt…"
      ]
     },
     "metadata": {},
     "output_type": "display_data"
    },
    {
     "name": "stdout",
     "output_type": "stream",
     "text": [
      "\n"
     ]
    },
    {
     "data": {
      "application/vnd.jupyter.widget-view+json": {
       "model_id": "ee36ec6332414046bfbd4d2f6764b7e7",
       "version_major": 2,
       "version_minor": 0
      },
      "text/plain": [
       "HBox(children=(FloatProgress(value=0.0, description='state 28', max=82.0, style=ProgressStyle(description_widt…"
      ]
     },
     "metadata": {},
     "output_type": "display_data"
    },
    {
     "name": "stdout",
     "output_type": "stream",
     "text": [
      "\n"
     ]
    },
    {
     "data": {
      "application/vnd.jupyter.widget-view+json": {
       "model_id": "a9609e6714f840c2af944c68a8f86537",
       "version_major": 2,
       "version_minor": 0
      },
      "text/plain": [
       "HBox(children=(FloatProgress(value=0.0, description='state 29', max=115.0, style=ProgressStyle(description_wid…"
      ]
     },
     "metadata": {},
     "output_type": "display_data"
    },
    {
     "name": "stdout",
     "output_type": "stream",
     "text": [
      "\n"
     ]
    },
    {
     "data": {
      "application/vnd.jupyter.widget-view+json": {
       "model_id": "f8b9208fb6164195b57548cd29c5be1c",
       "version_major": 2,
       "version_minor": 0
      },
      "text/plain": [
       "HBox(children=(FloatProgress(value=0.0, description='state 30', max=56.0, style=ProgressStyle(description_widt…"
      ]
     },
     "metadata": {},
     "output_type": "display_data"
    },
    {
     "name": "stdout",
     "output_type": "stream",
     "text": [
      "\n"
     ]
    },
    {
     "data": {
      "application/vnd.jupyter.widget-view+json": {
       "model_id": "6154f9f0a015412899e96566719ea69e",
       "version_major": 2,
       "version_minor": 0
      },
      "text/plain": [
       "HBox(children=(FloatProgress(value=0.0, description='state 31', max=93.0, style=ProgressStyle(description_widt…"
      ]
     },
     "metadata": {},
     "output_type": "display_data"
    },
    {
     "name": "stdout",
     "output_type": "stream",
     "text": [
      "\n"
     ]
    },
    {
     "data": {
      "application/vnd.jupyter.widget-view+json": {
       "model_id": "4d43e6eca30d4749a568be6df0cc201f",
       "version_major": 2,
       "version_minor": 0
      },
      "text/plain": [
       "HBox(children=(FloatProgress(value=0.0, description='state 32', max=17.0, style=ProgressStyle(description_widt…"
      ]
     },
     "metadata": {},
     "output_type": "display_data"
    },
    {
     "name": "stdout",
     "output_type": "stream",
     "text": [
      "\n"
     ]
    },
    {
     "data": {
      "application/vnd.jupyter.widget-view+json": {
       "model_id": "eb54325f7b4747a980c9160eacdc045d",
       "version_major": 2,
       "version_minor": 0
      },
      "text/plain": [
       "HBox(children=(FloatProgress(value=0.0, description='state 33', max=10.0, style=ProgressStyle(description_widt…"
      ]
     },
     "metadata": {},
     "output_type": "display_data"
    },
    {
     "name": "stdout",
     "output_type": "stream",
     "text": [
      "\n"
     ]
    },
    {
     "data": {
      "application/vnd.jupyter.widget-view+json": {
       "model_id": "3581cf8803fe4e5eae49e5baa71c636b",
       "version_major": 2,
       "version_minor": 0
      },
      "text/plain": [
       "HBox(children=(FloatProgress(value=0.0, description='state 34', max=21.0, style=ProgressStyle(description_widt…"
      ]
     },
     "metadata": {},
     "output_type": "display_data"
    },
    {
     "name": "stdout",
     "output_type": "stream",
     "text": [
      "\n"
     ]
    },
    {
     "data": {
      "application/vnd.jupyter.widget-view+json": {
       "model_id": "8548d91adffa420bab19cd11ad4656b1",
       "version_major": 2,
       "version_minor": 0
      },
      "text/plain": [
       "HBox(children=(FloatProgress(value=0.0, description='state 35', max=33.0, style=ProgressStyle(description_widt…"
      ]
     },
     "metadata": {},
     "output_type": "display_data"
    },
    {
     "name": "stdout",
     "output_type": "stream",
     "text": [
      "\n"
     ]
    },
    {
     "data": {
      "application/vnd.jupyter.widget-view+json": {
       "model_id": "343645a695ba4c8a878a5299d6e9594a",
       "version_major": 2,
       "version_minor": 0
      },
      "text/plain": [
       "HBox(children=(FloatProgress(value=0.0, description='state 36', max=62.0, style=ProgressStyle(description_widt…"
      ]
     },
     "metadata": {},
     "output_type": "display_data"
    },
    {
     "name": "stdout",
     "output_type": "stream",
     "text": [
      "\n"
     ]
    },
    {
     "data": {
      "application/vnd.jupyter.widget-view+json": {
       "model_id": "b532ceeb23884187b4dc7ca3029989b1",
       "version_major": 2,
       "version_minor": 0
      },
      "text/plain": [
       "HBox(children=(FloatProgress(value=0.0, description='state 37', style=ProgressStyle(description_width='initial…"
      ]
     },
     "metadata": {},
     "output_type": "display_data"
    },
    {
     "name": "stdout",
     "output_type": "stream",
     "text": [
      "\n"
     ]
    },
    {
     "data": {
      "application/vnd.jupyter.widget-view+json": {
       "model_id": "4aa230ff569146f39fc957651bf792c0",
       "version_major": 2,
       "version_minor": 0
      },
      "text/plain": [
       "HBox(children=(FloatProgress(value=0.0, description='state 38', max=53.0, style=ProgressStyle(description_widt…"
      ]
     },
     "metadata": {},
     "output_type": "display_data"
    },
    {
     "name": "stdout",
     "output_type": "stream",
     "text": [
      "\n"
     ]
    },
    {
     "data": {
      "application/vnd.jupyter.widget-view+json": {
       "model_id": "728d395103ce468dbdfc8095a1faeb05",
       "version_major": 2,
       "version_minor": 0
      },
      "text/plain": [
       "HBox(children=(FloatProgress(value=0.0, description='state 39', max=88.0, style=ProgressStyle(description_widt…"
      ]
     },
     "metadata": {},
     "output_type": "display_data"
    },
    {
     "name": "stdout",
     "output_type": "stream",
     "text": [
      "\n"
     ]
    },
    {
     "data": {
      "application/vnd.jupyter.widget-view+json": {
       "model_id": "67ba63120c1a4485843d2fcc8f36e605",
       "version_major": 2,
       "version_minor": 0
      },
      "text/plain": [
       "HBox(children=(FloatProgress(value=0.0, description='state 40', max=77.0, style=ProgressStyle(description_widt…"
      ]
     },
     "metadata": {},
     "output_type": "display_data"
    },
    {
     "name": "stdout",
     "output_type": "stream",
     "text": [
      "\n"
     ]
    },
    {
     "data": {
      "application/vnd.jupyter.widget-view+json": {
       "model_id": "23d3936030064412a4b9b73927d28b1e",
       "version_major": 2,
       "version_minor": 0
      },
      "text/plain": [
       "HBox(children=(FloatProgress(value=0.0, description='state 41', max=36.0, style=ProgressStyle(description_widt…"
      ]
     },
     "metadata": {},
     "output_type": "display_data"
    },
    {
     "name": "stdout",
     "output_type": "stream",
     "text": [
      "\n"
     ]
    },
    {
     "data": {
      "application/vnd.jupyter.widget-view+json": {
       "model_id": "9590e2fe37fd41a7a6fcf69602d06350",
       "version_major": 2,
       "version_minor": 0
      },
      "text/plain": [
       "HBox(children=(FloatProgress(value=0.0, description='state 42', max=67.0, style=ProgressStyle(description_widt…"
      ]
     },
     "metadata": {},
     "output_type": "display_data"
    },
    {
     "name": "stdout",
     "output_type": "stream",
     "text": [
      "\n"
     ]
    },
    {
     "data": {
      "application/vnd.jupyter.widget-view+json": {
       "model_id": "4a924bc0a6f341fc8989c011d0ca1892",
       "version_major": 2,
       "version_minor": 0
      },
      "text/plain": [
       "HBox(children=(FloatProgress(value=0.0, description='state 44', max=5.0, style=ProgressStyle(description_width…"
      ]
     },
     "metadata": {},
     "output_type": "display_data"
    },
    {
     "name": "stdout",
     "output_type": "stream",
     "text": [
      "\n"
     ]
    },
    {
     "data": {
      "application/vnd.jupyter.widget-view+json": {
       "model_id": "5f0f57ffe72343b2bd911c6aa7f46a0a",
       "version_major": 2,
       "version_minor": 0
      },
      "text/plain": [
       "HBox(children=(FloatProgress(value=0.0, description='state 45', max=46.0, style=ProgressStyle(description_widt…"
      ]
     },
     "metadata": {},
     "output_type": "display_data"
    },
    {
     "name": "stdout",
     "output_type": "stream",
     "text": [
      "\n"
     ]
    },
    {
     "data": {
      "application/vnd.jupyter.widget-view+json": {
       "model_id": "1ed89afeff5743a5a3da683a3c27eba6",
       "version_major": 2,
       "version_minor": 0
      },
      "text/plain": [
       "HBox(children=(FloatProgress(value=0.0, description='state 46', max=67.0, style=ProgressStyle(description_widt…"
      ]
     },
     "metadata": {},
     "output_type": "display_data"
    },
    {
     "name": "stdout",
     "output_type": "stream",
     "text": [
      "[Errno 2] No such file or directory: '/Volumes/Seagate_RV/Research_Data/SG_Covid19/county_wise/46/113/patterns/patterns_2020-01-06.pickle'\n",
      "[Errno 2] No such file or directory: '/Volumes/Seagate_RV/Research_Data/SG_Covid19/county_wise/46/113/patterns/patterns_2020-01-13.pickle'\n",
      "[Errno 2] No such file or directory: '/Volumes/Seagate_RV/Research_Data/SG_Covid19/county_wise/46/113/patterns/patterns_2020-01-20.pickle'\n",
      "[Errno 2] No such file or directory: '/Volumes/Seagate_RV/Research_Data/SG_Covid19/county_wise/46/113/patterns/patterns_2020-01-27.pickle'\n",
      "[Errno 2] No such file or directory: '/Volumes/Seagate_RV/Research_Data/SG_Covid19/county_wise/46/113/patterns/patterns_2020-02-03.pickle'\n",
      "[Errno 2] No such file or directory: '/Volumes/Seagate_RV/Research_Data/SG_Covid19/county_wise/46/113/patterns/patterns_2020-02-10.pickle'\n",
      "[Errno 2] No such file or directory: '/Volumes/Seagate_RV/Research_Data/SG_Covid19/county_wise/46/113/patterns/patterns_2020-02-17.pickle'\n",
      "[Errno 2] No such file or directory: '/Volumes/Seagate_RV/Research_Data/SG_Covid19/county_wise/46/113/patterns/patterns_2020-02-24.pickle'\n",
      "[Errno 2] No such file or directory: '/Volumes/Seagate_RV/Research_Data/SG_Covid19/county_wise/46/113/patterns/patterns_2020-03-02.pickle'\n",
      "[Errno 2] No such file or directory: '/Volumes/Seagate_RV/Research_Data/SG_Covid19/county_wise/46/113/patterns/patterns_2020-03-09.pickle'\n",
      "[Errno 2] No such file or directory: '/Volumes/Seagate_RV/Research_Data/SG_Covid19/county_wise/46/113/patterns/patterns_2020-03-16.pickle'\n",
      "[Errno 2] No such file or directory: '/Volumes/Seagate_RV/Research_Data/SG_Covid19/county_wise/46/113/patterns/patterns_2020-03-23.pickle'\n",
      "[Errno 2] No such file or directory: '/Volumes/Seagate_RV/Research_Data/SG_Covid19/county_wise/46/113/patterns/patterns_2020-03-30.pickle'\n",
      "[Errno 2] No such file or directory: '/Volumes/Seagate_RV/Research_Data/SG_Covid19/county_wise/46/113/patterns/patterns_2020-04-06.pickle'\n",
      "[Errno 2] No such file or directory: '/Volumes/Seagate_RV/Research_Data/SG_Covid19/county_wise/46/113/patterns/patterns_2020-04-13.pickle'\n",
      "[Errno 2] No such file or directory: '/Volumes/Seagate_RV/Research_Data/SG_Covid19/county_wise/46/113/patterns/patterns_2020-04-20.pickle'\n",
      "[Errno 2] No such file or directory: '/Volumes/Seagate_RV/Research_Data/SG_Covid19/county_wise/46/113/patterns/patterns_2020-04-27.pickle'\n",
      "[Errno 2] No such file or directory: '/Volumes/Seagate_RV/Research_Data/SG_Covid19/county_wise/46/113/patterns/patterns_2020-05-04.pickle'\n",
      "[Errno 2] No such file or directory: '/Volumes/Seagate_RV/Research_Data/SG_Covid19/county_wise/46/113/patterns/patterns_2020-05-11.pickle'\n",
      "[Errno 2] No such file or directory: '/Volumes/Seagate_RV/Research_Data/SG_Covid19/county_wise/46/113/patterns/patterns_2020-05-18.pickle'\n",
      "[Errno 2] No such file or directory: '/Volumes/Seagate_RV/Research_Data/SG_Covid19/county_wise/46/113/patterns/patterns_2020-05-25.pickle'\n",
      "\n"
     ]
    },
    {
     "data": {
      "application/vnd.jupyter.widget-view+json": {
       "model_id": "80d408c7ff2740d0bbbf106ea177ce75",
       "version_major": 2,
       "version_minor": 0
      },
      "text/plain": [
       "HBox(children=(FloatProgress(value=0.0, description='state 47', max=95.0, style=ProgressStyle(description_widt…"
      ]
     },
     "metadata": {},
     "output_type": "display_data"
    },
    {
     "name": "stdout",
     "output_type": "stream",
     "text": [
      "\n"
     ]
    },
    {
     "data": {
      "application/vnd.jupyter.widget-view+json": {
       "model_id": "98229ebecd48470b94cd01eaf1b88b2a",
       "version_major": 2,
       "version_minor": 0
      },
      "text/plain": [
       "HBox(children=(FloatProgress(value=0.0, description='state 48', max=254.0, style=ProgressStyle(description_wid…"
      ]
     },
     "metadata": {},
     "output_type": "display_data"
    },
    {
     "name": "stdout",
     "output_type": "stream",
     "text": [
      "\n"
     ]
    },
    {
     "data": {
      "application/vnd.jupyter.widget-view+json": {
       "model_id": "291a7d4d8cb148ab91b8dedb8c80a460",
       "version_major": 2,
       "version_minor": 0
      },
      "text/plain": [
       "HBox(children=(FloatProgress(value=0.0, description='state 49', max=29.0, style=ProgressStyle(description_widt…"
      ]
     },
     "metadata": {},
     "output_type": "display_data"
    },
    {
     "name": "stdout",
     "output_type": "stream",
     "text": [
      "\n"
     ]
    },
    {
     "data": {
      "application/vnd.jupyter.widget-view+json": {
       "model_id": "e191353c2fbb4de4ae1172d9651639bf",
       "version_major": 2,
       "version_minor": 0
      },
      "text/plain": [
       "HBox(children=(FloatProgress(value=0.0, description='state 50', max=14.0, style=ProgressStyle(description_widt…"
      ]
     },
     "metadata": {},
     "output_type": "display_data"
    },
    {
     "name": "stdout",
     "output_type": "stream",
     "text": [
      "\n"
     ]
    },
    {
     "data": {
      "application/vnd.jupyter.widget-view+json": {
       "model_id": "ed3842fb8fa34733af50b796eeff52f0",
       "version_major": 2,
       "version_minor": 0
      },
      "text/plain": [
       "HBox(children=(FloatProgress(value=0.0, description='state 51', max=134.0, style=ProgressStyle(description_wid…"
      ]
     },
     "metadata": {},
     "output_type": "display_data"
    },
    {
     "name": "stdout",
     "output_type": "stream",
     "text": [
      "[Errno 2] No such file or directory: '/Volumes/Seagate_RV/Research_Data/SG_Covid19/county_wise/51/515/patterns/patterns_2020-01-06.pickle'\n",
      "[Errno 2] No such file or directory: '/Volumes/Seagate_RV/Research_Data/SG_Covid19/county_wise/51/515/patterns/patterns_2020-01-13.pickle'\n",
      "[Errno 2] No such file or directory: '/Volumes/Seagate_RV/Research_Data/SG_Covid19/county_wise/51/515/patterns/patterns_2020-01-20.pickle'\n",
      "[Errno 2] No such file or directory: '/Volumes/Seagate_RV/Research_Data/SG_Covid19/county_wise/51/515/patterns/patterns_2020-01-27.pickle'\n",
      "[Errno 2] No such file or directory: '/Volumes/Seagate_RV/Research_Data/SG_Covid19/county_wise/51/515/patterns/patterns_2020-02-03.pickle'\n",
      "[Errno 2] No such file or directory: '/Volumes/Seagate_RV/Research_Data/SG_Covid19/county_wise/51/515/patterns/patterns_2020-02-10.pickle'\n",
      "[Errno 2] No such file or directory: '/Volumes/Seagate_RV/Research_Data/SG_Covid19/county_wise/51/515/patterns/patterns_2020-02-17.pickle'\n",
      "[Errno 2] No such file or directory: '/Volumes/Seagate_RV/Research_Data/SG_Covid19/county_wise/51/515/patterns/patterns_2020-02-24.pickle'\n",
      "[Errno 2] No such file or directory: '/Volumes/Seagate_RV/Research_Data/SG_Covid19/county_wise/51/515/patterns/patterns_2020-03-02.pickle'\n",
      "[Errno 2] No such file or directory: '/Volumes/Seagate_RV/Research_Data/SG_Covid19/county_wise/51/515/patterns/patterns_2020-03-09.pickle'\n",
      "[Errno 2] No such file or directory: '/Volumes/Seagate_RV/Research_Data/SG_Covid19/county_wise/51/515/patterns/patterns_2020-03-16.pickle'\n",
      "[Errno 2] No such file or directory: '/Volumes/Seagate_RV/Research_Data/SG_Covid19/county_wise/51/515/patterns/patterns_2020-03-23.pickle'\n",
      "[Errno 2] No such file or directory: '/Volumes/Seagate_RV/Research_Data/SG_Covid19/county_wise/51/515/patterns/patterns_2020-03-30.pickle'\n",
      "[Errno 2] No such file or directory: '/Volumes/Seagate_RV/Research_Data/SG_Covid19/county_wise/51/515/patterns/patterns_2020-04-06.pickle'\n",
      "[Errno 2] No such file or directory: '/Volumes/Seagate_RV/Research_Data/SG_Covid19/county_wise/51/515/patterns/patterns_2020-04-13.pickle'\n",
      "[Errno 2] No such file or directory: '/Volumes/Seagate_RV/Research_Data/SG_Covid19/county_wise/51/515/patterns/patterns_2020-04-20.pickle'\n",
      "[Errno 2] No such file or directory: '/Volumes/Seagate_RV/Research_Data/SG_Covid19/county_wise/51/515/patterns/patterns_2020-04-27.pickle'\n",
      "[Errno 2] No such file or directory: '/Volumes/Seagate_RV/Research_Data/SG_Covid19/county_wise/51/515/patterns/patterns_2020-05-04.pickle'\n",
      "[Errno 2] No such file or directory: '/Volumes/Seagate_RV/Research_Data/SG_Covid19/county_wise/51/515/patterns/patterns_2020-05-11.pickle'\n",
      "[Errno 2] No such file or directory: '/Volumes/Seagate_RV/Research_Data/SG_Covid19/county_wise/51/515/patterns/patterns_2020-05-18.pickle'\n",
      "[Errno 2] No such file or directory: '/Volumes/Seagate_RV/Research_Data/SG_Covid19/county_wise/51/515/patterns/patterns_2020-05-25.pickle'\n",
      "\n"
     ]
    },
    {
     "data": {
      "application/vnd.jupyter.widget-view+json": {
       "model_id": "cccec661d82d4ea29d278ec5996bee1a",
       "version_major": 2,
       "version_minor": 0
      },
      "text/plain": [
       "HBox(children=(FloatProgress(value=0.0, description='state 53', max=39.0, style=ProgressStyle(description_widt…"
      ]
     },
     "metadata": {},
     "output_type": "display_data"
    },
    {
     "name": "stdout",
     "output_type": "stream",
     "text": [
      "\n"
     ]
    },
    {
     "data": {
      "application/vnd.jupyter.widget-view+json": {
       "model_id": "4d74f163ca7747ec858978173fad89f7",
       "version_major": 2,
       "version_minor": 0
      },
      "text/plain": [
       "HBox(children=(FloatProgress(value=0.0, description='state 54', max=55.0, style=ProgressStyle(description_widt…"
      ]
     },
     "metadata": {},
     "output_type": "display_data"
    },
    {
     "name": "stdout",
     "output_type": "stream",
     "text": [
      "\n"
     ]
    },
    {
     "data": {
      "application/vnd.jupyter.widget-view+json": {
       "model_id": "8600d5c4858c422dae1fb2c8792e60c5",
       "version_major": 2,
       "version_minor": 0
      },
      "text/plain": [
       "HBox(children=(FloatProgress(value=0.0, description='state 55', max=72.0, style=ProgressStyle(description_widt…"
      ]
     },
     "metadata": {},
     "output_type": "display_data"
    },
    {
     "name": "stdout",
     "output_type": "stream",
     "text": [
      "\n"
     ]
    },
    {
     "data": {
      "application/vnd.jupyter.widget-view+json": {
       "model_id": "ffd8fbd71c43470a97ecab320c9b136d",
       "version_major": 2,
       "version_minor": 0
      },
      "text/plain": [
       "HBox(children=(FloatProgress(value=0.0, description='state 56', max=23.0, style=ProgressStyle(description_widt…"
      ]
     },
     "metadata": {},
     "output_type": "display_data"
    },
    {
     "name": "stdout",
     "output_type": "stream",
     "text": [
      "\n"
     ]
    },
    {
     "data": {
      "application/vnd.jupyter.widget-view+json": {
       "model_id": "56f485aab3c241c9a4a5794e98ca3e2f",
       "version_major": 2,
       "version_minor": 0
      },
      "text/plain": [
       "HBox(children=(FloatProgress(value=0.0, description='state 60', max=5.0, style=ProgressStyle(description_width…"
      ]
     },
     "metadata": {},
     "output_type": "display_data"
    },
    {
     "name": "stdout",
     "output_type": "stream",
     "text": [
      "[Errno 2] No such file or directory: '/Volumes/Seagate_RV/Research_Data/SG_Covid19/county_wise/60/020/patterns/patterns_2020-01-06.pickle'\n",
      "[Errno 2] No such file or directory: '/Volumes/Seagate_RV/Research_Data/SG_Covid19/county_wise/60/020/patterns/patterns_2020-01-13.pickle'\n",
      "[Errno 2] No such file or directory: '/Volumes/Seagate_RV/Research_Data/SG_Covid19/county_wise/60/020/patterns/patterns_2020-01-20.pickle'\n",
      "[Errno 2] No such file or directory: '/Volumes/Seagate_RV/Research_Data/SG_Covid19/county_wise/60/020/patterns/patterns_2020-01-27.pickle'\n",
      "[Errno 2] No such file or directory: '/Volumes/Seagate_RV/Research_Data/SG_Covid19/county_wise/60/020/patterns/patterns_2020-02-03.pickle'\n",
      "[Errno 2] No such file or directory: '/Volumes/Seagate_RV/Research_Data/SG_Covid19/county_wise/60/020/patterns/patterns_2020-02-10.pickle'\n",
      "[Errno 2] No such file or directory: '/Volumes/Seagate_RV/Research_Data/SG_Covid19/county_wise/60/020/patterns/patterns_2020-02-17.pickle'\n",
      "[Errno 2] No such file or directory: '/Volumes/Seagate_RV/Research_Data/SG_Covid19/county_wise/60/020/patterns/patterns_2020-02-24.pickle'\n",
      "[Errno 2] No such file or directory: '/Volumes/Seagate_RV/Research_Data/SG_Covid19/county_wise/60/020/patterns/patterns_2020-03-02.pickle'\n",
      "[Errno 2] No such file or directory: '/Volumes/Seagate_RV/Research_Data/SG_Covid19/county_wise/60/020/patterns/patterns_2020-03-09.pickle'\n",
      "[Errno 2] No such file or directory: '/Volumes/Seagate_RV/Research_Data/SG_Covid19/county_wise/60/020/patterns/patterns_2020-03-16.pickle'\n",
      "[Errno 2] No such file or directory: '/Volumes/Seagate_RV/Research_Data/SG_Covid19/county_wise/60/020/patterns/patterns_2020-03-23.pickle'\n",
      "[Errno 2] No such file or directory: '/Volumes/Seagate_RV/Research_Data/SG_Covid19/county_wise/60/020/patterns/patterns_2020-03-30.pickle'\n",
      "[Errno 2] No such file or directory: '/Volumes/Seagate_RV/Research_Data/SG_Covid19/county_wise/60/020/patterns/patterns_2020-04-06.pickle'\n",
      "[Errno 2] No such file or directory: '/Volumes/Seagate_RV/Research_Data/SG_Covid19/county_wise/60/020/patterns/patterns_2020-04-13.pickle'\n",
      "[Errno 2] No such file or directory: '/Volumes/Seagate_RV/Research_Data/SG_Covid19/county_wise/60/020/patterns/patterns_2020-04-20.pickle'\n",
      "[Errno 2] No such file or directory: '/Volumes/Seagate_RV/Research_Data/SG_Covid19/county_wise/60/020/patterns/patterns_2020-04-27.pickle'\n",
      "[Errno 2] No such file or directory: '/Volumes/Seagate_RV/Research_Data/SG_Covid19/county_wise/60/020/patterns/patterns_2020-05-04.pickle'\n",
      "[Errno 2] No such file or directory: '/Volumes/Seagate_RV/Research_Data/SG_Covid19/county_wise/60/020/patterns/patterns_2020-05-11.pickle'\n",
      "[Errno 2] No such file or directory: '/Volumes/Seagate_RV/Research_Data/SG_Covid19/county_wise/60/020/patterns/patterns_2020-05-18.pickle'\n",
      "[Errno 2] No such file or directory: '/Volumes/Seagate_RV/Research_Data/SG_Covid19/county_wise/60/020/patterns/patterns_2020-05-25.pickle'\n",
      "[Errno 2] No such file or directory: '/Volumes/Seagate_RV/Research_Data/SG_Covid19/county_wise/60/030/patterns/patterns_2020-01-06.pickle'\n",
      "[Errno 2] No such file or directory: '/Volumes/Seagate_RV/Research_Data/SG_Covid19/county_wise/60/030/patterns/patterns_2020-01-13.pickle'\n",
      "[Errno 2] No such file or directory: '/Volumes/Seagate_RV/Research_Data/SG_Covid19/county_wise/60/030/patterns/patterns_2020-01-20.pickle'\n",
      "[Errno 2] No such file or directory: '/Volumes/Seagate_RV/Research_Data/SG_Covid19/county_wise/60/030/patterns/patterns_2020-01-27.pickle'\n",
      "[Errno 2] No such file or directory: '/Volumes/Seagate_RV/Research_Data/SG_Covid19/county_wise/60/030/patterns/patterns_2020-02-03.pickle'\n",
      "[Errno 2] No such file or directory: '/Volumes/Seagate_RV/Research_Data/SG_Covid19/county_wise/60/030/patterns/patterns_2020-02-10.pickle'\n",
      "[Errno 2] No such file or directory: '/Volumes/Seagate_RV/Research_Data/SG_Covid19/county_wise/60/030/patterns/patterns_2020-02-17.pickle'\n",
      "[Errno 2] No such file or directory: '/Volumes/Seagate_RV/Research_Data/SG_Covid19/county_wise/60/030/patterns/patterns_2020-02-24.pickle'\n",
      "[Errno 2] No such file or directory: '/Volumes/Seagate_RV/Research_Data/SG_Covid19/county_wise/60/030/patterns/patterns_2020-03-02.pickle'\n",
      "[Errno 2] No such file or directory: '/Volumes/Seagate_RV/Research_Data/SG_Covid19/county_wise/60/030/patterns/patterns_2020-03-09.pickle'\n",
      "[Errno 2] No such file or directory: '/Volumes/Seagate_RV/Research_Data/SG_Covid19/county_wise/60/030/patterns/patterns_2020-03-16.pickle'\n",
      "[Errno 2] No such file or directory: '/Volumes/Seagate_RV/Research_Data/SG_Covid19/county_wise/60/030/patterns/patterns_2020-03-23.pickle'\n",
      "[Errno 2] No such file or directory: '/Volumes/Seagate_RV/Research_Data/SG_Covid19/county_wise/60/030/patterns/patterns_2020-03-30.pickle'\n",
      "[Errno 2] No such file or directory: '/Volumes/Seagate_RV/Research_Data/SG_Covid19/county_wise/60/030/patterns/patterns_2020-04-06.pickle'\n",
      "[Errno 2] No such file or directory: '/Volumes/Seagate_RV/Research_Data/SG_Covid19/county_wise/60/030/patterns/patterns_2020-04-13.pickle'\n",
      "[Errno 2] No such file or directory: '/Volumes/Seagate_RV/Research_Data/SG_Covid19/county_wise/60/030/patterns/patterns_2020-04-20.pickle'\n",
      "[Errno 2] No such file or directory: '/Volumes/Seagate_RV/Research_Data/SG_Covid19/county_wise/60/030/patterns/patterns_2020-04-27.pickle'\n",
      "[Errno 2] No such file or directory: '/Volumes/Seagate_RV/Research_Data/SG_Covid19/county_wise/60/030/patterns/patterns_2020-05-04.pickle'\n",
      "[Errno 2] No such file or directory: '/Volumes/Seagate_RV/Research_Data/SG_Covid19/county_wise/60/030/patterns/patterns_2020-05-11.pickle'\n",
      "[Errno 2] No such file or directory: '/Volumes/Seagate_RV/Research_Data/SG_Covid19/county_wise/60/030/patterns/patterns_2020-05-18.pickle'\n",
      "[Errno 2] No such file or directory: '/Volumes/Seagate_RV/Research_Data/SG_Covid19/county_wise/60/030/patterns/patterns_2020-05-25.pickle'\n",
      "[Errno 2] No such file or directory: '/Volumes/Seagate_RV/Research_Data/SG_Covid19/county_wise/60/040/patterns/patterns_2020-01-06.pickle'\n",
      "[Errno 2] No such file or directory: '/Volumes/Seagate_RV/Research_Data/SG_Covid19/county_wise/60/040/patterns/patterns_2020-01-13.pickle'\n",
      "[Errno 2] No such file or directory: '/Volumes/Seagate_RV/Research_Data/SG_Covid19/county_wise/60/040/patterns/patterns_2020-01-20.pickle'\n",
      "[Errno 2] No such file or directory: '/Volumes/Seagate_RV/Research_Data/SG_Covid19/county_wise/60/040/patterns/patterns_2020-01-27.pickle'\n",
      "[Errno 2] No such file or directory: '/Volumes/Seagate_RV/Research_Data/SG_Covid19/county_wise/60/040/patterns/patterns_2020-02-03.pickle'\n",
      "[Errno 2] No such file or directory: '/Volumes/Seagate_RV/Research_Data/SG_Covid19/county_wise/60/040/patterns/patterns_2020-02-10.pickle'\n",
      "[Errno 2] No such file or directory: '/Volumes/Seagate_RV/Research_Data/SG_Covid19/county_wise/60/040/patterns/patterns_2020-02-17.pickle'\n",
      "[Errno 2] No such file or directory: '/Volumes/Seagate_RV/Research_Data/SG_Covid19/county_wise/60/040/patterns/patterns_2020-02-24.pickle'\n",
      "[Errno 2] No such file or directory: '/Volumes/Seagate_RV/Research_Data/SG_Covid19/county_wise/60/040/patterns/patterns_2020-03-02.pickle'\n",
      "[Errno 2] No such file or directory: '/Volumes/Seagate_RV/Research_Data/SG_Covid19/county_wise/60/040/patterns/patterns_2020-03-09.pickle'\n",
      "[Errno 2] No such file or directory: '/Volumes/Seagate_RV/Research_Data/SG_Covid19/county_wise/60/040/patterns/patterns_2020-03-16.pickle'\n",
      "[Errno 2] No such file or directory: '/Volumes/Seagate_RV/Research_Data/SG_Covid19/county_wise/60/040/patterns/patterns_2020-03-23.pickle'\n",
      "[Errno 2] No such file or directory: '/Volumes/Seagate_RV/Research_Data/SG_Covid19/county_wise/60/040/patterns/patterns_2020-03-30.pickle'\n",
      "[Errno 2] No such file or directory: '/Volumes/Seagate_RV/Research_Data/SG_Covid19/county_wise/60/040/patterns/patterns_2020-04-06.pickle'\n",
      "[Errno 2] No such file or directory: '/Volumes/Seagate_RV/Research_Data/SG_Covid19/county_wise/60/040/patterns/patterns_2020-04-13.pickle'\n",
      "[Errno 2] No such file or directory: '/Volumes/Seagate_RV/Research_Data/SG_Covid19/county_wise/60/040/patterns/patterns_2020-04-20.pickle'\n",
      "[Errno 2] No such file or directory: '/Volumes/Seagate_RV/Research_Data/SG_Covid19/county_wise/60/040/patterns/patterns_2020-04-27.pickle'\n",
      "[Errno 2] No such file or directory: '/Volumes/Seagate_RV/Research_Data/SG_Covid19/county_wise/60/040/patterns/patterns_2020-05-04.pickle'\n",
      "[Errno 2] No such file or directory: '/Volumes/Seagate_RV/Research_Data/SG_Covid19/county_wise/60/040/patterns/patterns_2020-05-11.pickle'\n",
      "[Errno 2] No such file or directory: '/Volumes/Seagate_RV/Research_Data/SG_Covid19/county_wise/60/040/patterns/patterns_2020-05-18.pickle'\n",
      "[Errno 2] No such file or directory: '/Volumes/Seagate_RV/Research_Data/SG_Covid19/county_wise/60/040/patterns/patterns_2020-05-25.pickle'\n",
      "\n"
     ]
    },
    {
     "data": {
      "application/vnd.jupyter.widget-view+json": {
       "model_id": "0a3aabc5572b4163a200bd21946de1ce",
       "version_major": 2,
       "version_minor": 0
      },
      "text/plain": [
       "HBox(children=(FloatProgress(value=0.0, description='state 66', max=1.0, style=ProgressStyle(description_width…"
      ]
     },
     "metadata": {},
     "output_type": "display_data"
    },
    {
     "name": "stdout",
     "output_type": "stream",
     "text": [
      "\n"
     ]
    },
    {
     "data": {
      "application/vnd.jupyter.widget-view+json": {
       "model_id": "c5bc848e8c684a219879d39748f355df",
       "version_major": 2,
       "version_minor": 0
      },
      "text/plain": [
       "HBox(children=(FloatProgress(value=0.0, description='state 69', max=4.0, style=ProgressStyle(description_width…"
      ]
     },
     "metadata": {},
     "output_type": "display_data"
    },
    {
     "name": "stdout",
     "output_type": "stream",
     "text": [
      "[Errno 2] No such file or directory: '/Volumes/Seagate_RV/Research_Data/SG_Covid19/county_wise/69/085/patterns/patterns_2020-01-06.pickle'\n",
      "[Errno 2] No such file or directory: '/Volumes/Seagate_RV/Research_Data/SG_Covid19/county_wise/69/085/patterns/patterns_2020-01-13.pickle'\n",
      "[Errno 2] No such file or directory: '/Volumes/Seagate_RV/Research_Data/SG_Covid19/county_wise/69/085/patterns/patterns_2020-01-20.pickle'\n",
      "[Errno 2] No such file or directory: '/Volumes/Seagate_RV/Research_Data/SG_Covid19/county_wise/69/085/patterns/patterns_2020-01-27.pickle'\n",
      "[Errno 2] No such file or directory: '/Volumes/Seagate_RV/Research_Data/SG_Covid19/county_wise/69/085/patterns/patterns_2020-02-03.pickle'\n",
      "[Errno 2] No such file or directory: '/Volumes/Seagate_RV/Research_Data/SG_Covid19/county_wise/69/085/patterns/patterns_2020-02-10.pickle'\n",
      "[Errno 2] No such file or directory: '/Volumes/Seagate_RV/Research_Data/SG_Covid19/county_wise/69/085/patterns/patterns_2020-02-17.pickle'\n",
      "[Errno 2] No such file or directory: '/Volumes/Seagate_RV/Research_Data/SG_Covid19/county_wise/69/085/patterns/patterns_2020-02-24.pickle'\n",
      "[Errno 2] No such file or directory: '/Volumes/Seagate_RV/Research_Data/SG_Covid19/county_wise/69/085/patterns/patterns_2020-03-02.pickle'\n",
      "[Errno 2] No such file or directory: '/Volumes/Seagate_RV/Research_Data/SG_Covid19/county_wise/69/085/patterns/patterns_2020-03-09.pickle'\n",
      "[Errno 2] No such file or directory: '/Volumes/Seagate_RV/Research_Data/SG_Covid19/county_wise/69/085/patterns/patterns_2020-03-16.pickle'\n",
      "[Errno 2] No such file or directory: '/Volumes/Seagate_RV/Research_Data/SG_Covid19/county_wise/69/085/patterns/patterns_2020-03-23.pickle'\n",
      "[Errno 2] No such file or directory: '/Volumes/Seagate_RV/Research_Data/SG_Covid19/county_wise/69/085/patterns/patterns_2020-03-30.pickle'\n",
      "[Errno 2] No such file or directory: '/Volumes/Seagate_RV/Research_Data/SG_Covid19/county_wise/69/085/patterns/patterns_2020-04-06.pickle'\n",
      "[Errno 2] No such file or directory: '/Volumes/Seagate_RV/Research_Data/SG_Covid19/county_wise/69/085/patterns/patterns_2020-04-13.pickle'\n",
      "[Errno 2] No such file or directory: '/Volumes/Seagate_RV/Research_Data/SG_Covid19/county_wise/69/085/patterns/patterns_2020-04-20.pickle'\n",
      "[Errno 2] No such file or directory: '/Volumes/Seagate_RV/Research_Data/SG_Covid19/county_wise/69/085/patterns/patterns_2020-04-27.pickle'\n",
      "[Errno 2] No such file or directory: '/Volumes/Seagate_RV/Research_Data/SG_Covid19/county_wise/69/085/patterns/patterns_2020-05-04.pickle'\n",
      "[Errno 2] No such file or directory: '/Volumes/Seagate_RV/Research_Data/SG_Covid19/county_wise/69/085/patterns/patterns_2020-05-11.pickle'\n",
      "[Errno 2] No such file or directory: '/Volumes/Seagate_RV/Research_Data/SG_Covid19/county_wise/69/085/patterns/patterns_2020-05-18.pickle'\n",
      "[Errno 2] No such file or directory: '/Volumes/Seagate_RV/Research_Data/SG_Covid19/county_wise/69/085/patterns/patterns_2020-05-25.pickle'\n",
      "[Errno 2] No such file or directory: '/Volumes/Seagate_RV/Research_Data/SG_Covid19/county_wise/69/100/patterns/patterns_2020-03-09.pickle'\n",
      "[Errno 2] No such file or directory: '/Volumes/Seagate_RV/Research_Data/SG_Covid19/county_wise/69/100/patterns/patterns_2020-03-30.pickle'\n",
      "[Errno 2] No such file or directory: '/Volumes/Seagate_RV/Research_Data/SG_Covid19/county_wise/69/100/patterns/patterns_2020-04-06.pickle'\n",
      "[Errno 2] No such file or directory: '/Volumes/Seagate_RV/Research_Data/SG_Covid19/county_wise/69/100/patterns/patterns_2020-04-13.pickle'\n",
      "[Errno 2] No such file or directory: '/Volumes/Seagate_RV/Research_Data/SG_Covid19/county_wise/69/100/patterns/patterns_2020-04-20.pickle'\n",
      "[Errno 2] No such file or directory: '/Volumes/Seagate_RV/Research_Data/SG_Covid19/county_wise/69/100/patterns/patterns_2020-05-25.pickle'\n",
      "[Errno 2] No such file or directory: '/Volumes/Seagate_RV/Research_Data/SG_Covid19/county_wise/69/110/patterns/patterns_2020-01-06.pickle'\n",
      "[Errno 2] No such file or directory: '/Volumes/Seagate_RV/Research_Data/SG_Covid19/county_wise/69/110/patterns/patterns_2020-01-13.pickle'\n",
      "[Errno 2] No such file or directory: '/Volumes/Seagate_RV/Research_Data/SG_Covid19/county_wise/69/110/patterns/patterns_2020-01-20.pickle'\n",
      "[Errno 2] No such file or directory: '/Volumes/Seagate_RV/Research_Data/SG_Covid19/county_wise/69/110/patterns/patterns_2020-01-27.pickle'\n",
      "[Errno 2] No such file or directory: '/Volumes/Seagate_RV/Research_Data/SG_Covid19/county_wise/69/110/patterns/patterns_2020-02-03.pickle'\n",
      "[Errno 2] No such file or directory: '/Volumes/Seagate_RV/Research_Data/SG_Covid19/county_wise/69/110/patterns/patterns_2020-02-10.pickle'\n",
      "[Errno 2] No such file or directory: '/Volumes/Seagate_RV/Research_Data/SG_Covid19/county_wise/69/110/patterns/patterns_2020-02-17.pickle'\n",
      "[Errno 2] No such file or directory: '/Volumes/Seagate_RV/Research_Data/SG_Covid19/county_wise/69/110/patterns/patterns_2020-02-24.pickle'\n",
      "[Errno 2] No such file or directory: '/Volumes/Seagate_RV/Research_Data/SG_Covid19/county_wise/69/110/patterns/patterns_2020-03-02.pickle'\n",
      "[Errno 2] No such file or directory: '/Volumes/Seagate_RV/Research_Data/SG_Covid19/county_wise/69/110/patterns/patterns_2020-03-09.pickle'\n",
      "[Errno 2] No such file or directory: '/Volumes/Seagate_RV/Research_Data/SG_Covid19/county_wise/69/110/patterns/patterns_2020-03-16.pickle'\n",
      "[Errno 2] No such file or directory: '/Volumes/Seagate_RV/Research_Data/SG_Covid19/county_wise/69/110/patterns/patterns_2020-03-23.pickle'\n",
      "[Errno 2] No such file or directory: '/Volumes/Seagate_RV/Research_Data/SG_Covid19/county_wise/69/110/patterns/patterns_2020-03-30.pickle'\n",
      "[Errno 2] No such file or directory: '/Volumes/Seagate_RV/Research_Data/SG_Covid19/county_wise/69/110/patterns/patterns_2020-04-06.pickle'\n",
      "[Errno 2] No such file or directory: '/Volumes/Seagate_RV/Research_Data/SG_Covid19/county_wise/69/110/patterns/patterns_2020-04-13.pickle'\n",
      "[Errno 2] No such file or directory: '/Volumes/Seagate_RV/Research_Data/SG_Covid19/county_wise/69/110/patterns/patterns_2020-04-20.pickle'\n",
      "[Errno 2] No such file or directory: '/Volumes/Seagate_RV/Research_Data/SG_Covid19/county_wise/69/110/patterns/patterns_2020-04-27.pickle'\n",
      "[Errno 2] No such file or directory: '/Volumes/Seagate_RV/Research_Data/SG_Covid19/county_wise/69/110/patterns/patterns_2020-05-04.pickle'\n",
      "[Errno 2] No such file or directory: '/Volumes/Seagate_RV/Research_Data/SG_Covid19/county_wise/69/110/patterns/patterns_2020-05-11.pickle'\n",
      "[Errno 2] No such file or directory: '/Volumes/Seagate_RV/Research_Data/SG_Covid19/county_wise/69/110/patterns/patterns_2020-05-18.pickle'\n",
      "[Errno 2] No such file or directory: '/Volumes/Seagate_RV/Research_Data/SG_Covid19/county_wise/69/110/patterns/patterns_2020-05-25.pickle'\n",
      "[Errno 2] No such file or directory: '/Volumes/Seagate_RV/Research_Data/SG_Covid19/county_wise/69/120/patterns/patterns_2020-01-06.pickle'\n",
      "[Errno 2] No such file or directory: '/Volumes/Seagate_RV/Research_Data/SG_Covid19/county_wise/69/120/patterns/patterns_2020-01-13.pickle'\n",
      "[Errno 2] No such file or directory: '/Volumes/Seagate_RV/Research_Data/SG_Covid19/county_wise/69/120/patterns/patterns_2020-01-20.pickle'\n",
      "[Errno 2] No such file or directory: '/Volumes/Seagate_RV/Research_Data/SG_Covid19/county_wise/69/120/patterns/patterns_2020-01-27.pickle'\n",
      "[Errno 2] No such file or directory: '/Volumes/Seagate_RV/Research_Data/SG_Covid19/county_wise/69/120/patterns/patterns_2020-02-03.pickle'\n",
      "[Errno 2] No such file or directory: '/Volumes/Seagate_RV/Research_Data/SG_Covid19/county_wise/69/120/patterns/patterns_2020-02-10.pickle'\n",
      "[Errno 2] No such file or directory: '/Volumes/Seagate_RV/Research_Data/SG_Covid19/county_wise/69/120/patterns/patterns_2020-02-17.pickle'\n",
      "[Errno 2] No such file or directory: '/Volumes/Seagate_RV/Research_Data/SG_Covid19/county_wise/69/120/patterns/patterns_2020-02-24.pickle'\n",
      "[Errno 2] No such file or directory: '/Volumes/Seagate_RV/Research_Data/SG_Covid19/county_wise/69/120/patterns/patterns_2020-03-02.pickle'\n",
      "[Errno 2] No such file or directory: '/Volumes/Seagate_RV/Research_Data/SG_Covid19/county_wise/69/120/patterns/patterns_2020-03-09.pickle'\n",
      "[Errno 2] No such file or directory: '/Volumes/Seagate_RV/Research_Data/SG_Covid19/county_wise/69/120/patterns/patterns_2020-03-16.pickle'\n",
      "[Errno 2] No such file or directory: '/Volumes/Seagate_RV/Research_Data/SG_Covid19/county_wise/69/120/patterns/patterns_2020-03-23.pickle'\n",
      "[Errno 2] No such file or directory: '/Volumes/Seagate_RV/Research_Data/SG_Covid19/county_wise/69/120/patterns/patterns_2020-03-30.pickle'\n",
      "[Errno 2] No such file or directory: '/Volumes/Seagate_RV/Research_Data/SG_Covid19/county_wise/69/120/patterns/patterns_2020-04-06.pickle'\n",
      "[Errno 2] No such file or directory: '/Volumes/Seagate_RV/Research_Data/SG_Covid19/county_wise/69/120/patterns/patterns_2020-04-13.pickle'\n",
      "[Errno 2] No such file or directory: '/Volumes/Seagate_RV/Research_Data/SG_Covid19/county_wise/69/120/patterns/patterns_2020-04-20.pickle'\n",
      "[Errno 2] No such file or directory: '/Volumes/Seagate_RV/Research_Data/SG_Covid19/county_wise/69/120/patterns/patterns_2020-04-27.pickle'\n",
      "[Errno 2] No such file or directory: '/Volumes/Seagate_RV/Research_Data/SG_Covid19/county_wise/69/120/patterns/patterns_2020-05-04.pickle'\n",
      "[Errno 2] No such file or directory: '/Volumes/Seagate_RV/Research_Data/SG_Covid19/county_wise/69/120/patterns/patterns_2020-05-11.pickle'\n",
      "[Errno 2] No such file or directory: '/Volumes/Seagate_RV/Research_Data/SG_Covid19/county_wise/69/120/patterns/patterns_2020-05-18.pickle'\n",
      "[Errno 2] No such file or directory: '/Volumes/Seagate_RV/Research_Data/SG_Covid19/county_wise/69/120/patterns/patterns_2020-05-25.pickle'\n",
      "\n"
     ]
    },
    {
     "data": {
      "application/vnd.jupyter.widget-view+json": {
       "model_id": "8db28e3b5b8744c9afff8371b335029d",
       "version_major": 2,
       "version_minor": 0
      },
      "text/plain": [
       "HBox(children=(FloatProgress(value=0.0, description='state 72', max=78.0, style=ProgressStyle(description_widt…"
      ]
     },
     "metadata": {},
     "output_type": "display_data"
    },
    {
     "name": "stdout",
     "output_type": "stream",
     "text": [
      "\n"
     ]
    },
    {
     "data": {
      "application/vnd.jupyter.widget-view+json": {
       "model_id": "23e26e717d2b46bcb4340594e86ad821",
       "version_major": 2,
       "version_minor": 0
      },
      "text/plain": [
       "HBox(children=(FloatProgress(value=0.0, description='state 74', max=1.0, style=ProgressStyle(description_width…"
      ]
     },
     "metadata": {},
     "output_type": "display_data"
    },
    {
     "name": "stdout",
     "output_type": "stream",
     "text": [
      "[Errno 2] No such file or directory: '/Volumes/Seagate_RV/Research_Data/SG_Covid19/county_wise/74/300/patterns/patterns_2020-01-06.pickle'\n",
      "[Errno 2] No such file or directory: '/Volumes/Seagate_RV/Research_Data/SG_Covid19/county_wise/74/300/patterns/patterns_2020-01-13.pickle'\n",
      "[Errno 2] No such file or directory: '/Volumes/Seagate_RV/Research_Data/SG_Covid19/county_wise/74/300/patterns/patterns_2020-01-20.pickle'\n",
      "[Errno 2] No such file or directory: '/Volumes/Seagate_RV/Research_Data/SG_Covid19/county_wise/74/300/patterns/patterns_2020-01-27.pickle'\n",
      "[Errno 2] No such file or directory: '/Volumes/Seagate_RV/Research_Data/SG_Covid19/county_wise/74/300/patterns/patterns_2020-02-03.pickle'\n",
      "[Errno 2] No such file or directory: '/Volumes/Seagate_RV/Research_Data/SG_Covid19/county_wise/74/300/patterns/patterns_2020-02-10.pickle'\n",
      "[Errno 2] No such file or directory: '/Volumes/Seagate_RV/Research_Data/SG_Covid19/county_wise/74/300/patterns/patterns_2020-02-17.pickle'\n",
      "[Errno 2] No such file or directory: '/Volumes/Seagate_RV/Research_Data/SG_Covid19/county_wise/74/300/patterns/patterns_2020-02-24.pickle'\n",
      "[Errno 2] No such file or directory: '/Volumes/Seagate_RV/Research_Data/SG_Covid19/county_wise/74/300/patterns/patterns_2020-03-02.pickle'\n",
      "[Errno 2] No such file or directory: '/Volumes/Seagate_RV/Research_Data/SG_Covid19/county_wise/74/300/patterns/patterns_2020-03-09.pickle'\n",
      "[Errno 2] No such file or directory: '/Volumes/Seagate_RV/Research_Data/SG_Covid19/county_wise/74/300/patterns/patterns_2020-03-16.pickle'\n",
      "[Errno 2] No such file or directory: '/Volumes/Seagate_RV/Research_Data/SG_Covid19/county_wise/74/300/patterns/patterns_2020-03-23.pickle'\n",
      "[Errno 2] No such file or directory: '/Volumes/Seagate_RV/Research_Data/SG_Covid19/county_wise/74/300/patterns/patterns_2020-03-30.pickle'\n",
      "[Errno 2] No such file or directory: '/Volumes/Seagate_RV/Research_Data/SG_Covid19/county_wise/74/300/patterns/patterns_2020-04-06.pickle'\n",
      "[Errno 2] No such file or directory: '/Volumes/Seagate_RV/Research_Data/SG_Covid19/county_wise/74/300/patterns/patterns_2020-04-13.pickle'\n",
      "[Errno 2] No such file or directory: '/Volumes/Seagate_RV/Research_Data/SG_Covid19/county_wise/74/300/patterns/patterns_2020-04-20.pickle'\n",
      "[Errno 2] No such file or directory: '/Volumes/Seagate_RV/Research_Data/SG_Covid19/county_wise/74/300/patterns/patterns_2020-04-27.pickle'\n",
      "[Errno 2] No such file or directory: '/Volumes/Seagate_RV/Research_Data/SG_Covid19/county_wise/74/300/patterns/patterns_2020-05-04.pickle'\n",
      "[Errno 2] No such file or directory: '/Volumes/Seagate_RV/Research_Data/SG_Covid19/county_wise/74/300/patterns/patterns_2020-05-11.pickle'\n",
      "[Errno 2] No such file or directory: '/Volumes/Seagate_RV/Research_Data/SG_Covid19/county_wise/74/300/patterns/patterns_2020-05-18.pickle'\n",
      "[Errno 2] No such file or directory: '/Volumes/Seagate_RV/Research_Data/SG_Covid19/county_wise/74/300/patterns/patterns_2020-05-25.pickle'\n",
      "\n"
     ]
    },
    {
     "data": {
      "application/vnd.jupyter.widget-view+json": {
       "model_id": "baef241fc66e4742bf20e66ad261039d",
       "version_major": 2,
       "version_minor": 0
      },
      "text/plain": [
       "HBox(children=(FloatProgress(value=0.0, description='state 78', max=3.0, style=ProgressStyle(description_width…"
      ]
     },
     "metadata": {},
     "output_type": "display_data"
    },
    {
     "name": "stdout",
     "output_type": "stream",
     "text": [
      "[Errno 2] No such file or directory: '/Volumes/Seagate_RV/Research_Data/SG_Covid19/county_wise/78/020/patterns/patterns_2020-01-06.pickle'\n",
      "[Errno 2] No such file or directory: '/Volumes/Seagate_RV/Research_Data/SG_Covid19/county_wise/78/020/patterns/patterns_2020-01-13.pickle'\n",
      "[Errno 2] No such file or directory: '/Volumes/Seagate_RV/Research_Data/SG_Covid19/county_wise/78/020/patterns/patterns_2020-01-20.pickle'\n",
      "[Errno 2] No such file or directory: '/Volumes/Seagate_RV/Research_Data/SG_Covid19/county_wise/78/020/patterns/patterns_2020-01-27.pickle'\n",
      "[Errno 2] No such file or directory: '/Volumes/Seagate_RV/Research_Data/SG_Covid19/county_wise/78/020/patterns/patterns_2020-02-03.pickle'\n",
      "[Errno 2] No such file or directory: '/Volumes/Seagate_RV/Research_Data/SG_Covid19/county_wise/78/020/patterns/patterns_2020-02-10.pickle'\n",
      "[Errno 2] No such file or directory: '/Volumes/Seagate_RV/Research_Data/SG_Covid19/county_wise/78/020/patterns/patterns_2020-02-17.pickle'\n",
      "[Errno 2] No such file or directory: '/Volumes/Seagate_RV/Research_Data/SG_Covid19/county_wise/78/020/patterns/patterns_2020-02-24.pickle'\n",
      "[Errno 2] No such file or directory: '/Volumes/Seagate_RV/Research_Data/SG_Covid19/county_wise/78/020/patterns/patterns_2020-03-02.pickle'\n",
      "[Errno 2] No such file or directory: '/Volumes/Seagate_RV/Research_Data/SG_Covid19/county_wise/78/020/patterns/patterns_2020-03-09.pickle'\n",
      "[Errno 2] No such file or directory: '/Volumes/Seagate_RV/Research_Data/SG_Covid19/county_wise/78/020/patterns/patterns_2020-03-16.pickle'\n",
      "[Errno 2] No such file or directory: '/Volumes/Seagate_RV/Research_Data/SG_Covid19/county_wise/78/020/patterns/patterns_2020-03-23.pickle'\n",
      "[Errno 2] No such file or directory: '/Volumes/Seagate_RV/Research_Data/SG_Covid19/county_wise/78/020/patterns/patterns_2020-03-30.pickle'\n",
      "[Errno 2] No such file or directory: '/Volumes/Seagate_RV/Research_Data/SG_Covid19/county_wise/78/020/patterns/patterns_2020-04-06.pickle'\n",
      "[Errno 2] No such file or directory: '/Volumes/Seagate_RV/Research_Data/SG_Covid19/county_wise/78/020/patterns/patterns_2020-04-13.pickle'\n",
      "[Errno 2] No such file or directory: '/Volumes/Seagate_RV/Research_Data/SG_Covid19/county_wise/78/020/patterns/patterns_2020-04-20.pickle'\n",
      "[Errno 2] No such file or directory: '/Volumes/Seagate_RV/Research_Data/SG_Covid19/county_wise/78/020/patterns/patterns_2020-04-27.pickle'\n",
      "[Errno 2] No such file or directory: '/Volumes/Seagate_RV/Research_Data/SG_Covid19/county_wise/78/020/patterns/patterns_2020-05-04.pickle'\n",
      "[Errno 2] No such file or directory: '/Volumes/Seagate_RV/Research_Data/SG_Covid19/county_wise/78/020/patterns/patterns_2020-05-11.pickle'\n",
      "[Errno 2] No such file or directory: '/Volumes/Seagate_RV/Research_Data/SG_Covid19/county_wise/78/020/patterns/patterns_2020-05-18.pickle'\n",
      "[Errno 2] No such file or directory: '/Volumes/Seagate_RV/Research_Data/SG_Covid19/county_wise/78/020/patterns/patterns_2020-05-25.pickle'\n",
      "[Errno 2] No such file or directory: '/Volumes/Seagate_RV/Research_Data/SG_Covid19/county_wise/78/030/patterns/patterns_2020-01-06.pickle'\n",
      "[Errno 2] No such file or directory: '/Volumes/Seagate_RV/Research_Data/SG_Covid19/county_wise/78/030/patterns/patterns_2020-01-13.pickle'\n",
      "[Errno 2] No such file or directory: '/Volumes/Seagate_RV/Research_Data/SG_Covid19/county_wise/78/030/patterns/patterns_2020-01-20.pickle'\n",
      "[Errno 2] No such file or directory: '/Volumes/Seagate_RV/Research_Data/SG_Covid19/county_wise/78/030/patterns/patterns_2020-01-27.pickle'\n",
      "[Errno 2] No such file or directory: '/Volumes/Seagate_RV/Research_Data/SG_Covid19/county_wise/78/030/patterns/patterns_2020-02-03.pickle'\n",
      "[Errno 2] No such file or directory: '/Volumes/Seagate_RV/Research_Data/SG_Covid19/county_wise/78/030/patterns/patterns_2020-02-10.pickle'\n",
      "[Errno 2] No such file or directory: '/Volumes/Seagate_RV/Research_Data/SG_Covid19/county_wise/78/030/patterns/patterns_2020-02-17.pickle'\n",
      "[Errno 2] No such file or directory: '/Volumes/Seagate_RV/Research_Data/SG_Covid19/county_wise/78/030/patterns/patterns_2020-02-24.pickle'\n",
      "[Errno 2] No such file or directory: '/Volumes/Seagate_RV/Research_Data/SG_Covid19/county_wise/78/030/patterns/patterns_2020-03-02.pickle'\n",
      "[Errno 2] No such file or directory: '/Volumes/Seagate_RV/Research_Data/SG_Covid19/county_wise/78/030/patterns/patterns_2020-03-09.pickle'\n",
      "[Errno 2] No such file or directory: '/Volumes/Seagate_RV/Research_Data/SG_Covid19/county_wise/78/030/patterns/patterns_2020-03-16.pickle'\n",
      "[Errno 2] No such file or directory: '/Volumes/Seagate_RV/Research_Data/SG_Covid19/county_wise/78/030/patterns/patterns_2020-03-23.pickle'\n",
      "[Errno 2] No such file or directory: '/Volumes/Seagate_RV/Research_Data/SG_Covid19/county_wise/78/030/patterns/patterns_2020-03-30.pickle'\n",
      "[Errno 2] No such file or directory: '/Volumes/Seagate_RV/Research_Data/SG_Covid19/county_wise/78/030/patterns/patterns_2020-04-06.pickle'\n",
      "[Errno 2] No such file or directory: '/Volumes/Seagate_RV/Research_Data/SG_Covid19/county_wise/78/030/patterns/patterns_2020-04-13.pickle'\n",
      "[Errno 2] No such file or directory: '/Volumes/Seagate_RV/Research_Data/SG_Covid19/county_wise/78/030/patterns/patterns_2020-04-20.pickle'\n",
      "[Errno 2] No such file or directory: '/Volumes/Seagate_RV/Research_Data/SG_Covid19/county_wise/78/030/patterns/patterns_2020-04-27.pickle'\n",
      "[Errno 2] No such file or directory: '/Volumes/Seagate_RV/Research_Data/SG_Covid19/county_wise/78/030/patterns/patterns_2020-05-04.pickle'\n",
      "[Errno 2] No such file or directory: '/Volumes/Seagate_RV/Research_Data/SG_Covid19/county_wise/78/030/patterns/patterns_2020-05-11.pickle'\n",
      "[Errno 2] No such file or directory: '/Volumes/Seagate_RV/Research_Data/SG_Covid19/county_wise/78/030/patterns/patterns_2020-05-18.pickle'\n",
      "[Errno 2] No such file or directory: '/Volumes/Seagate_RV/Research_Data/SG_Covid19/county_wise/78/030/patterns/patterns_2020-05-25.pickle'\n",
      "\n",
      "CPU times: user 38min 28s, sys: 3min 42s, total: 42min 10s\n",
      "Wall time: 2h\n"
     ]
    }
   ],
   "source": [
    "%%time\n",
    "combine_pat_dwell()"
   ]
  },
  {
   "cell_type": "markdown",
   "metadata": {},
   "source": [
    "### Fix the patterns mess for June 2020 & Dec 2019"
   ]
  },
  {
   "cell_type": "code",
   "execution_count": 62,
   "metadata": {},
   "outputs": [],
   "source": [
    "temp_weeks = pd.to_datetime(['2019-12-30', '2020-06-01', '2020-06-08',\n",
    "                             '2020-06-15', '2020-06-22'])"
   ]
  },
  {
   "cell_type": "code",
   "execution_count": 69,
   "metadata": {
    "collapsed": true,
    "jupyter": {
     "outputs_hidden": true
    }
   },
   "outputs": [
    {
     "data": {
      "application/vnd.jupyter.widget-view+json": {
       "model_id": "8aebcf8d6e6b4241a3037fb3daabff9d",
       "version_major": 2,
       "version_minor": 0
      },
      "text/plain": [
       "HBox(children=(FloatProgress(value=0.0, max=5.0), HTML(value='')))"
      ]
     },
     "metadata": {},
     "output_type": "display_data"
    },
    {
     "name": "stdout",
     "output_type": "stream",
     "text": [
      "Processing 2019-12-30\n",
      "2019-12-30 reading chunk 1 pat shape: (200000, 3)\n",
      "2019-12-30 reading chunk 2 pat shape: (200000, 3)\n",
      "2019-12-30 reading chunk 3 pat shape: (200000, 3)\n",
      "2019-12-30 reading chunk 4 pat shape: (200000, 3)\n",
      "2019-12-30 reading chunk 5 pat shape: (200000, 3)\n",
      "2019-12-30 reading chunk 6 pat shape: (200000, 3)\n",
      "2019-12-30 reading chunk 7 pat shape: (200000, 3)\n",
      "2019-12-30 reading chunk 8 pat shape: (200000, 3)\n",
      "2019-12-30 reading chunk 9 pat shape: (200000, 3)\n",
      "2019-12-30 reading chunk 10 pat shape: (200000, 3)\n",
      "2019-12-30 reading chunk 11 pat shape: (200000, 3)\n",
      "2019-12-30 reading chunk 12 pat shape: (200000, 3)\n",
      "2019-12-30 reading chunk 13 pat shape: (200000, 3)\n",
      "2019-12-30 reading chunk 14 pat shape: (200000, 3)\n",
      "2019-12-30 reading chunk 15 pat shape: (200000, 3)\n",
      "2019-12-30 reading chunk 16 pat shape: (200000, 3)\n",
      "2019-12-30 reading chunk 17 pat shape: (200000, 3)\n",
      "2019-12-30 reading chunk 18 pat shape: (200000, 3)\n",
      "2019-12-30 reading chunk 19 pat shape: (200000, 3)\n",
      "2019-12-30 reading chunk 20 pat shape: (97759, 3)\n",
      "Processing home CBGs of 2019-12-30\n",
      "Processing 2020-06-01\n",
      "2020-06-01 reading chunk 1 pat shape: (200000, 3)\n",
      "2020-06-01 reading chunk 2 pat shape: (200000, 3)\n",
      "2020-06-01 reading chunk 3 pat shape: (200000, 3)\n",
      "2020-06-01 reading chunk 4 pat shape: (200000, 3)\n",
      "2020-06-01 reading chunk 5 pat shape: (200000, 3)\n",
      "2020-06-01 reading chunk 6 pat shape: (200000, 3)\n",
      "2020-06-01 reading chunk 7 pat shape: (200000, 3)\n",
      "2020-06-01 reading chunk 8 pat shape: (200000, 3)\n",
      "2020-06-01 reading chunk 9 pat shape: (200000, 3)\n",
      "2020-06-01 reading chunk 10 pat shape: (200000, 3)\n",
      "2020-06-01 reading chunk 11 pat shape: (200000, 3)\n",
      "2020-06-01 reading chunk 12 pat shape: (200000, 3)\n",
      "2020-06-01 reading chunk 13 pat shape: (200000, 3)\n",
      "2020-06-01 reading chunk 14 pat shape: (200000, 3)\n",
      "2020-06-01 reading chunk 15 pat shape: (200000, 3)\n",
      "2020-06-01 reading chunk 16 pat shape: (200000, 3)\n",
      "2020-06-01 reading chunk 17 pat shape: (200000, 3)\n",
      "2020-06-01 reading chunk 18 pat shape: (200000, 3)\n",
      "2020-06-01 reading chunk 19 pat shape: (200000, 3)\n",
      "2020-06-01 reading chunk 20 pat shape: (6715, 3)\n",
      "Processing home CBGs of 2020-06-01\n",
      "Processing 2020-06-08\n",
      "2020-06-08 reading chunk 1 pat shape: (200000, 3)\n",
      "2020-06-08 reading chunk 2 pat shape: (200000, 3)\n",
      "2020-06-08 reading chunk 3 pat shape: (200000, 3)\n",
      "2020-06-08 reading chunk 4 pat shape: (200000, 3)\n",
      "2020-06-08 reading chunk 5 pat shape: (200000, 3)\n",
      "2020-06-08 reading chunk 6 pat shape: (200000, 3)\n",
      "2020-06-08 reading chunk 7 pat shape: (200000, 3)\n",
      "2020-06-08 reading chunk 8 pat shape: (200000, 3)\n",
      "2020-06-08 reading chunk 9 pat shape: (200000, 3)\n",
      "2020-06-08 reading chunk 10 pat shape: (200000, 3)\n",
      "2020-06-08 reading chunk 11 pat shape: (200000, 3)\n",
      "2020-06-08 reading chunk 12 pat shape: (200000, 3)\n",
      "2020-06-08 reading chunk 13 pat shape: (200000, 3)\n",
      "2020-06-08 reading chunk 14 pat shape: (200000, 3)\n",
      "2020-06-08 reading chunk 15 pat shape: (200000, 3)\n",
      "2020-06-08 reading chunk 16 pat shape: (200000, 3)\n",
      "2020-06-08 reading chunk 17 pat shape: (200000, 3)\n",
      "2020-06-08 reading chunk 18 pat shape: (200000, 3)\n",
      "2020-06-08 reading chunk 19 pat shape: (200000, 3)\n",
      "2020-06-08 reading chunk 20 pat shape: (19697, 3)\n",
      "Processing home CBGs of 2020-06-08\n",
      "Processing 2020-06-15\n",
      "2020-06-15 reading chunk 1 pat shape: (200000, 3)\n",
      "2020-06-15 reading chunk 2 pat shape: (200000, 3)\n",
      "2020-06-15 reading chunk 3 pat shape: (200000, 3)\n",
      "2020-06-15 reading chunk 4 pat shape: (200000, 3)\n",
      "2020-06-15 reading chunk 5 pat shape: (200000, 3)\n",
      "2020-06-15 reading chunk 6 pat shape: (200000, 3)\n",
      "2020-06-15 reading chunk 7 pat shape: (200000, 3)\n",
      "2020-06-15 reading chunk 8 pat shape: (200000, 3)\n",
      "2020-06-15 reading chunk 9 pat shape: (200000, 3)\n",
      "2020-06-15 reading chunk 10 pat shape: (200000, 3)\n",
      "2020-06-15 reading chunk 11 pat shape: (200000, 3)\n",
      "2020-06-15 reading chunk 12 pat shape: (200000, 3)\n",
      "2020-06-15 reading chunk 13 pat shape: (200000, 3)\n",
      "2020-06-15 reading chunk 14 pat shape: (200000, 3)\n",
      "2020-06-15 reading chunk 15 pat shape: (200000, 3)\n",
      "2020-06-15 reading chunk 16 pat shape: (200000, 3)\n",
      "2020-06-15 reading chunk 17 pat shape: (200000, 3)\n",
      "2020-06-15 reading chunk 18 pat shape: (200000, 3)\n",
      "2020-06-15 reading chunk 19 pat shape: (200000, 3)\n",
      "2020-06-15 reading chunk 20 pat shape: (18952, 3)\n",
      "Processing home CBGs of 2020-06-15\n",
      "Processing 2020-06-22\n",
      "2020-06-22 reading chunk 1 pat shape: (200000, 3)\n",
      "2020-06-22 reading chunk 2 pat shape: (200000, 3)\n",
      "2020-06-22 reading chunk 3 pat shape: (200000, 3)\n",
      "2020-06-22 reading chunk 4 pat shape: (200000, 3)\n",
      "2020-06-22 reading chunk 5 pat shape: (200000, 3)\n",
      "2020-06-22 reading chunk 6 pat shape: (200000, 3)\n",
      "2020-06-22 reading chunk 7 pat shape: (200000, 3)\n",
      "2020-06-22 reading chunk 8 pat shape: (200000, 3)\n",
      "2020-06-22 reading chunk 9 pat shape: (200000, 3)\n",
      "2020-06-22 reading chunk 10 pat shape: (200000, 3)\n",
      "2020-06-22 reading chunk 11 pat shape: (200000, 3)\n",
      "2020-06-22 reading chunk 12 pat shape: (200000, 3)\n",
      "2020-06-22 reading chunk 13 pat shape: (200000, 3)\n",
      "2020-06-22 reading chunk 14 pat shape: (200000, 3)\n",
      "2020-06-22 reading chunk 15 pat shape: (200000, 3)\n",
      "2020-06-22 reading chunk 16 pat shape: (200000, 3)\n",
      "2020-06-22 reading chunk 17 pat shape: (200000, 3)\n",
      "2020-06-22 reading chunk 18 pat shape: (200000, 3)\n",
      "2020-06-22 reading chunk 19 pat shape: (200000, 3)\n",
      "2020-06-22 reading chunk 20 pat shape: (37258, 3)\n",
      "Processing home CBGs of 2020-06-22\n",
      "\n",
      "CPU times: user 14min 27s, sys: 1min 32s, total: 15min 59s\n",
      "Wall time: 36min 19s\n"
     ]
    }
   ],
   "source": [
    "%%time\n",
    "for week in tqdm(temp_weeks):\n",
    "    try:\n",
    "        distribute_pat_data(week)\n",
    "    except Exception as e:\n",
    "        print(e)"
   ]
  },
  {
   "cell_type": "code",
   "execution_count": 62,
   "metadata": {},
   "outputs": [],
   "source": [
    "def clean_later_patterns_data():\n",
    "    \"\"\"\n",
    "    Ignore this function. This was built to fix the mess created by recreating\n",
    "    the data of the weeks of June 2020 and last week of Dec 2019.\n",
    "    \"\"\"\n",
    "    for state_dir in glob.glob(io['cnty_root'] + '/*'):\n",
    "        state_fips = state_dir[-2:]\n",
    "        for cnty_dir in tqdm(glob.glob(state_dir + '/*'),\n",
    "                             desc='state ' + state_fips):\n",
    "            for week in ['2019-12-30', '2020-06-01', '2020-06-08', \n",
    "                         '2020-06-15', '2020-06-22']:\n",
    "                try:\n",
    "                    pat_file = f'{cnty_dir}/patterns/patterns_{week}.pickle'\n",
    "                    pat = pd.read_pickle(pat_file)\n",
    "                    if 'visitor_home_cbgs' in pat.columns:\n",
    "                        pat = pat.drop(columns=['visitor_home_cbgs',\n",
    "                                                'row_id']).reset_index()\n",
    "                        pat.to_pickle(pat_file)\n",
    "                except FileNotFoundError as e:\n",
    "                    print('Patterns file not found:', cnty_dir[-7:], week)"
   ]
  },
  {
   "cell_type": "code",
   "execution_count": 63,
   "metadata": {
    "collapsed": true,
    "jupyter": {
     "outputs_hidden": true
    }
   },
   "outputs": [
    {
     "data": {
      "application/vnd.jupyter.widget-view+json": {
       "model_id": "8cd2fe8527ba4ebc8eb9194aa0d394bc",
       "version_major": 2,
       "version_minor": 0
      },
      "text/plain": [
       "HBox(children=(FloatProgress(value=0.0, description='state 00', max=1.0, style=ProgressStyle(description_width…"
      ]
     },
     "metadata": {},
     "output_type": "display_data"
    },
    {
     "name": "stdout",
     "output_type": "stream",
     "text": [
      "\n"
     ]
    },
    {
     "data": {
      "application/vnd.jupyter.widget-view+json": {
       "model_id": "ee45cc1d3d8645f1acb667c093f9d806",
       "version_major": 2,
       "version_minor": 0
      },
      "text/plain": [
       "HBox(children=(FloatProgress(value=0.0, description='state 01', max=67.0, style=ProgressStyle(description_widt…"
      ]
     },
     "metadata": {},
     "output_type": "display_data"
    },
    {
     "name": "stdout",
     "output_type": "stream",
     "text": [
      "\n"
     ]
    },
    {
     "data": {
      "application/vnd.jupyter.widget-view+json": {
       "model_id": "bfbc9f6cdbbd497f9b717d10df35d32c",
       "version_major": 2,
       "version_minor": 0
      },
      "text/plain": [
       "HBox(children=(FloatProgress(value=0.0, description='state 02', max=30.0, style=ProgressStyle(description_widt…"
      ]
     },
     "metadata": {},
     "output_type": "display_data"
    },
    {
     "name": "stdout",
     "output_type": "stream",
     "text": [
      "Patterns file not found: /02/270 2019-12-30\n",
      "Patterns file not found: /02/270 2020-06-01\n",
      "Patterns file not found: /02/270 2020-06-08\n",
      "Patterns file not found: /02/270 2020-06-15\n",
      "Patterns file not found: /02/270 2020-06-22\n",
      "\n"
     ]
    },
    {
     "data": {
      "application/vnd.jupyter.widget-view+json": {
       "model_id": "f7ad48f3e2d24f598f1b267fd6131d81",
       "version_major": 2,
       "version_minor": 0
      },
      "text/plain": [
       "HBox(children=(FloatProgress(value=0.0, description='state 04', max=15.0, style=ProgressStyle(description_widt…"
      ]
     },
     "metadata": {},
     "output_type": "display_data"
    },
    {
     "name": "stdout",
     "output_type": "stream",
     "text": [
      "\n"
     ]
    },
    {
     "data": {
      "application/vnd.jupyter.widget-view+json": {
       "model_id": "9995464ee09c4062b3f1c3194bda3154",
       "version_major": 2,
       "version_minor": 0
      },
      "text/plain": [
       "HBox(children=(FloatProgress(value=0.0, description='state 05', max=75.0, style=ProgressStyle(description_widt…"
      ]
     },
     "metadata": {},
     "output_type": "display_data"
    },
    {
     "name": "stdout",
     "output_type": "stream",
     "text": [
      "\n"
     ]
    },
    {
     "data": {
      "application/vnd.jupyter.widget-view+json": {
       "model_id": "00a85ad4d1e34130bf5a6fd60dd3bb4b",
       "version_major": 2,
       "version_minor": 0
      },
      "text/plain": [
       "HBox(children=(FloatProgress(value=0.0, description='state 06', max=58.0, style=ProgressStyle(description_widt…"
      ]
     },
     "metadata": {},
     "output_type": "display_data"
    },
    {
     "name": "stdout",
     "output_type": "stream",
     "text": [
      "\n"
     ]
    },
    {
     "data": {
      "application/vnd.jupyter.widget-view+json": {
       "model_id": "203fbf02ecf84dcea709c075d8672109",
       "version_major": 2,
       "version_minor": 0
      },
      "text/plain": [
       "HBox(children=(FloatProgress(value=0.0, description='state 08', max=64.0, style=ProgressStyle(description_widt…"
      ]
     },
     "metadata": {},
     "output_type": "display_data"
    },
    {
     "name": "stdout",
     "output_type": "stream",
     "text": [
      "\n"
     ]
    },
    {
     "data": {
      "application/vnd.jupyter.widget-view+json": {
       "model_id": "0c224f847ace407e8bc5e57bf5b55478",
       "version_major": 2,
       "version_minor": 0
      },
      "text/plain": [
       "HBox(children=(FloatProgress(value=0.0, description='state 09', max=8.0, style=ProgressStyle(description_width…"
      ]
     },
     "metadata": {},
     "output_type": "display_data"
    },
    {
     "name": "stdout",
     "output_type": "stream",
     "text": [
      "\n"
     ]
    },
    {
     "data": {
      "application/vnd.jupyter.widget-view+json": {
       "model_id": "bdfe8b549fb942faa54b1411ba641694",
       "version_major": 2,
       "version_minor": 0
      },
      "text/plain": [
       "HBox(children=(FloatProgress(value=0.0, description='state 10', max=3.0, style=ProgressStyle(description_width…"
      ]
     },
     "metadata": {},
     "output_type": "display_data"
    },
    {
     "name": "stdout",
     "output_type": "stream",
     "text": [
      "\n"
     ]
    },
    {
     "data": {
      "application/vnd.jupyter.widget-view+json": {
       "model_id": "502aa1d321c44bc49a263ffe19d1a464",
       "version_major": 2,
       "version_minor": 0
      },
      "text/plain": [
       "HBox(children=(FloatProgress(value=0.0, description='state 11', max=1.0, style=ProgressStyle(description_width…"
      ]
     },
     "metadata": {},
     "output_type": "display_data"
    },
    {
     "name": "stdout",
     "output_type": "stream",
     "text": [
      "\n"
     ]
    },
    {
     "data": {
      "application/vnd.jupyter.widget-view+json": {
       "model_id": "2b38d17b02bc4eb1896b855ac5a3c33b",
       "version_major": 2,
       "version_minor": 0
      },
      "text/plain": [
       "HBox(children=(FloatProgress(value=0.0, description='state 12', max=67.0, style=ProgressStyle(description_widt…"
      ]
     },
     "metadata": {},
     "output_type": "display_data"
    },
    {
     "name": "stdout",
     "output_type": "stream",
     "text": [
      "\n"
     ]
    },
    {
     "data": {
      "application/vnd.jupyter.widget-view+json": {
       "model_id": "68f9428ffa05415791ad33740a151a87",
       "version_major": 2,
       "version_minor": 0
      },
      "text/plain": [
       "HBox(children=(FloatProgress(value=0.0, description='state 13', max=159.0, style=ProgressStyle(description_wid…"
      ]
     },
     "metadata": {},
     "output_type": "display_data"
    },
    {
     "name": "stdout",
     "output_type": "stream",
     "text": [
      "\n"
     ]
    },
    {
     "data": {
      "application/vnd.jupyter.widget-view+json": {
       "model_id": "a22b11da8946451fae5aa838aaacac10",
       "version_major": 2,
       "version_minor": 0
      },
      "text/plain": [
       "HBox(children=(FloatProgress(value=0.0, description='state 15', max=5.0, style=ProgressStyle(description_width…"
      ]
     },
     "metadata": {},
     "output_type": "display_data"
    },
    {
     "name": "stdout",
     "output_type": "stream",
     "text": [
      "\n"
     ]
    },
    {
     "data": {
      "application/vnd.jupyter.widget-view+json": {
       "model_id": "37cee11caebd470ca2a22a916086e04a",
       "version_major": 2,
       "version_minor": 0
      },
      "text/plain": [
       "HBox(children=(FloatProgress(value=0.0, description='state 16', max=44.0, style=ProgressStyle(description_widt…"
      ]
     },
     "metadata": {},
     "output_type": "display_data"
    },
    {
     "name": "stdout",
     "output_type": "stream",
     "text": [
      "\n"
     ]
    },
    {
     "data": {
      "application/vnd.jupyter.widget-view+json": {
       "model_id": "5aa4d241426043c6b7e26d880d8a4610",
       "version_major": 2,
       "version_minor": 0
      },
      "text/plain": [
       "HBox(children=(FloatProgress(value=0.0, description='state 17', max=102.0, style=ProgressStyle(description_wid…"
      ]
     },
     "metadata": {},
     "output_type": "display_data"
    },
    {
     "name": "stdout",
     "output_type": "stream",
     "text": [
      "\n"
     ]
    },
    {
     "data": {
      "application/vnd.jupyter.widget-view+json": {
       "model_id": "4eca2baaa3834697b13694f9c2a6bdb0",
       "version_major": 2,
       "version_minor": 0
      },
      "text/plain": [
       "HBox(children=(FloatProgress(value=0.0, description='state 18', max=92.0, style=ProgressStyle(description_widt…"
      ]
     },
     "metadata": {},
     "output_type": "display_data"
    },
    {
     "name": "stdout",
     "output_type": "stream",
     "text": [
      "\n"
     ]
    },
    {
     "data": {
      "application/vnd.jupyter.widget-view+json": {
       "model_id": "cef65c3296c0439a9455664afebe4ea0",
       "version_major": 2,
       "version_minor": 0
      },
      "text/plain": [
       "HBox(children=(FloatProgress(value=0.0, description='state 19', max=99.0, style=ProgressStyle(description_widt…"
      ]
     },
     "metadata": {},
     "output_type": "display_data"
    },
    {
     "name": "stdout",
     "output_type": "stream",
     "text": [
      "\n"
     ]
    },
    {
     "data": {
      "application/vnd.jupyter.widget-view+json": {
       "model_id": "016f2ff775d24bb9aa33e1d4166febe7",
       "version_major": 2,
       "version_minor": 0
      },
      "text/plain": [
       "HBox(children=(FloatProgress(value=0.0, description='state 20', max=105.0, style=ProgressStyle(description_wid…"
      ]
     },
     "metadata": {},
     "output_type": "display_data"
    },
    {
     "name": "stdout",
     "output_type": "stream",
     "text": [
      "\n"
     ]
    },
    {
     "data": {
      "application/vnd.jupyter.widget-view+json": {
       "model_id": "8a45df25319c405eaa7b3c2eafbbace9",
       "version_major": 2,
       "version_minor": 0
      },
      "text/plain": [
       "HBox(children=(FloatProgress(value=0.0, description='state 21', max=120.0, style=ProgressStyle(description_wid…"
      ]
     },
     "metadata": {},
     "output_type": "display_data"
    },
    {
     "name": "stdout",
     "output_type": "stream",
     "text": [
      "\n"
     ]
    },
    {
     "data": {
      "application/vnd.jupyter.widget-view+json": {
       "model_id": "1973d66531fc4e43906e56be155aae23",
       "version_major": 2,
       "version_minor": 0
      },
      "text/plain": [
       "HBox(children=(FloatProgress(value=0.0, description='state 22', max=64.0, style=ProgressStyle(description_widt…"
      ]
     },
     "metadata": {},
     "output_type": "display_data"
    },
    {
     "name": "stdout",
     "output_type": "stream",
     "text": [
      "\n"
     ]
    },
    {
     "data": {
      "application/vnd.jupyter.widget-view+json": {
       "model_id": "5fcc3669f31c47d483a8d4a16f0f77a4",
       "version_major": 2,
       "version_minor": 0
      },
      "text/plain": [
       "HBox(children=(FloatProgress(value=0.0, description='state 23', max=16.0, style=ProgressStyle(description_widt…"
      ]
     },
     "metadata": {},
     "output_type": "display_data"
    },
    {
     "name": "stdout",
     "output_type": "stream",
     "text": [
      "\n"
     ]
    },
    {
     "data": {
      "application/vnd.jupyter.widget-view+json": {
       "model_id": "2b8f731af9bc4856b24b1188ce4ad3aa",
       "version_major": 2,
       "version_minor": 0
      },
      "text/plain": [
       "HBox(children=(FloatProgress(value=0.0, description='state 24', max=24.0, style=ProgressStyle(description_widt…"
      ]
     },
     "metadata": {},
     "output_type": "display_data"
    },
    {
     "name": "stdout",
     "output_type": "stream",
     "text": [
      "\n"
     ]
    },
    {
     "data": {
      "application/vnd.jupyter.widget-view+json": {
       "model_id": "4f0674253a56458f9868e120c9752f5d",
       "version_major": 2,
       "version_minor": 0
      },
      "text/plain": [
       "HBox(children=(FloatProgress(value=0.0, description='state 25', max=14.0, style=ProgressStyle(description_widt…"
      ]
     },
     "metadata": {},
     "output_type": "display_data"
    },
    {
     "name": "stdout",
     "output_type": "stream",
     "text": [
      "\n"
     ]
    },
    {
     "data": {
      "application/vnd.jupyter.widget-view+json": {
       "model_id": "45b66dfc9c484c57b606d595f09b9c05",
       "version_major": 2,
       "version_minor": 0
      },
      "text/plain": [
       "HBox(children=(FloatProgress(value=0.0, description='state 26', max=83.0, style=ProgressStyle(description_widt…"
      ]
     },
     "metadata": {},
     "output_type": "display_data"
    },
    {
     "name": "stdout",
     "output_type": "stream",
     "text": [
      "\n"
     ]
    },
    {
     "data": {
      "application/vnd.jupyter.widget-view+json": {
       "model_id": "eb1d1857456945568b9806a49a8871db",
       "version_major": 2,
       "version_minor": 0
      },
      "text/plain": [
       "HBox(children=(FloatProgress(value=0.0, description='state 27', max=87.0, style=ProgressStyle(description_widt…"
      ]
     },
     "metadata": {},
     "output_type": "display_data"
    },
    {
     "name": "stdout",
     "output_type": "stream",
     "text": [
      "\n"
     ]
    },
    {
     "data": {
      "application/vnd.jupyter.widget-view+json": {
       "model_id": "82717b827bc24967a76f82550d428d20",
       "version_major": 2,
       "version_minor": 0
      },
      "text/plain": [
       "HBox(children=(FloatProgress(value=0.0, description='state 28', max=82.0, style=ProgressStyle(description_widt…"
      ]
     },
     "metadata": {},
     "output_type": "display_data"
    },
    {
     "name": "stdout",
     "output_type": "stream",
     "text": [
      "\n"
     ]
    },
    {
     "data": {
      "application/vnd.jupyter.widget-view+json": {
       "model_id": "216ec307c7b54e298abfdd9bac5deaf5",
       "version_major": 2,
       "version_minor": 0
      },
      "text/plain": [
       "HBox(children=(FloatProgress(value=0.0, description='state 29', max=115.0, style=ProgressStyle(description_wid…"
      ]
     },
     "metadata": {},
     "output_type": "display_data"
    },
    {
     "name": "stdout",
     "output_type": "stream",
     "text": [
      "\n"
     ]
    },
    {
     "data": {
      "application/vnd.jupyter.widget-view+json": {
       "model_id": "82790c8129bb415ba3d4cc576a36525a",
       "version_major": 2,
       "version_minor": 0
      },
      "text/plain": [
       "HBox(children=(FloatProgress(value=0.0, description='state 30', max=56.0, style=ProgressStyle(description_widt…"
      ]
     },
     "metadata": {},
     "output_type": "display_data"
    },
    {
     "name": "stdout",
     "output_type": "stream",
     "text": [
      "\n"
     ]
    },
    {
     "data": {
      "application/vnd.jupyter.widget-view+json": {
       "model_id": "48956a9edd464e40858fb01bad8f0a6c",
       "version_major": 2,
       "version_minor": 0
      },
      "text/plain": [
       "HBox(children=(FloatProgress(value=0.0, description='state 31', max=93.0, style=ProgressStyle(description_widt…"
      ]
     },
     "metadata": {},
     "output_type": "display_data"
    },
    {
     "name": "stdout",
     "output_type": "stream",
     "text": [
      "\n"
     ]
    },
    {
     "data": {
      "application/vnd.jupyter.widget-view+json": {
       "model_id": "e7e6aa2ff9364d61ba2eb82a8fcbe5cf",
       "version_major": 2,
       "version_minor": 0
      },
      "text/plain": [
       "HBox(children=(FloatProgress(value=0.0, description='state 32', max=17.0, style=ProgressStyle(description_widt…"
      ]
     },
     "metadata": {},
     "output_type": "display_data"
    },
    {
     "name": "stdout",
     "output_type": "stream",
     "text": [
      "\n"
     ]
    },
    {
     "data": {
      "application/vnd.jupyter.widget-view+json": {
       "model_id": "233c462df9ca4e169de240f20d877914",
       "version_major": 2,
       "version_minor": 0
      },
      "text/plain": [
       "HBox(children=(FloatProgress(value=0.0, description='state 33', max=10.0, style=ProgressStyle(description_widt…"
      ]
     },
     "metadata": {},
     "output_type": "display_data"
    },
    {
     "name": "stdout",
     "output_type": "stream",
     "text": [
      "\n"
     ]
    },
    {
     "data": {
      "application/vnd.jupyter.widget-view+json": {
       "model_id": "ed9178cb147541fbbd78120c68643703",
       "version_major": 2,
       "version_minor": 0
      },
      "text/plain": [
       "HBox(children=(FloatProgress(value=0.0, description='state 34', max=21.0, style=ProgressStyle(description_widt…"
      ]
     },
     "metadata": {},
     "output_type": "display_data"
    },
    {
     "name": "stdout",
     "output_type": "stream",
     "text": [
      "\n"
     ]
    },
    {
     "data": {
      "application/vnd.jupyter.widget-view+json": {
       "model_id": "d7b89d24dc0746778096411415e41cec",
       "version_major": 2,
       "version_minor": 0
      },
      "text/plain": [
       "HBox(children=(FloatProgress(value=0.0, description='state 35', max=33.0, style=ProgressStyle(description_widt…"
      ]
     },
     "metadata": {},
     "output_type": "display_data"
    },
    {
     "name": "stdout",
     "output_type": "stream",
     "text": [
      "\n"
     ]
    },
    {
     "data": {
      "application/vnd.jupyter.widget-view+json": {
       "model_id": "89e5a114ce794b7bb25310127cec8a27",
       "version_major": 2,
       "version_minor": 0
      },
      "text/plain": [
       "HBox(children=(FloatProgress(value=0.0, description='state 36', max=62.0, style=ProgressStyle(description_widt…"
      ]
     },
     "metadata": {},
     "output_type": "display_data"
    },
    {
     "name": "stdout",
     "output_type": "stream",
     "text": [
      "\n"
     ]
    },
    {
     "data": {
      "application/vnd.jupyter.widget-view+json": {
       "model_id": "5022ab7918ce4187ac0f3f0e69600d1b",
       "version_major": 2,
       "version_minor": 0
      },
      "text/plain": [
       "HBox(children=(FloatProgress(value=0.0, description='state 37', style=ProgressStyle(description_width='initial…"
      ]
     },
     "metadata": {},
     "output_type": "display_data"
    },
    {
     "name": "stdout",
     "output_type": "stream",
     "text": [
      "\n"
     ]
    },
    {
     "data": {
      "application/vnd.jupyter.widget-view+json": {
       "model_id": "21fa667ef17043cfa6e384c7bd3d2c06",
       "version_major": 2,
       "version_minor": 0
      },
      "text/plain": [
       "HBox(children=(FloatProgress(value=0.0, description='state 38', max=53.0, style=ProgressStyle(description_widt…"
      ]
     },
     "metadata": {},
     "output_type": "display_data"
    },
    {
     "name": "stdout",
     "output_type": "stream",
     "text": [
      "\n"
     ]
    },
    {
     "data": {
      "application/vnd.jupyter.widget-view+json": {
       "model_id": "1328780baf174826a02c6c19889d768f",
       "version_major": 2,
       "version_minor": 0
      },
      "text/plain": [
       "HBox(children=(FloatProgress(value=0.0, description='state 39', max=88.0, style=ProgressStyle(description_widt…"
      ]
     },
     "metadata": {},
     "output_type": "display_data"
    },
    {
     "name": "stdout",
     "output_type": "stream",
     "text": [
      "\n"
     ]
    },
    {
     "data": {
      "application/vnd.jupyter.widget-view+json": {
       "model_id": "c29d03f5a2e644eface5c670af6b92a8",
       "version_major": 2,
       "version_minor": 0
      },
      "text/plain": [
       "HBox(children=(FloatProgress(value=0.0, description='state 40', max=77.0, style=ProgressStyle(description_widt…"
      ]
     },
     "metadata": {},
     "output_type": "display_data"
    },
    {
     "name": "stdout",
     "output_type": "stream",
     "text": [
      "\n"
     ]
    },
    {
     "data": {
      "application/vnd.jupyter.widget-view+json": {
       "model_id": "8935a392ea924bac89ab2ee116bc0f13",
       "version_major": 2,
       "version_minor": 0
      },
      "text/plain": [
       "HBox(children=(FloatProgress(value=0.0, description='state 41', max=36.0, style=ProgressStyle(description_widt…"
      ]
     },
     "metadata": {},
     "output_type": "display_data"
    },
    {
     "name": "stdout",
     "output_type": "stream",
     "text": [
      "\n"
     ]
    },
    {
     "data": {
      "application/vnd.jupyter.widget-view+json": {
       "model_id": "544516425f73460f9dac48dd37c3f59b",
       "version_major": 2,
       "version_minor": 0
      },
      "text/plain": [
       "HBox(children=(FloatProgress(value=0.0, description='state 42', max=67.0, style=ProgressStyle(description_widt…"
      ]
     },
     "metadata": {},
     "output_type": "display_data"
    },
    {
     "name": "stdout",
     "output_type": "stream",
     "text": [
      "\n"
     ]
    },
    {
     "data": {
      "application/vnd.jupyter.widget-view+json": {
       "model_id": "bc6aacbd2bde43d2b38aeedcefbd14c6",
       "version_major": 2,
       "version_minor": 0
      },
      "text/plain": [
       "HBox(children=(FloatProgress(value=0.0, description='state 44', max=5.0, style=ProgressStyle(description_width…"
      ]
     },
     "metadata": {},
     "output_type": "display_data"
    },
    {
     "name": "stdout",
     "output_type": "stream",
     "text": [
      "\n"
     ]
    },
    {
     "data": {
      "application/vnd.jupyter.widget-view+json": {
       "model_id": "c2b778ab9a464e06b4f05ba882f88f10",
       "version_major": 2,
       "version_minor": 0
      },
      "text/plain": [
       "HBox(children=(FloatProgress(value=0.0, description='state 45', max=46.0, style=ProgressStyle(description_widt…"
      ]
     },
     "metadata": {},
     "output_type": "display_data"
    },
    {
     "name": "stdout",
     "output_type": "stream",
     "text": [
      "\n"
     ]
    },
    {
     "data": {
      "application/vnd.jupyter.widget-view+json": {
       "model_id": "ae53e5c9a7d945f8a662ccfd7684101d",
       "version_major": 2,
       "version_minor": 0
      },
      "text/plain": [
       "HBox(children=(FloatProgress(value=0.0, description='state 46', max=67.0, style=ProgressStyle(description_widt…"
      ]
     },
     "metadata": {},
     "output_type": "display_data"
    },
    {
     "name": "stdout",
     "output_type": "stream",
     "text": [
      "Patterns file not found: /46/113 2019-12-30\n",
      "Patterns file not found: /46/113 2020-06-01\n",
      "Patterns file not found: /46/113 2020-06-08\n",
      "Patterns file not found: /46/113 2020-06-15\n",
      "Patterns file not found: /46/113 2020-06-22\n",
      "\n"
     ]
    },
    {
     "data": {
      "application/vnd.jupyter.widget-view+json": {
       "model_id": "a776d71658a04033bd1b56d4e18109dd",
       "version_major": 2,
       "version_minor": 0
      },
      "text/plain": [
       "HBox(children=(FloatProgress(value=0.0, description='state 47', max=95.0, style=ProgressStyle(description_widt…"
      ]
     },
     "metadata": {},
     "output_type": "display_data"
    },
    {
     "name": "stdout",
     "output_type": "stream",
     "text": [
      "\n"
     ]
    },
    {
     "data": {
      "application/vnd.jupyter.widget-view+json": {
       "model_id": "4993b5b1c0dd4cc7b90e7d73129844d8",
       "version_major": 2,
       "version_minor": 0
      },
      "text/plain": [
       "HBox(children=(FloatProgress(value=0.0, description='state 48', max=254.0, style=ProgressStyle(description_wid…"
      ]
     },
     "metadata": {},
     "output_type": "display_data"
    },
    {
     "name": "stdout",
     "output_type": "stream",
     "text": [
      "\n"
     ]
    },
    {
     "data": {
      "application/vnd.jupyter.widget-view+json": {
       "model_id": "5aa3d8e6b25041a38c95a8a6ce3a5e49",
       "version_major": 2,
       "version_minor": 0
      },
      "text/plain": [
       "HBox(children=(FloatProgress(value=0.0, description='state 49', max=29.0, style=ProgressStyle(description_widt…"
      ]
     },
     "metadata": {},
     "output_type": "display_data"
    },
    {
     "name": "stdout",
     "output_type": "stream",
     "text": [
      "\n"
     ]
    },
    {
     "data": {
      "application/vnd.jupyter.widget-view+json": {
       "model_id": "b34636b3a413410bb5f02635b2e4db1b",
       "version_major": 2,
       "version_minor": 0
      },
      "text/plain": [
       "HBox(children=(FloatProgress(value=0.0, description='state 50', max=14.0, style=ProgressStyle(description_widt…"
      ]
     },
     "metadata": {},
     "output_type": "display_data"
    },
    {
     "name": "stdout",
     "output_type": "stream",
     "text": [
      "\n"
     ]
    },
    {
     "data": {
      "application/vnd.jupyter.widget-view+json": {
       "model_id": "5a973e93115349509eea2fe00548b5c1",
       "version_major": 2,
       "version_minor": 0
      },
      "text/plain": [
       "HBox(children=(FloatProgress(value=0.0, description='state 51', max=134.0, style=ProgressStyle(description_wid…"
      ]
     },
     "metadata": {},
     "output_type": "display_data"
    },
    {
     "name": "stdout",
     "output_type": "stream",
     "text": [
      "Patterns file not found: /51/515 2019-12-30\n",
      "Patterns file not found: /51/515 2020-06-01\n",
      "Patterns file not found: /51/515 2020-06-08\n",
      "Patterns file not found: /51/515 2020-06-15\n",
      "Patterns file not found: /51/515 2020-06-22\n",
      "\n"
     ]
    },
    {
     "data": {
      "application/vnd.jupyter.widget-view+json": {
       "model_id": "d5bdb19487924dc7b68e7e2494931936",
       "version_major": 2,
       "version_minor": 0
      },
      "text/plain": [
       "HBox(children=(FloatProgress(value=0.0, description='state 53', max=39.0, style=ProgressStyle(description_widt…"
      ]
     },
     "metadata": {},
     "output_type": "display_data"
    },
    {
     "name": "stdout",
     "output_type": "stream",
     "text": [
      "\n"
     ]
    },
    {
     "data": {
      "application/vnd.jupyter.widget-view+json": {
       "model_id": "2c1381d7a7a6446886b70a380b7bb2be",
       "version_major": 2,
       "version_minor": 0
      },
      "text/plain": [
       "HBox(children=(FloatProgress(value=0.0, description='state 54', max=55.0, style=ProgressStyle(description_widt…"
      ]
     },
     "metadata": {},
     "output_type": "display_data"
    },
    {
     "name": "stdout",
     "output_type": "stream",
     "text": [
      "\n"
     ]
    },
    {
     "data": {
      "application/vnd.jupyter.widget-view+json": {
       "model_id": "66845c335bae4121abc4a2482a033748",
       "version_major": 2,
       "version_minor": 0
      },
      "text/plain": [
       "HBox(children=(FloatProgress(value=0.0, description='state 55', max=72.0, style=ProgressStyle(description_widt…"
      ]
     },
     "metadata": {},
     "output_type": "display_data"
    },
    {
     "name": "stdout",
     "output_type": "stream",
     "text": [
      "\n"
     ]
    },
    {
     "data": {
      "application/vnd.jupyter.widget-view+json": {
       "model_id": "3ce373b53c1f444890759b9b984a85a9",
       "version_major": 2,
       "version_minor": 0
      },
      "text/plain": [
       "HBox(children=(FloatProgress(value=0.0, description='state 56', max=23.0, style=ProgressStyle(description_widt…"
      ]
     },
     "metadata": {},
     "output_type": "display_data"
    },
    {
     "name": "stdout",
     "output_type": "stream",
     "text": [
      "\n"
     ]
    },
    {
     "data": {
      "application/vnd.jupyter.widget-view+json": {
       "model_id": "4619c3b5079748c7b53d98ecf1592c28",
       "version_major": 2,
       "version_minor": 0
      },
      "text/plain": [
       "HBox(children=(FloatProgress(value=0.0, description='state 60', max=5.0, style=ProgressStyle(description_width…"
      ]
     },
     "metadata": {},
     "output_type": "display_data"
    },
    {
     "name": "stdout",
     "output_type": "stream",
     "text": [
      "Patterns file not found: /60/020 2019-12-30\n",
      "Patterns file not found: /60/020 2020-06-01\n",
      "Patterns file not found: /60/020 2020-06-08\n",
      "Patterns file not found: /60/020 2020-06-15\n",
      "Patterns file not found: /60/020 2020-06-22\n",
      "Patterns file not found: /60/030 2019-12-30\n",
      "Patterns file not found: /60/030 2020-06-01\n",
      "Patterns file not found: /60/030 2020-06-08\n",
      "Patterns file not found: /60/030 2020-06-15\n",
      "Patterns file not found: /60/030 2020-06-22\n",
      "Patterns file not found: /60/040 2019-12-30\n",
      "Patterns file not found: /60/040 2020-06-01\n",
      "Patterns file not found: /60/040 2020-06-08\n",
      "Patterns file not found: /60/040 2020-06-15\n",
      "Patterns file not found: /60/040 2020-06-22\n",
      "\n"
     ]
    },
    {
     "data": {
      "application/vnd.jupyter.widget-view+json": {
       "model_id": "8418084fa1784e979bbfe6bb117e580f",
       "version_major": 2,
       "version_minor": 0
      },
      "text/plain": [
       "HBox(children=(FloatProgress(value=0.0, description='state 66', max=1.0, style=ProgressStyle(description_width…"
      ]
     },
     "metadata": {},
     "output_type": "display_data"
    },
    {
     "name": "stdout",
     "output_type": "stream",
     "text": [
      "\n"
     ]
    },
    {
     "data": {
      "application/vnd.jupyter.widget-view+json": {
       "model_id": "7607db1c5f434a7eb80bb4fa27f09386",
       "version_major": 2,
       "version_minor": 0
      },
      "text/plain": [
       "HBox(children=(FloatProgress(value=0.0, description='state 69', max=4.0, style=ProgressStyle(description_width…"
      ]
     },
     "metadata": {},
     "output_type": "display_data"
    },
    {
     "name": "stdout",
     "output_type": "stream",
     "text": [
      "Patterns file not found: /69/085 2019-12-30\n",
      "Patterns file not found: /69/085 2020-06-01\n",
      "Patterns file not found: /69/085 2020-06-08\n",
      "Patterns file not found: /69/085 2020-06-15\n",
      "Patterns file not found: /69/085 2020-06-22\n",
      "Patterns file not found: /69/100 2020-06-01\n",
      "Patterns file not found: /69/100 2020-06-08\n",
      "Patterns file not found: /69/100 2020-06-15\n",
      "Patterns file not found: /69/110 2019-12-30\n",
      "Patterns file not found: /69/110 2020-06-01\n",
      "Patterns file not found: /69/110 2020-06-08\n",
      "Patterns file not found: /69/110 2020-06-15\n",
      "Patterns file not found: /69/110 2020-06-22\n",
      "Patterns file not found: /69/120 2019-12-30\n",
      "Patterns file not found: /69/120 2020-06-01\n",
      "Patterns file not found: /69/120 2020-06-08\n",
      "Patterns file not found: /69/120 2020-06-15\n",
      "Patterns file not found: /69/120 2020-06-22\n",
      "\n"
     ]
    },
    {
     "data": {
      "application/vnd.jupyter.widget-view+json": {
       "model_id": "33fbb3f4b1eb49fd8a1b911b3247779a",
       "version_major": 2,
       "version_minor": 0
      },
      "text/plain": [
       "HBox(children=(FloatProgress(value=0.0, description='state 72', max=78.0, style=ProgressStyle(description_widt…"
      ]
     },
     "metadata": {},
     "output_type": "display_data"
    },
    {
     "name": "stdout",
     "output_type": "stream",
     "text": [
      "\n"
     ]
    },
    {
     "data": {
      "application/vnd.jupyter.widget-view+json": {
       "model_id": "dd14203f6b404470ab72681c9ec4e56d",
       "version_major": 2,
       "version_minor": 0
      },
      "text/plain": [
       "HBox(children=(FloatProgress(value=0.0, description='state 74', max=1.0, style=ProgressStyle(description_width…"
      ]
     },
     "metadata": {},
     "output_type": "display_data"
    },
    {
     "name": "stdout",
     "output_type": "stream",
     "text": [
      "Patterns file not found: /74/300 2019-12-30\n",
      "Patterns file not found: /74/300 2020-06-01\n",
      "Patterns file not found: /74/300 2020-06-08\n",
      "Patterns file not found: /74/300 2020-06-15\n",
      "Patterns file not found: /74/300 2020-06-22\n",
      "\n"
     ]
    },
    {
     "data": {
      "application/vnd.jupyter.widget-view+json": {
       "model_id": "e847a562a8a14ac496cc902db90bf68b",
       "version_major": 2,
       "version_minor": 0
      },
      "text/plain": [
       "HBox(children=(FloatProgress(value=0.0, description='state 78', max=3.0, style=ProgressStyle(description_width…"
      ]
     },
     "metadata": {},
     "output_type": "display_data"
    },
    {
     "name": "stdout",
     "output_type": "stream",
     "text": [
      "Patterns file not found: /78/020 2019-12-30\n",
      "Patterns file not found: /78/020 2020-06-01\n",
      "Patterns file not found: /78/020 2020-06-08\n",
      "Patterns file not found: /78/020 2020-06-15\n",
      "Patterns file not found: /78/020 2020-06-22\n",
      "Patterns file not found: /78/030 2019-12-30\n",
      "Patterns file not found: /78/030 2020-06-01\n",
      "Patterns file not found: /78/030 2020-06-08\n",
      "Patterns file not found: /78/030 2020-06-15\n",
      "Patterns file not found: /78/030 2020-06-22\n",
      "\n",
      "CPU times: user 10min 2s, sys: 54.9 s, total: 10min 56s\n",
      "Wall time: 33min 1s\n"
     ]
    }
   ],
   "source": [
    "%%time\n",
    "clean_later_patterns_data()"
   ]
  },
  {
   "cell_type": "markdown",
   "metadata": {},
   "source": [
    "---\n",
    "# Social distancing data"
   ]
  },
  {
   "cell_type": "markdown",
   "metadata": {},
   "source": [
    "## Inputs"
   ]
  },
  {
   "cell_type": "markdown",
   "metadata": {},
   "source": [
    "### Dates of interest"
   ]
  },
  {
   "cell_type": "code",
   "execution_count": 78,
   "metadata": {},
   "outputs": [],
   "source": [
    "dates = pd.date_range('2020-01-01', '2020-07-03')"
   ]
  },
  {
   "cell_type": "markdown",
   "metadata": {},
   "source": [
    "### Columns"
   ]
  },
  {
   "cell_type": "code",
   "execution_count": 76,
   "metadata": {},
   "outputs": [],
   "source": [
    "# columns to be read, along with their new names & data types\n",
    "social_dist_cols = [\n",
    "    # (original name, new name, dtype while reading, actual desired dtype)\n",
    "    ('origin_census_block_group',       'orig_cbg',             np.uint64, np.uint64),\n",
    "    # ('date_range_start',              'date_range_start',     str, str),\n",
    "    # ('date_range_end',                'date_range_end',       str, str),\n",
    "    ('device_count',                    'nDev_total',           float, np.uint16),\n",
    "    ('distance_traveled_from_home',     'med_dist',             float, np.uint32),\n",
    "    ('bucketed_distance_traveled',      'dist_vs_nDev',         str, str),\n",
    "    ('median_dwell_at_bucketed_distance_traveled', 'dist_vs_time', str, str),\n",
    "    ('completely_home_device_count',    'nDev_home',            float, np.uint16),\n",
    "    ('median_home_dwell_time',          'med_time_home',        float, np.uint16),\n",
    "    ('bucketed_home_dwell_time',        'time_home_vs_nDev',    str, str),\n",
    "    ('at_home_by_each_hour',            'nDev_home_hourly',     str, str),\n",
    "    ('part_time_work_behavior_devices', 'nDev_part_time',       float, np.uint16),\n",
    "    ('full_time_work_behavior_devices', 'nDev_full_time',       float, np.uint16),\n",
    "    ('destination_cbgs',                'dest_cbgs',            str, str),\n",
    "    ('delivery_behavior_devices',       'nDev_delivery',        float, np.uint16),\n",
    "    ('median_non_home_dwell_time',      'med_time_outside',     float, np.uint16),\n",
    "    ('candidate_device_count',          'nDev_candidate',       float, np.uint16),\n",
    "    # ('bucketed_away_from_home_time',  'time_out_vs_nDev', str, str),\n",
    "    ('median_percentage_time_home',     'med_perc_time_home',   float, np.uint8),\n",
    "    ('bucketed_percentage_time_home',   'perc_time_home_vs_nDev', str, str),\n",
    "]"
   ]
  },
  {
   "cell_type": "markdown",
   "metadata": {},
   "source": [
    "### Bucket column bins"
   ]
  },
  {
   "cell_type": "code",
   "execution_count": 77,
   "metadata": {},
   "outputs": [],
   "source": [
    "# buckets of columns to be expanded into individual columns\n",
    "social_dist_buckets = {\n",
    "    'dist_vs_nDev': ['0', '1-1000', '1001-2000', '2001-8000',\n",
    "                     '8001-16000', '16001-50000', '>50000'],\n",
    "    'dist_vs_time': ['<1000', '1001-2000', '2001-8000',\n",
    "                     '8001-16000', '16001-50000', '>50000'],\n",
    "    'time_home_vs_nDev': ['<60', '61-360', '361-720', '721-1080', '>1080'],\n",
    "    'perc_time_home_vs_nDev': ['0-25', '26-50', '51-75', '76-100', '>100']\n",
    "}"
   ]
  },
  {
   "cell_type": "markdown",
   "metadata": {},
   "source": [
    "## Functions"
   ]
  },
  {
   "cell_type": "markdown",
   "metadata": {},
   "source": [
    "`process_social_dist_data()`"
   ]
  },
  {
   "cell_type": "code",
   "execution_count": 79,
   "metadata": {},
   "outputs": [],
   "source": [
    "def process_social_dist_data(date, cols=social_dist_cols,\n",
    "                             buckets=social_dist_buckets,\n",
    "                             data_file=io['social_data_file']):\n",
    "    \"\"\"\n",
    "    Read & process the social distancing data of one date, including\n",
    "    the OD table, and save them to disk.\n",
    "    \n",
    "    @param date: <pd.datetime> date of interest\n",
    "    @param cols: <[()]> columns to be read\n",
    "    @param buckets: mapping of columns which contain data in buckets/bins\n",
    "        with the list of bucket labels (keys of the data dictionary)\n",
    "    @param data_file: <str> format string of the path of the csv.gz data file\n",
    "    @return social: <pd.df> main table of the social distancing data\n",
    "    @return od_df: <pd.df> table containing trips b/w home & nonhome CBGs\n",
    "    \"\"\"\n",
    "    date_str = date.strftime('%Y-%m-%d')\n",
    "    print('Processing', date_str)\n",
    "\n",
    "    # get the column vectors from the `cols` parameter\n",
    "    old_names, new_names, old_dtypes, new_dtypes = zip(*cols)\n",
    "\n",
    "    try:\n",
    "        # specify the raw compressed data file\n",
    "        data_file = data_file.format(date.strftime(\"%Y/%m/%d\"), date_str)\n",
    "\n",
    "        # read the data with speficied column properties\n",
    "        social = pd.read_csv(data_file, usecols=old_names, dtype=dict(\n",
    "            zip(old_names, old_dtypes))) \\\n",
    "            .rename(columns=dict(zip(old_names, new_names)))\n",
    "\n",
    "        # remove NAs & rename the columns\n",
    "        social = social.fillna(0).rename(dict(zip(old_names, new_names)))\\\n",
    "            .astype(dict(zip(new_names, new_dtypes)))\n",
    "\n",
    "        # JSONify hourly device distribution\n",
    "        social['nDev_home_hourly'] = social['nDev_home_hourly'].apply(\n",
    "            lambda x: np.array(ujson.loads(x), np.uint16))\n",
    "\n",
    "        # convert bucketed data columns to columns of their keys\n",
    "        def expand_bucket_cols(field_name, prefix):\n",
    "            try:\n",
    "                column = social.pop(field_name).apply(\n",
    "                    lambda x: {**{x: 0 for x in buckets[field_name]},\n",
    "                               **(ujson.loads(x) if x != '0' else {})}).tolist()\n",
    "                df = pd.DataFrame.from_dict(column).astype(np.uint16)\\\n",
    "                    .rename(columns=lambda x: prefix + '_' + x)\n",
    "                return df\n",
    "            # return empty frame if the column does not exist (e.g. in 2019 data)\n",
    "            except KeyError:\n",
    "                return pd.DataFrame()\n",
    "\n",
    "        # expand the bucket columns and concatenate with the social dist table\n",
    "        social = pd.concat(\n",
    "            [social,\n",
    "             expand_bucket_cols('dist_vs_nDev', 'dist'),\n",
    "             expand_bucket_cols('dist_vs_time', 'time_dist'),\n",
    "             expand_bucket_cols('time_home_vs_nDev', 'time'),\n",
    "             expand_bucket_cols('perc_time_home_vs_nDev', '%time')\n",
    "            ], axis=1)\n",
    "\n",
    "        # convert the destination CBG info into an OD table\n",
    "        od_df = process_dest_cbgs(social)\n",
    "\n",
    "        return social, od_df\n",
    "\n",
    "    except Exception as e:\n",
    "        print(e)"
   ]
  },
  {
   "cell_type": "markdown",
   "metadata": {},
   "source": [
    "`split_od_table()`"
   ]
  },
  {
   "cell_type": "code",
   "execution_count": 80,
   "metadata": {},
   "outputs": [],
   "source": [
    "def split_od_table(row):\n",
    "    \"\"\"Take a POI record from the patterns table & allocate its\n",
    "    nDevices from non-home CBGs into a dataframe\"\"\"\n",
    "    result = []\n",
    "    row_items = list(row['dest_cbgs'].items())\n",
    "    for item in row_items:\n",
    "        result.append([row['index'], row['orig_cbg'], item[0], item[1]])\n",
    "    return result\n",
    "\n",
    "#     df = pd.DataFrame.from_dict(row['dest_cbgs'], orient='index')\\\n",
    "#         .reset_index().rename(columns={0: 'nDevices', 'index': 'dest_cbg'})\n",
    "#     df['social_dist_row_id'] = row['index']\n",
    "#     df['orig_cbg'] = row['orig_cbg']\n",
    "#     od_df = od_df.append(df)"
   ]
  },
  {
   "cell_type": "markdown",
   "metadata": {},
   "source": [
    "`process_dest_cbgs()`"
   ]
  },
  {
   "cell_type": "code",
   "execution_count": 81,
   "metadata": {},
   "outputs": [],
   "source": [
    "def process_dest_cbgs(social_df):\n",
    "    \"\"\"\n",
    "    Convert the destination CBG nDevice distribution of the social distancing\n",
    "    table into a more readable dataframe format.\n",
    "    \n",
    "    @param social_df: <pd.df> social distancing data table\n",
    "    @return od_df: <pd.df> table containing processed OD data\n",
    "    \"\"\"\n",
    "    # remove the <str> destination CBG column, JSONify it & convert to dataframe\n",
    "    data = social_df.pop('dest_cbgs').apply(ujson.loads).reset_index()\n",
    "    # also add origin (home) CBG\n",
    "    data['orig_cbg'] = social_df['orig_cbg']\n",
    "\n",
    "    # # tabulate the dictionary\n",
    "    # od_df = pd.DataFrame()\n",
    "    # data.apply(split_od_table, od_df=od_df, axis=1)\n",
    "    # print(od_df.head())\n",
    "\n",
    "    # tabulate the dictionary\n",
    "    od_df = data.apply(split_od_table, axis=1).tolist()\n",
    "    od_df = [item for sublist in od_df for item in sublist]\n",
    "    od_df = pd.DataFrame(od_df, columns=[\n",
    "        'social_dist_row_id', 'orig_cbg', 'dest_cbg', 'nDevices']).astype({\n",
    "            'social_dist_row_id': np.int32,\n",
    "            'orig_cbg': np.int64,\n",
    "            'dest_cbg': np.int64,\n",
    "            'nDevices': np.int16})\n",
    "\n",
    "    return od_df"
   ]
  },
  {
   "cell_type": "markdown",
   "metadata": {},
   "source": [
    "`distribute_social_dist()`"
   ]
  },
  {
   "cell_type": "code",
   "execution_count": 82,
   "metadata": {},
   "outputs": [],
   "source": [
    "def distribute_social_dist(date):\n",
    "    \"\"\"\n",
    "    Distribute the social distancing tables of given date among counties.\n",
    "    \"\"\"\n",
    "    # get the processed social distancing tables for given date\n",
    "    social, od_df = process_social_dist_data(date)\n",
    "\n",
    "    # get the file paths for these tables\n",
    "    social_file = io['social_cnty_fpart'].format(date.strftime('%Y-%m-%d'))\n",
    "    od_file = io['social_od_cnty_fpart'].format(date.strftime('%Y-%m-%d'))\n",
    "\n",
    "    # write these tables distributed among the county folders\n",
    "    distr_by_cnty(social, social_file, cbg_col='orig_cbg')\n",
    "    distr_by_cnty(od_df, od_file, cbg_col='orig_cbg', drop_cbg=True)"
   ]
  },
  {
   "cell_type": "markdown",
   "metadata": {},
   "source": [
    "## Process social distancing data\n",
    "\n",
    "**Caution**: May take multiple hours!"
   ]
  },
  {
   "cell_type": "code",
   "execution_count": 1,
   "metadata": {},
   "outputs": [
    {
     "name": "stdout",
     "output_type": "stream",
     "text": [
      "CPU times: user 2 µs, sys: 0 ns, total: 2 µs\n",
      "Wall time: 4.05 µs\n"
     ]
    }
   ],
   "source": [
    "%%time\n",
    "# parallelize(distribute_social_dist, dates)"
   ]
  },
  {
   "cell_type": "markdown",
   "metadata": {},
   "source": [
    "---\n",
    "# COVID spread"
   ]
  },
  {
   "cell_type": "markdown",
   "metadata": {},
   "source": [
    "## $R_t$ data"
   ]
  },
  {
   "cell_type": "code",
   "execution_count": 388,
   "metadata": {},
   "outputs": [],
   "source": [
    "rt = pd.read_csv(io['rt_csv'])"
   ]
  },
  {
   "cell_type": "code",
   "execution_count": 389,
   "metadata": {},
   "outputs": [
    {
     "name": "stdout",
     "output_type": "stream",
     "text": [
      "(461362, 20)\n"
     ]
    },
    {
     "data": {
      "text/html": [
       "<div>\n",
       "<style scoped>\n",
       "    .dataframe tbody tr th:only-of-type {\n",
       "        vertical-align: middle;\n",
       "    }\n",
       "\n",
       "    .dataframe tbody tr th {\n",
       "        vertical-align: top;\n",
       "    }\n",
       "\n",
       "    .dataframe thead th {\n",
       "        text-align: right;\n",
       "    }\n",
       "</style>\n",
       "<table border=\"1\" class=\"dataframe\">\n",
       "  <thead>\n",
       "    <tr style=\"text-align: right;\">\n",
       "      <th></th>\n",
       "      <th>UID</th>\n",
       "      <th>dispID</th>\n",
       "      <th>date</th>\n",
       "      <th>resolution</th>\n",
       "      <th>date_lag</th>\n",
       "      <th>Rt_plot</th>\n",
       "      <th>Rt_upr</th>\n",
       "      <th>Rt_lwr</th>\n",
       "      <th>Rt_loess_fit</th>\n",
       "      <th>Rt_loess_lwr</th>\n",
       "      <th>Rt_loess_upr</th>\n",
       "      <th>positiveIncrease</th>\n",
       "      <th>positive</th>\n",
       "      <th>positive_7day</th>\n",
       "      <th>positive_percapita</th>\n",
       "      <th>positiveIncr_percapita</th>\n",
       "      <th>deathIncrease</th>\n",
       "      <th>death</th>\n",
       "      <th>death_percapita</th>\n",
       "      <th>deathIncr_percapita</th>\n",
       "    </tr>\n",
       "  </thead>\n",
       "  <tbody>\n",
       "    <tr>\n",
       "      <th>0</th>\n",
       "      <td>84000001</td>\n",
       "      <td>Alabama, USA</td>\n",
       "      <td>2020-03-19</td>\n",
       "      <td>state_USA</td>\n",
       "      <td>2020-03-14</td>\n",
       "      <td>3.455830</td>\n",
       "      <td>4.258437</td>\n",
       "      <td>2.736013</td>\n",
       "      <td>2.657810</td>\n",
       "      <td>2.534114</td>\n",
       "      <td>2.781506</td>\n",
       "      <td>27</td>\n",
       "      <td>78</td>\n",
       "      <td>11.142857</td>\n",
       "      <td>15.908027</td>\n",
       "      <td>5.506625</td>\n",
       "      <td>0</td>\n",
       "      <td>0</td>\n",
       "      <td>0.0</td>\n",
       "      <td>0.0</td>\n",
       "    </tr>\n",
       "    <tr>\n",
       "      <th>1</th>\n",
       "      <td>84000001</td>\n",
       "      <td>Alabama, USA</td>\n",
       "      <td>2020-03-20</td>\n",
       "      <td>state_USA</td>\n",
       "      <td>2020-03-15</td>\n",
       "      <td>3.014889</td>\n",
       "      <td>3.627448</td>\n",
       "      <td>2.458282</td>\n",
       "      <td>2.586917</td>\n",
       "      <td>2.469253</td>\n",
       "      <td>2.704581</td>\n",
       "      <td>28</td>\n",
       "      <td>106</td>\n",
       "      <td>14.428571</td>\n",
       "      <td>21.618601</td>\n",
       "      <td>5.710574</td>\n",
       "      <td>0</td>\n",
       "      <td>0</td>\n",
       "      <td>0.0</td>\n",
       "      <td>0.0</td>\n",
       "    </tr>\n",
       "  </tbody>\n",
       "</table>\n",
       "</div>"
      ],
      "text/plain": [
       "        UID        dispID        date resolution    date_lag   Rt_plot  \\\n",
       "0  84000001  Alabama, USA  2020-03-19  state_USA  2020-03-14  3.455830   \n",
       "1  84000001  Alabama, USA  2020-03-20  state_USA  2020-03-15  3.014889   \n",
       "\n",
       "     Rt_upr    Rt_lwr  Rt_loess_fit  Rt_loess_lwr  Rt_loess_upr  \\\n",
       "0  4.258437  2.736013      2.657810      2.534114      2.781506   \n",
       "1  3.627448  2.458282      2.586917      2.469253      2.704581   \n",
       "\n",
       "   positiveIncrease  positive  positive_7day  positive_percapita  \\\n",
       "0                27        78      11.142857           15.908027   \n",
       "1                28       106      14.428571           21.618601   \n",
       "\n",
       "   positiveIncr_percapita  deathIncrease  death  death_percapita  \\\n",
       "0                5.506625              0      0              0.0   \n",
       "1                5.710574              0      0              0.0   \n",
       "\n",
       "   deathIncr_percapita  \n",
       "0                  0.0  \n",
       "1                  0.0  "
      ]
     },
     "execution_count": 389,
     "metadata": {},
     "output_type": "execute_result"
    }
   ],
   "source": [
    "print(rt.shape)\n",
    "rt.head(2)"
   ]
  },
  {
   "cell_type": "code",
   "execution_count": 390,
   "metadata": {},
   "outputs": [],
   "source": [
    "rt = (rt[['UID', 'date', 'Rt_plot', 'Rt_upr', 'Rt_lwr']]\n",
    "      .rename(columns={'Rt_plot': 'Rt'}))\n",
    "rt['date'] = pd.to_datetime(rt['date'])\n",
    "rt = rt.set_index(['UID', 'date'])\n",
    "rt = rt.where(rt >= 0, np.nan).reset_index()"
   ]
  },
  {
   "cell_type": "code",
   "execution_count": 391,
   "metadata": {},
   "outputs": [
    {
     "name": "stdout",
     "output_type": "stream",
     "text": [
      "(461362, 5)\n"
     ]
    },
    {
     "data": {
      "text/html": [
       "<div>\n",
       "<style scoped>\n",
       "    .dataframe tbody tr th:only-of-type {\n",
       "        vertical-align: middle;\n",
       "    }\n",
       "\n",
       "    .dataframe tbody tr th {\n",
       "        vertical-align: top;\n",
       "    }\n",
       "\n",
       "    .dataframe thead th {\n",
       "        text-align: right;\n",
       "    }\n",
       "</style>\n",
       "<table border=\"1\" class=\"dataframe\">\n",
       "  <thead>\n",
       "    <tr style=\"text-align: right;\">\n",
       "      <th></th>\n",
       "      <th>UID</th>\n",
       "      <th>date</th>\n",
       "      <th>Rt</th>\n",
       "      <th>Rt_upr</th>\n",
       "      <th>Rt_lwr</th>\n",
       "    </tr>\n",
       "  </thead>\n",
       "  <tbody>\n",
       "    <tr>\n",
       "      <th>0</th>\n",
       "      <td>84000001</td>\n",
       "      <td>2020-03-19</td>\n",
       "      <td>3.455830</td>\n",
       "      <td>4.258437</td>\n",
       "      <td>2.736013</td>\n",
       "    </tr>\n",
       "    <tr>\n",
       "      <th>1</th>\n",
       "      <td>84000001</td>\n",
       "      <td>2020-03-20</td>\n",
       "      <td>3.014889</td>\n",
       "      <td>3.627448</td>\n",
       "      <td>2.458282</td>\n",
       "    </tr>\n",
       "  </tbody>\n",
       "</table>\n",
       "</div>"
      ],
      "text/plain": [
       "        UID       date        Rt    Rt_upr    Rt_lwr\n",
       "0  84000001 2020-03-19  3.455830  4.258437  2.736013\n",
       "1  84000001 2020-03-20  3.014889  3.627448  2.458282"
      ]
     },
     "execution_count": 391,
     "metadata": {},
     "output_type": "execute_result"
    }
   ],
   "source": [
    "print(rt.shape)\n",
    "rt.head(2)"
   ]
  },
  {
   "cell_type": "markdown",
   "metadata": {},
   "source": [
    "## Confirmed cases"
   ]
  },
  {
   "cell_type": "code",
   "execution_count": 392,
   "metadata": {},
   "outputs": [],
   "source": [
    "cases = pd.read_csv(io['confirmed_csv'])"
   ]
  },
  {
   "cell_type": "code",
   "execution_count": 393,
   "metadata": {},
   "outputs": [
    {
     "name": "stdout",
     "output_type": "stream",
     "text": [
      "(3340, 214)\n"
     ]
    },
    {
     "data": {
      "text/html": [
       "<div>\n",
       "<style scoped>\n",
       "    .dataframe tbody tr th:only-of-type {\n",
       "        vertical-align: middle;\n",
       "    }\n",
       "\n",
       "    .dataframe tbody tr th {\n",
       "        vertical-align: top;\n",
       "    }\n",
       "\n",
       "    .dataframe thead th {\n",
       "        text-align: right;\n",
       "    }\n",
       "</style>\n",
       "<table border=\"1\" class=\"dataframe\">\n",
       "  <thead>\n",
       "    <tr style=\"text-align: right;\">\n",
       "      <th></th>\n",
       "      <th>UID</th>\n",
       "      <th>iso2</th>\n",
       "      <th>iso3</th>\n",
       "      <th>code3</th>\n",
       "      <th>FIPS</th>\n",
       "      <th>Admin2</th>\n",
       "      <th>Province_State</th>\n",
       "      <th>Country_Region</th>\n",
       "      <th>Lat</th>\n",
       "      <th>Long_</th>\n",
       "      <th>...</th>\n",
       "      <th>8/2/20</th>\n",
       "      <th>8/3/20</th>\n",
       "      <th>8/4/20</th>\n",
       "      <th>8/5/20</th>\n",
       "      <th>8/6/20</th>\n",
       "      <th>8/7/20</th>\n",
       "      <th>8/8/20</th>\n",
       "      <th>8/9/20</th>\n",
       "      <th>8/10/20</th>\n",
       "      <th>8/11/20</th>\n",
       "    </tr>\n",
       "  </thead>\n",
       "  <tbody>\n",
       "    <tr>\n",
       "      <th>0</th>\n",
       "      <td>16</td>\n",
       "      <td>AS</td>\n",
       "      <td>ASM</td>\n",
       "      <td>16</td>\n",
       "      <td>60.0</td>\n",
       "      <td>NaN</td>\n",
       "      <td>American Samoa</td>\n",
       "      <td>US</td>\n",
       "      <td>-14.2710</td>\n",
       "      <td>-170.1320</td>\n",
       "      <td>...</td>\n",
       "      <td>0</td>\n",
       "      <td>0</td>\n",
       "      <td>0</td>\n",
       "      <td>0</td>\n",
       "      <td>0</td>\n",
       "      <td>0</td>\n",
       "      <td>0</td>\n",
       "      <td>0</td>\n",
       "      <td>0</td>\n",
       "      <td>0</td>\n",
       "    </tr>\n",
       "    <tr>\n",
       "      <th>1</th>\n",
       "      <td>316</td>\n",
       "      <td>GU</td>\n",
       "      <td>GUM</td>\n",
       "      <td>316</td>\n",
       "      <td>66.0</td>\n",
       "      <td>NaN</td>\n",
       "      <td>Guam</td>\n",
       "      <td>US</td>\n",
       "      <td>13.4443</td>\n",
       "      <td>144.7937</td>\n",
       "      <td>...</td>\n",
       "      <td>368</td>\n",
       "      <td>375</td>\n",
       "      <td>389</td>\n",
       "      <td>397</td>\n",
       "      <td>411</td>\n",
       "      <td>411</td>\n",
       "      <td>411</td>\n",
       "      <td>418</td>\n",
       "      <td>418</td>\n",
       "      <td>449</td>\n",
       "    </tr>\n",
       "  </tbody>\n",
       "</table>\n",
       "<p>2 rows × 214 columns</p>\n",
       "</div>"
      ],
      "text/plain": [
       "   UID iso2 iso3  code3  FIPS Admin2  Province_State Country_Region      Lat  \\\n",
       "0   16   AS  ASM     16  60.0    NaN  American Samoa             US -14.2710   \n",
       "1  316   GU  GUM    316  66.0    NaN            Guam             US  13.4443   \n",
       "\n",
       "      Long_  ... 8/2/20  8/3/20  8/4/20  8/5/20  8/6/20  8/7/20  8/8/20  \\\n",
       "0 -170.1320  ...      0       0       0       0       0       0       0   \n",
       "1  144.7937  ...    368     375     389     397     411     411     411   \n",
       "\n",
       "   8/9/20  8/10/20  8/11/20  \n",
       "0       0        0        0  \n",
       "1     418      418      449  \n",
       "\n",
       "[2 rows x 214 columns]"
      ]
     },
     "execution_count": 393,
     "metadata": {},
     "output_type": "execute_result"
    }
   ],
   "source": [
    "print(cases.shape)\n",
    "cases.head(2)"
   ]
  },
  {
   "cell_type": "code",
   "execution_count": 394,
   "metadata": {},
   "outputs": [],
   "source": [
    "cases = cases.set_index('UID').filter(regex=r'^[0-9]', axis=1)\n",
    "cases = (pd.DataFrame({\n",
    "    'UID': cases.index.repeat(cases.shape[1]),\n",
    "    'date': pd.to_datetime(np.tile(\n",
    "        cases.columns, cases.shape[0]), format='%m/%d/%y'),\n",
    "    'tot_cases': cases.values.flatten(),\n",
    "    'new_cases': cases.T.diff().T.values.flatten()\n",
    "}))"
   ]
  },
  {
   "cell_type": "code",
   "execution_count": 395,
   "metadata": {},
   "outputs": [
    {
     "name": "stdout",
     "output_type": "stream",
     "text": [
      "(678020, 4)\n"
     ]
    },
    {
     "data": {
      "text/html": [
       "<div>\n",
       "<style scoped>\n",
       "    .dataframe tbody tr th:only-of-type {\n",
       "        vertical-align: middle;\n",
       "    }\n",
       "\n",
       "    .dataframe tbody tr th {\n",
       "        vertical-align: top;\n",
       "    }\n",
       "\n",
       "    .dataframe thead th {\n",
       "        text-align: right;\n",
       "    }\n",
       "</style>\n",
       "<table border=\"1\" class=\"dataframe\">\n",
       "  <thead>\n",
       "    <tr style=\"text-align: right;\">\n",
       "      <th></th>\n",
       "      <th>UID</th>\n",
       "      <th>date</th>\n",
       "      <th>tot_cases</th>\n",
       "      <th>new_cases</th>\n",
       "    </tr>\n",
       "  </thead>\n",
       "  <tbody>\n",
       "    <tr>\n",
       "      <th>0</th>\n",
       "      <td>16</td>\n",
       "      <td>2020-01-22</td>\n",
       "      <td>0</td>\n",
       "      <td>NaN</td>\n",
       "    </tr>\n",
       "    <tr>\n",
       "      <th>1</th>\n",
       "      <td>16</td>\n",
       "      <td>2020-01-23</td>\n",
       "      <td>0</td>\n",
       "      <td>0.0</td>\n",
       "    </tr>\n",
       "  </tbody>\n",
       "</table>\n",
       "</div>"
      ],
      "text/plain": [
       "   UID       date  tot_cases  new_cases\n",
       "0   16 2020-01-22          0        NaN\n",
       "1   16 2020-01-23          0        0.0"
      ]
     },
     "execution_count": 395,
     "metadata": {},
     "output_type": "execute_result"
    }
   ],
   "source": [
    "print(cases.shape)\n",
    "cases.head(2)"
   ]
  },
  {
   "cell_type": "markdown",
   "metadata": {},
   "source": [
    "### Deaths data"
   ]
  },
  {
   "cell_type": "code",
   "execution_count": 396,
   "metadata": {},
   "outputs": [],
   "source": [
    "deaths = pd.read_csv(io['deaths_csv'])"
   ]
  },
  {
   "cell_type": "code",
   "execution_count": 397,
   "metadata": {},
   "outputs": [
    {
     "name": "stdout",
     "output_type": "stream",
     "text": [
      "(3340, 215)\n"
     ]
    },
    {
     "data": {
      "text/html": [
       "<div>\n",
       "<style scoped>\n",
       "    .dataframe tbody tr th:only-of-type {\n",
       "        vertical-align: middle;\n",
       "    }\n",
       "\n",
       "    .dataframe tbody tr th {\n",
       "        vertical-align: top;\n",
       "    }\n",
       "\n",
       "    .dataframe thead th {\n",
       "        text-align: right;\n",
       "    }\n",
       "</style>\n",
       "<table border=\"1\" class=\"dataframe\">\n",
       "  <thead>\n",
       "    <tr style=\"text-align: right;\">\n",
       "      <th></th>\n",
       "      <th>UID</th>\n",
       "      <th>iso2</th>\n",
       "      <th>iso3</th>\n",
       "      <th>code3</th>\n",
       "      <th>FIPS</th>\n",
       "      <th>Admin2</th>\n",
       "      <th>Province_State</th>\n",
       "      <th>Country_Region</th>\n",
       "      <th>Lat</th>\n",
       "      <th>Long_</th>\n",
       "      <th>...</th>\n",
       "      <th>8/2/20</th>\n",
       "      <th>8/3/20</th>\n",
       "      <th>8/4/20</th>\n",
       "      <th>8/5/20</th>\n",
       "      <th>8/6/20</th>\n",
       "      <th>8/7/20</th>\n",
       "      <th>8/8/20</th>\n",
       "      <th>8/9/20</th>\n",
       "      <th>8/10/20</th>\n",
       "      <th>8/11/20</th>\n",
       "    </tr>\n",
       "  </thead>\n",
       "  <tbody>\n",
       "    <tr>\n",
       "      <th>0</th>\n",
       "      <td>16</td>\n",
       "      <td>AS</td>\n",
       "      <td>ASM</td>\n",
       "      <td>16</td>\n",
       "      <td>60.0</td>\n",
       "      <td>NaN</td>\n",
       "      <td>American Samoa</td>\n",
       "      <td>US</td>\n",
       "      <td>-14.2710</td>\n",
       "      <td>-170.1320</td>\n",
       "      <td>...</td>\n",
       "      <td>0</td>\n",
       "      <td>0</td>\n",
       "      <td>0</td>\n",
       "      <td>0</td>\n",
       "      <td>0</td>\n",
       "      <td>0</td>\n",
       "      <td>0</td>\n",
       "      <td>0</td>\n",
       "      <td>0</td>\n",
       "      <td>0</td>\n",
       "    </tr>\n",
       "    <tr>\n",
       "      <th>1</th>\n",
       "      <td>316</td>\n",
       "      <td>GU</td>\n",
       "      <td>GUM</td>\n",
       "      <td>316</td>\n",
       "      <td>66.0</td>\n",
       "      <td>NaN</td>\n",
       "      <td>Guam</td>\n",
       "      <td>US</td>\n",
       "      <td>13.4443</td>\n",
       "      <td>144.7937</td>\n",
       "      <td>...</td>\n",
       "      <td>5</td>\n",
       "      <td>5</td>\n",
       "      <td>5</td>\n",
       "      <td>5</td>\n",
       "      <td>5</td>\n",
       "      <td>5</td>\n",
       "      <td>5</td>\n",
       "      <td>5</td>\n",
       "      <td>5</td>\n",
       "      <td>5</td>\n",
       "    </tr>\n",
       "  </tbody>\n",
       "</table>\n",
       "<p>2 rows × 215 columns</p>\n",
       "</div>"
      ],
      "text/plain": [
       "   UID iso2 iso3  code3  FIPS Admin2  Province_State Country_Region      Lat  \\\n",
       "0   16   AS  ASM     16  60.0    NaN  American Samoa             US -14.2710   \n",
       "1  316   GU  GUM    316  66.0    NaN            Guam             US  13.4443   \n",
       "\n",
       "      Long_  ... 8/2/20  8/3/20  8/4/20  8/5/20  8/6/20  8/7/20  8/8/20  \\\n",
       "0 -170.1320  ...      0       0       0       0       0       0       0   \n",
       "1  144.7937  ...      5       5       5       5       5       5       5   \n",
       "\n",
       "   8/9/20  8/10/20  8/11/20  \n",
       "0       0        0        0  \n",
       "1       5        5        5  \n",
       "\n",
       "[2 rows x 215 columns]"
      ]
     },
     "execution_count": 397,
     "metadata": {},
     "output_type": "execute_result"
    }
   ],
   "source": [
    "print(deaths.shape)\n",
    "deaths.head(2)"
   ]
  },
  {
   "cell_type": "code",
   "execution_count": 398,
   "metadata": {},
   "outputs": [],
   "source": [
    "deaths = deaths.set_index('UID').filter(regex=r'^[0-9]', axis=1)\n",
    "deaths = (pd.DataFrame({\n",
    "    'UID': deaths.index.repeat(deaths.shape[1]),\n",
    "    'date': pd.to_datetime(np.tile(\n",
    "        deaths.columns, deaths.shape[0]), format='%m/%d/%y'),\n",
    "    'tot_deaths': deaths.values.flatten(),\n",
    "    'new_deaths': deaths.T.diff().T.values.flatten()\n",
    "}))"
   ]
  },
  {
   "cell_type": "code",
   "execution_count": 400,
   "metadata": {},
   "outputs": [
    {
     "name": "stdout",
     "output_type": "stream",
     "text": [
      "(678020, 4)\n"
     ]
    },
    {
     "data": {
      "text/html": [
       "<div>\n",
       "<style scoped>\n",
       "    .dataframe tbody tr th:only-of-type {\n",
       "        vertical-align: middle;\n",
       "    }\n",
       "\n",
       "    .dataframe tbody tr th {\n",
       "        vertical-align: top;\n",
       "    }\n",
       "\n",
       "    .dataframe thead th {\n",
       "        text-align: right;\n",
       "    }\n",
       "</style>\n",
       "<table border=\"1\" class=\"dataframe\">\n",
       "  <thead>\n",
       "    <tr style=\"text-align: right;\">\n",
       "      <th></th>\n",
       "      <th>UID</th>\n",
       "      <th>date</th>\n",
       "      <th>tot_deaths</th>\n",
       "      <th>new_deaths</th>\n",
       "    </tr>\n",
       "  </thead>\n",
       "  <tbody>\n",
       "    <tr>\n",
       "      <th>0</th>\n",
       "      <td>16</td>\n",
       "      <td>2020-01-22</td>\n",
       "      <td>0</td>\n",
       "      <td>NaN</td>\n",
       "    </tr>\n",
       "    <tr>\n",
       "      <th>1</th>\n",
       "      <td>16</td>\n",
       "      <td>2020-01-23</td>\n",
       "      <td>0</td>\n",
       "      <td>0.0</td>\n",
       "    </tr>\n",
       "  </tbody>\n",
       "</table>\n",
       "</div>"
      ],
      "text/plain": [
       "   UID       date  tot_deaths  new_deaths\n",
       "0   16 2020-01-22           0         NaN\n",
       "1   16 2020-01-23           0         0.0"
      ]
     },
     "execution_count": 400,
     "metadata": {},
     "output_type": "execute_result"
    }
   ],
   "source": [
    "print(deaths.shape)\n",
    "deaths.head(2)"
   ]
  },
  {
   "cell_type": "markdown",
   "metadata": {},
   "source": [
    "## Distribute data"
   ]
  },
  {
   "cell_type": "code",
   "execution_count": 413,
   "metadata": {},
   "outputs": [
    {
     "name": "stdout",
     "output_type": "stream",
     "text": [
      "CPU times: user 17.1 s, sys: 13.5 s, total: 30.6 s\n",
      "Wall time: 1min 54s\n"
     ]
    }
   ],
   "source": [
    "%%time\n",
    "def distr_covid_spread_data(rt, cases, deaths):\n",
    "    # combine the three tables\n",
    "    df = rt.merge(\n",
    "        cases.merge(deaths, on=['UID', 'date']),\n",
    "        'outer', on=['UID', 'date'])\n",
    "    \n",
    "    # filter only USA (whose UID = 840) & county FIPS\n",
    "    df['UID'] = (df['UID'] % 1e5).astype(int)\n",
    "    df.insert(0, 'state', (df['UID'] // 1e3).astype(int))\n",
    "    df.insert(1, 'cnty', (df['UID'] % 1e3).astype(int))\n",
    "    df = df.query('state > 0 & cnty > 0').drop(columns=['UID'])\n",
    "\n",
    "    # distribute it over counties\n",
    "    distr_by_cnty(df, 'rt', ftype='csv')\n",
    "    \n",
    "distr_covid_spread_data(rt, cases, deaths)"
   ]
  }
 ],
 "metadata": {
  "kernelspec": {
   "display_name": "Python 3",
   "language": "python",
   "name": "python3"
  },
  "language_info": {
   "codemirror_mode": {
    "name": "ipython",
    "version": 3
   },
   "file_extension": ".py",
   "mimetype": "text/x-python",
   "name": "python",
   "nbconvert_exporter": "python",
   "pygments_lexer": "ipython3",
   "version": "3.8.6"
  }
 },
 "nbformat": 4,
 "nbformat_minor": 4
}
